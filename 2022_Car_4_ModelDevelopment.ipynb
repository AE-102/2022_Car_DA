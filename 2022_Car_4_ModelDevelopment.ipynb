{
 "cells": [
  {
   "cell_type": "markdown",
   "id": "dc81346b-5e7c-43b7-a81f-597c95edb4ac",
   "metadata": {},
   "source": [
    "# Model Development"
   ]
  },
  {
   "cell_type": "code",
   "execution_count": 1,
   "id": "17314790-8388-4815-b214-f2c5dfebb0fe",
   "metadata": {},
   "outputs": [],
   "source": [
    "import pandas as pd\n",
    "import numpy as np\n",
    "import matplotlib.pyplot as plt"
   ]
  },
  {
   "cell_type": "code",
   "execution_count": 2,
   "id": "7b942769-38e0-4934-9d44-b583d7e005fe",
   "metadata": {},
   "outputs": [],
   "source": [
    "df = pd.read_csv(\"20230101_automobile_wrangling.csv\")"
   ]
  },
  {
   "cell_type": "code",
   "execution_count": 55,
   "id": "57db1282-2b3f-47b7-b542-d3f8df02c085",
   "metadata": {},
   "outputs": [
    {
     "data": {
      "text/html": [
       "<div>\n",
       "<style scoped>\n",
       "    .dataframe tbody tr th:only-of-type {\n",
       "        vertical-align: middle;\n",
       "    }\n",
       "\n",
       "    .dataframe tbody tr th {\n",
       "        vertical-align: top;\n",
       "    }\n",
       "\n",
       "    .dataframe thead th {\n",
       "        text-align: right;\n",
       "    }\n",
       "</style>\n",
       "<table border=\"1\" class=\"dataframe\">\n",
       "  <thead>\n",
       "    <tr style=\"text-align: right;\">\n",
       "      <th></th>\n",
       "      <th>Unnamed:_0</th>\n",
       "      <th>symboling</th>\n",
       "      <th>normalized-losses</th>\n",
       "      <th>make</th>\n",
       "      <th>num-of-doors</th>\n",
       "      <th>body-style</th>\n",
       "      <th>drive-wheels</th>\n",
       "      <th>engine-location</th>\n",
       "      <th>wheel-base</th>\n",
       "      <th>length</th>\n",
       "      <th>...</th>\n",
       "      <th>peak-rpm</th>\n",
       "      <th>city-mpg</th>\n",
       "      <th>highway-L/100km</th>\n",
       "      <th>price</th>\n",
       "      <th>city-L/100Km</th>\n",
       "      <th>horsepower-binned</th>\n",
       "      <th>fuel-type-diesel</th>\n",
       "      <th>fuel-type-gas</th>\n",
       "      <th>aspiration-std</th>\n",
       "      <th>aspiration-turbo</th>\n",
       "    </tr>\n",
       "  </thead>\n",
       "  <tbody>\n",
       "    <tr>\n",
       "      <th>0</th>\n",
       "      <td>0</td>\n",
       "      <td>3</td>\n",
       "      <td>122</td>\n",
       "      <td>alfa-romero</td>\n",
       "      <td>two</td>\n",
       "      <td>convertible</td>\n",
       "      <td>rwd</td>\n",
       "      <td>front</td>\n",
       "      <td>88.6</td>\n",
       "      <td>0.811148</td>\n",
       "      <td>...</td>\n",
       "      <td>5000.0</td>\n",
       "      <td>21</td>\n",
       "      <td>8.703704</td>\n",
       "      <td>13495.0</td>\n",
       "      <td>11.190476</td>\n",
       "      <td>Low</td>\n",
       "      <td>0</td>\n",
       "      <td>1</td>\n",
       "      <td>1</td>\n",
       "      <td>0</td>\n",
       "    </tr>\n",
       "    <tr>\n",
       "      <th>1</th>\n",
       "      <td>1</td>\n",
       "      <td>3</td>\n",
       "      <td>122</td>\n",
       "      <td>alfa-romero</td>\n",
       "      <td>two</td>\n",
       "      <td>convertible</td>\n",
       "      <td>rwd</td>\n",
       "      <td>front</td>\n",
       "      <td>88.6</td>\n",
       "      <td>0.811148</td>\n",
       "      <td>...</td>\n",
       "      <td>5000.0</td>\n",
       "      <td>21</td>\n",
       "      <td>8.703704</td>\n",
       "      <td>16500.0</td>\n",
       "      <td>11.190476</td>\n",
       "      <td>Low</td>\n",
       "      <td>0</td>\n",
       "      <td>1</td>\n",
       "      <td>1</td>\n",
       "      <td>0</td>\n",
       "    </tr>\n",
       "    <tr>\n",
       "      <th>2</th>\n",
       "      <td>2</td>\n",
       "      <td>1</td>\n",
       "      <td>122</td>\n",
       "      <td>alfa-romero</td>\n",
       "      <td>two</td>\n",
       "      <td>hatchback</td>\n",
       "      <td>rwd</td>\n",
       "      <td>front</td>\n",
       "      <td>94.5</td>\n",
       "      <td>0.822681</td>\n",
       "      <td>...</td>\n",
       "      <td>5000.0</td>\n",
       "      <td>19</td>\n",
       "      <td>9.038462</td>\n",
       "      <td>16500.0</td>\n",
       "      <td>12.368421</td>\n",
       "      <td>Medium</td>\n",
       "      <td>0</td>\n",
       "      <td>1</td>\n",
       "      <td>1</td>\n",
       "      <td>0</td>\n",
       "    </tr>\n",
       "    <tr>\n",
       "      <th>3</th>\n",
       "      <td>3</td>\n",
       "      <td>2</td>\n",
       "      <td>164</td>\n",
       "      <td>audi</td>\n",
       "      <td>four</td>\n",
       "      <td>sedan</td>\n",
       "      <td>fwd</td>\n",
       "      <td>front</td>\n",
       "      <td>99.8</td>\n",
       "      <td>0.848630</td>\n",
       "      <td>...</td>\n",
       "      <td>5500.0</td>\n",
       "      <td>24</td>\n",
       "      <td>7.833333</td>\n",
       "      <td>13950.0</td>\n",
       "      <td>9.791667</td>\n",
       "      <td>Low</td>\n",
       "      <td>0</td>\n",
       "      <td>1</td>\n",
       "      <td>1</td>\n",
       "      <td>0</td>\n",
       "    </tr>\n",
       "    <tr>\n",
       "      <th>4</th>\n",
       "      <td>4</td>\n",
       "      <td>2</td>\n",
       "      <td>164</td>\n",
       "      <td>audi</td>\n",
       "      <td>four</td>\n",
       "      <td>sedan</td>\n",
       "      <td>4wd</td>\n",
       "      <td>front</td>\n",
       "      <td>99.4</td>\n",
       "      <td>0.848630</td>\n",
       "      <td>...</td>\n",
       "      <td>5500.0</td>\n",
       "      <td>18</td>\n",
       "      <td>10.681818</td>\n",
       "      <td>17450.0</td>\n",
       "      <td>13.055556</td>\n",
       "      <td>Low</td>\n",
       "      <td>0</td>\n",
       "      <td>1</td>\n",
       "      <td>1</td>\n",
       "      <td>0</td>\n",
       "    </tr>\n",
       "  </tbody>\n",
       "</table>\n",
       "<p>5 rows × 31 columns</p>\n",
       "</div>"
      ],
      "text/plain": [
       "   Unnamed:_0  symboling  normalized-losses         make num-of-doors  \\\n",
       "0           0          3                122  alfa-romero          two   \n",
       "1           1          3                122  alfa-romero          two   \n",
       "2           2          1                122  alfa-romero          two   \n",
       "3           3          2                164         audi         four   \n",
       "4           4          2                164         audi         four   \n",
       "\n",
       "    body-style drive-wheels engine-location  wheel-base    length  ...  \\\n",
       "0  convertible          rwd           front        88.6  0.811148  ...   \n",
       "1  convertible          rwd           front        88.6  0.811148  ...   \n",
       "2    hatchback          rwd           front        94.5  0.822681  ...   \n",
       "3        sedan          fwd           front        99.8  0.848630  ...   \n",
       "4        sedan          4wd           front        99.4  0.848630  ...   \n",
       "\n",
       "   peak-rpm  city-mpg  highway-L/100km    price city-L/100Km  \\\n",
       "0    5000.0        21         8.703704  13495.0    11.190476   \n",
       "1    5000.0        21         8.703704  16500.0    11.190476   \n",
       "2    5000.0        19         9.038462  16500.0    12.368421   \n",
       "3    5500.0        24         7.833333  13950.0     9.791667   \n",
       "4    5500.0        18        10.681818  17450.0    13.055556   \n",
       "\n",
       "   horsepower-binned fuel-type-diesel  fuel-type-gas  aspiration-std  \\\n",
       "0                Low                0              1               1   \n",
       "1                Low                0              1               1   \n",
       "2             Medium                0              1               1   \n",
       "3                Low                0              1               1   \n",
       "4                Low                0              1               1   \n",
       "\n",
       "   aspiration-turbo  \n",
       "0                 0  \n",
       "1                 0  \n",
       "2                 0  \n",
       "3                 0  \n",
       "4                 0  \n",
       "\n",
       "[5 rows x 31 columns]"
      ]
     },
     "execution_count": 55,
     "metadata": {},
     "output_type": "execute_result"
    }
   ],
   "source": [
    "df.head()"
   ]
  },
  {
   "cell_type": "markdown",
   "id": "297f4807-dd2f-42f3-86e7-bd0c80ce737c",
   "metadata": {},
   "source": [
    "## Linear and Multiple Linear Regression"
   ]
  },
  {
   "cell_type": "code",
   "execution_count": 5,
   "id": "66506d4c-b701-40c8-88ff-14ee1f427731",
   "metadata": {},
   "outputs": [],
   "source": [
    "from sklearn.linear_model import LinearRegression"
   ]
  },
  {
   "cell_type": "code",
   "execution_count": 6,
   "id": "44d76034-388f-4e0b-b4bf-318e02faee6c",
   "metadata": {},
   "outputs": [],
   "source": [
    "lm  = LinearRegression()"
   ]
  },
  {
   "cell_type": "code",
   "execution_count": 8,
   "id": "afa74fd4-b35d-47cb-a422-50d96de89cdd",
   "metadata": {},
   "outputs": [],
   "source": [
    "X = df.filter(regex='highway-L/100')\n",
    "# X = df[['highway-L/100Km']] \n",
    "# Showing error ??"
   ]
  },
  {
   "cell_type": "code",
   "execution_count": 11,
   "id": "0fd950ad-154e-4c71-994e-3caafe25c2c0",
   "metadata": {},
   "outputs": [],
   "source": [
    "Y = df['price']"
   ]
  },
  {
   "cell_type": "code",
   "execution_count": 12,
   "id": "a31cdf77-7ae2-40aa-98a3-6565df8b32c5",
   "metadata": {},
   "outputs": [
    {
     "data": {
      "text/plain": [
       "(201, 1)"
      ]
     },
     "execution_count": 12,
     "metadata": {},
     "output_type": "execute_result"
    }
   ],
   "source": [
    "X.shape"
   ]
  },
  {
   "cell_type": "code",
   "execution_count": 30,
   "id": "4edc4456-05dd-4787-9935-68f348230e8a",
   "metadata": {},
   "outputs": [
    {
     "data": {
      "text/plain": [
       "LinearRegression()"
      ]
     },
     "execution_count": 30,
     "metadata": {},
     "output_type": "execute_result"
    }
   ],
   "source": [
    "lm.fit(X,Y)"
   ]
  },
  {
   "cell_type": "code",
   "execution_count": 32,
   "id": "c7d24483-5294-4ebb-86ac-853bcb70710e",
   "metadata": {},
   "outputs": [],
   "source": [
    "Yhat = lm.predict(X)"
   ]
  },
  {
   "cell_type": "code",
   "execution_count": 33,
   "id": "5c60270c-78dd-43f8-aa98-8001d8156ec9",
   "metadata": {},
   "outputs": [
    {
     "data": {
      "text/plain": [
       "numpy.ndarray"
      ]
     },
     "execution_count": 33,
     "metadata": {},
     "output_type": "execute_result"
    }
   ],
   "source": [
    "type(Yhat)"
   ]
  },
  {
   "cell_type": "code",
   "execution_count": 34,
   "id": "dbc56fa6-2089-47da-9348-63285d4de22b",
   "metadata": {},
   "outputs": [
    {
     "data": {
      "text/plain": [
       "array([15485.52737455, 15485.52737455, 16643.34931414, 12475.19033163,\n",
       "       22327.2024721 ])"
      ]
     },
     "execution_count": 34,
     "metadata": {},
     "output_type": "execute_result"
    }
   ],
   "source": [
    "Yhat[0:5]"
   ]
  },
  {
   "cell_type": "code",
   "execution_count": 35,
   "id": "d731935d-e75b-4cb0-95c5-daedc936e0a5",
   "metadata": {},
   "outputs": [
    {
     "data": {
      "text/plain": [
       "array([3458.68511314])"
      ]
     },
     "execution_count": 35,
     "metadata": {},
     "output_type": "execute_result"
    }
   ],
   "source": [
    "lm.coef_"
   ]
  },
  {
   "cell_type": "code",
   "execution_count": 27,
   "id": "6f10e659-8030-452e-871d-86faffcfdbd6",
   "metadata": {},
   "outputs": [
    {
     "data": {
      "text/plain": [
       "-64384.436327421616"
      ]
     },
     "execution_count": 27,
     "metadata": {},
     "output_type": "execute_result"
    }
   ],
   "source": [
    "lm.intercept_"
   ]
  },
  {
   "cell_type": "code",
   "execution_count": 38,
   "id": "fae1bc50-868a-4b8c-a01b-f9a77fa2e712",
   "metadata": {},
   "outputs": [
    {
     "name": "stdout",
     "output_type": "stream",
     "text": [
      "[-7963.33890628]\n"
     ]
    }
   ],
   "source": [
    "lm1 = LinearRegression()\n",
    "lm1.fit(df[['engine-size']], df[['price']])\n",
    "print(lm1.intercept_)"
   ]
  },
  {
   "cell_type": "code",
   "execution_count": 39,
   "id": "01d6eaaa-38d7-4f91-8192-6cd75ed1f2a6",
   "metadata": {},
   "outputs": [
    {
     "data": {
      "text/plain": [
       "array([[166.86001569]])"
      ]
     },
     "execution_count": 39,
     "metadata": {},
     "output_type": "execute_result"
    }
   ],
   "source": [
    "lm1.coef_"
   ]
  },
  {
   "cell_type": "markdown",
   "id": "1dc75b5e-8468-4426-967b-411c0f81fe7d",
   "metadata": {},
   "source": [
    "Multiple Linear"
   ]
  },
  {
   "cell_type": "code",
   "execution_count": 57,
   "id": "9d2b106a-b1a4-4c24-aeeb-79aa8b61b7a7",
   "metadata": {},
   "outputs": [],
   "source": [
    "Z = df[['horsepower','curb-weight','engine-size','highway-L/100km']]"
   ]
  },
  {
   "cell_type": "code",
   "execution_count": 58,
   "id": "bf78c752-c7d1-4d04-b47b-3519df33f3fc",
   "metadata": {},
   "outputs": [
    {
     "data": {
      "text/plain": [
       "LinearRegression()"
      ]
     },
     "execution_count": 58,
     "metadata": {},
     "output_type": "execute_result"
    }
   ],
   "source": [
    "lm.fit(Z, df['price'])"
   ]
  },
  {
   "cell_type": "code",
   "execution_count": 59,
   "id": "aebc031b-9824-42ce-879d-e4f92d452b0e",
   "metadata": {},
   "outputs": [
    {
     "data": {
      "text/plain": [
       "-14383.535206928053"
      ]
     },
     "execution_count": 59,
     "metadata": {},
     "output_type": "execute_result"
    }
   ],
   "source": [
    "lm.intercept_"
   ]
  },
  {
   "cell_type": "code",
   "execution_count": 60,
   "id": "128cd71c-9b5a-4a0b-841e-6624e1577e66",
   "metadata": {},
   "outputs": [
    {
     "data": {
      "text/plain": [
       "array([ 36.71264156,   3.50108045,  85.34516358, 499.5518178 ])"
      ]
     },
     "execution_count": 60,
     "metadata": {},
     "output_type": "execute_result"
    }
   ],
   "source": [
    "lm.coef_"
   ]
  },
  {
   "cell_type": "code",
   "execution_count": 62,
   "id": "8cf121f0-787b-414b-bc7f-29ad573cb71a",
   "metadata": {},
   "outputs": [
    {
     "data": {
      "text/plain": [
       "array([-2.86467994e+00,  3.46770737e+03])"
      ]
     },
     "execution_count": 62,
     "metadata": {},
     "output_type": "execute_result"
    }
   ],
   "source": [
    "lm2 = LinearRegression()\n",
    "lm2.fit(df[['normalized-losses' , 'highway-L/100km']],df['price'])\n",
    "lm2.coef_\n"
   ]
  },
  {
   "cell_type": "markdown",
   "id": "1ab2f84f-52f6-4366-9ec4-2be26e359597",
   "metadata": {},
   "source": [
    "## Model Evaluation Using Visualization"
   ]
  },
  {
   "cell_type": "code",
   "execution_count": 63,
   "id": "146cc4af-b46f-4a25-af1c-40f9d96db528",
   "metadata": {},
   "outputs": [],
   "source": [
    "import seaborn as sns"
   ]
  },
  {
   "cell_type": "code",
   "execution_count": 65,
   "id": "ffa41ea4-d439-4728-8621-05e368c992e9",
   "metadata": {},
   "outputs": [
    {
     "data": {
      "text/plain": [
       "(0.0, 47713.83724932422)"
      ]
     },
     "execution_count": 65,
     "metadata": {},
     "output_type": "execute_result"
    },
    {
     "data": {
      "image/png": "[encoded data removed]",
      "text/plain": [
       "<Figure size 432x288 with 1 Axes>"
      ]
     },
     "metadata": {
      "needs_background": "light"
     },
     "output_type": "display_data"
    }
   ],
   "source": [
    "sns.regplot(x = 'highway-L/100km', y = 'price', data = df)\n",
    "plt.ylim(0,)"
   ]
  },
  {
   "cell_type": "code",
   "execution_count": 66,
   "id": "86f0ff23-8846-44c0-9672-004c782599c2",
   "metadata": {},
   "outputs": [
    {
     "data": {
      "text/plain": [
       "(0.0, 47414.1)"
      ]
     },
     "execution_count": 66,
     "metadata": {},
     "output_type": "execute_result"
    },
    {
     "data": {
      "image/png": "[encoded data removed]",
      "text/plain": [
       "<Figure size 432x288 with 1 Axes>"
      ]
     },
     "metadata": {
      "needs_background": "light"
     },
     "output_type": "display_data"
    }
   ],
   "source": [
    "sns.regplot(x=\"peak-rpm\", y=\"price\", data=df)\n",
    "plt.ylim(0,)"
   ]
  },
  {
   "cell_type": "code",
   "execution_count": 67,
   "id": "6cc1966c-9222-471d-aafc-70680b1b18d6",
   "metadata": {},
   "outputs": [
    {
     "data": {
      "text/html": [
       "<div>\n",
       "<style scoped>\n",
       "    .dataframe tbody tr th:only-of-type {\n",
       "        vertical-align: middle;\n",
       "    }\n",
       "\n",
       "    .dataframe tbody tr th {\n",
       "        vertical-align: top;\n",
       "    }\n",
       "\n",
       "    .dataframe thead th {\n",
       "        text-align: right;\n",
       "    }\n",
       "</style>\n",
       "<table border=\"1\" class=\"dataframe\">\n",
       "  <thead>\n",
       "    <tr style=\"text-align: right;\">\n",
       "      <th></th>\n",
       "      <th>peak-rpm</th>\n",
       "      <th>highway-L/100km</th>\n",
       "      <th>price</th>\n",
       "    </tr>\n",
       "  </thead>\n",
       "  <tbody>\n",
       "    <tr>\n",
       "      <th>peak-rpm</th>\n",
       "      <td>1.000000</td>\n",
       "      <td>0.017736</td>\n",
       "      <td>-0.101542</td>\n",
       "    </tr>\n",
       "    <tr>\n",
       "      <th>highway-L/100km</th>\n",
       "      <td>0.017736</td>\n",
       "      <td>1.000000</td>\n",
       "      <td>0.801118</td>\n",
       "    </tr>\n",
       "    <tr>\n",
       "      <th>price</th>\n",
       "      <td>-0.101542</td>\n",
       "      <td>0.801118</td>\n",
       "      <td>1.000000</td>\n",
       "    </tr>\n",
       "  </tbody>\n",
       "</table>\n",
       "</div>"
      ],
      "text/plain": [
       "                 peak-rpm  highway-L/100km     price\n",
       "peak-rpm         1.000000         0.017736 -0.101542\n",
       "highway-L/100km  0.017736         1.000000  0.801118\n",
       "price           -0.101542         0.801118  1.000000"
      ]
     },
     "execution_count": 67,
     "metadata": {},
     "output_type": "execute_result"
    }
   ],
   "source": [
    "df[[\"peak-rpm\",\"highway-L/100km\",\"price\"]].corr()"
   ]
  },
  {
   "cell_type": "markdown",
   "id": "8b9cac13-a336-4b7c-99ab-3acd25fcb52c",
   "metadata": {},
   "source": [
    "### Residual plot"
   ]
  },
  {
   "cell_type": "code",
   "execution_count": 70,
   "id": "181e7ee2-ef17-4f27-bd8f-e9375056de49",
   "metadata": {},
   "outputs": [
    {
     "data": {
      "image/png": "[encoded data removed]",
      "text/plain": [
       "<Figure size 864x720 with 1 Axes>"
      ]
     },
     "metadata": {
      "needs_background": "light"
     },
     "output_type": "display_data"
    }
   ],
   "source": [
    "plt.figure(figsize = (12,10))\n",
    "sns.residplot('highway-L/100km', 'price', data = df)\n",
    "plt.show()"
   ]
  },
  {
   "cell_type": "code",
   "execution_count": 93,
   "id": "d7f83ded-27f9-4ae9-8276-21e2c72632ca",
   "metadata": {},
   "outputs": [
    {
     "data": {
      "image/png": "[encoded data removed]",
      "text/plain": [
       "<Figure size 360x360 with 1 Axes>"
      ]
     },
     "metadata": {
      "needs_background": "light"
     },
     "output_type": "display_data"
    }
   ],
   "source": [
    "# Multiple Linear Regression Visual Evaluation\n",
    "Y_hat = lm.predict(Z)\n",
    "sns.displot(data = df['price'], color = 'r',kde = True, label= 'Actual Value')\n",
    "sns.histplot(data = Yhat, color = 'b',kde= True, label= 'Fitted_Value')\n",
    "plt.show()"
   ]
  },
  {
   "cell_type": "code",
   "execution_count": 94,
   "id": "f2668232-c071-4924-8509-5b0c5989fd8c",
   "metadata": {},
   "outputs": [],
   "source": [
    "## How to hide hist of one of above "
   ]
  },
  {
   "cell_type": "code",
   "execution_count": 99,
   "id": "b4eee1f2-0710-49b3-940c-270d0b300d8d",
   "metadata": {},
   "outputs": [
    {
     "data": {
      "text/plain": [
       "<AxesSubplot: xlabel='price'>"
      ]
     },
     "execution_count": 99,
     "metadata": {},
     "output_type": "execute_result"
    },
    {
     "data": {
      "image/png": "[encoded data removed]",
      "text/plain": [
       "<Figure size 432x288 with 1 Axes>"
      ]
     },
     "metadata": {
      "needs_background": "light"
     },
     "output_type": "display_data"
    }
   ],
   "source": [
    "sns.scatterplot( x = 'price', y = df.index, data = df)"
   ]
  },
  {
   "cell_type": "code",
   "execution_count": 106,
   "id": "a0110bcf-33f0-4b6f-868d-7b1715ca51bb",
   "metadata": {},
   "outputs": [
    {
     "data": {
      "text/plain": [
       "<AxesSubplot: xlabel='highway-L/100km', ylabel='price'>"
      ]
     },
     "execution_count": 106,
     "metadata": {},
     "output_type": "execute_result"
    },
    {
     "data": {
      "image/png": "[encoded data removed]",
      "text/plain": [
       "<Figure size 432x288 with 1 Axes>"
      ]
     },
     "metadata": {
      "needs_background": "light"
     },
     "output_type": "display_data"
    }
   ],
   "source": [
    "sns.scatterplot(x = 'highway-L/100km', y = 'price', data= df)"
   ]
  },
  {
   "cell_type": "markdown",
   "id": "81a9fdbb-038b-43fc-86de-c9f4cacb06fb",
   "metadata": {},
   "source": [
    "## Polynomail Regression"
   ]
  },
  {
   "cell_type": "code",
   "execution_count": 157,
   "id": "d205de65-8dc1-4433-a03c-e57b1d1265ad",
   "metadata": {},
   "outputs": [],
   "source": [
    "# Graph for polynomial fuction\n",
    "def PlotPolly(model, independent_variable):\n",
    "    dependent_variable = model(independent_variable)\n",
    "    plt.plot(independent_variable, dependent_variable,'.')\n",
    "\n",
    "\n",
    "    plt.show()\n",
    "    plt.close()"
   ]
  },
  {
   "cell_type": "code",
   "execution_count": 123,
   "id": "c93c1d9f-e04c-4e82-8c94-c34dbf1fbe33",
   "metadata": {},
   "outputs": [],
   "source": [
    "# def PlotPolly(model, independent_variable, dependent_variabble, Name):\n",
    "#     x_new = np.linspace(15, 55, 100)\n",
    "#     y_new = model(x_new)\n",
    "\n",
    "#     plt.plot(independent_variable, dependent_variabble, '.', x_new, y_new, '-')\n",
    "#     plt.title('Polynomial Fit with Matplotlib for Price ~ Length')\n",
    "#     ax = plt.gca()\n",
    "#     ax.set_facecolor((0.898, 0.898, 0.898))\n",
    "#     fig = plt.gcf()\n",
    "#     plt.xlabel(Name)\n",
    "#     plt.ylabel('Price of Cars')\n",
    "\n",
    "#     plt.show()\n",
    "#     plt.close()"
   ]
  },
  {
   "cell_type": "code",
   "execution_count": 153,
   "id": "0544ae77-9ec9-46b5-b7e8-4c24a3fa974a",
   "metadata": {},
   "outputs": [
    {
     "data": {
      "text/plain": [
       "array([   44080.77927594,    46007.91294106,    47883.45796449,\n",
       "          49698.15187113,    51442.73218586,    53107.93643356,\n",
       "          54684.50213913,    56163.16682745,    57534.66802341,\n",
       "          58789.74325189,    59919.13003779,    60913.56590598,\n",
       "          61763.78838136,    62460.53498881,    62994.54325322,\n",
       "          63356.55069948,    63537.29485247,    63527.51323708,\n",
       "          63317.94337819,    62899.3228007 ,    62262.38902949,\n",
       "          61397.87958944,    60296.53200545,    58949.0838024 ,\n",
       "          57346.27250518,    55478.83563867,    53337.51072776,\n",
       "          50913.03529734,    48196.1468723 ,    45177.58297751,\n",
       "          41848.08113788,    38198.37887828,    34219.2137236 ,\n",
       "          29901.32319873,    25235.44482856,    20212.31613797,\n",
       "          14822.67465184,     9057.25789508,     2906.80339256,\n",
       "          -3637.95133083,   -10586.26875021,   -17947.41134068,\n",
       "         -25730.64157736,   -33945.22193537,   -42600.41488981,\n",
       "         -51705.4829158 ,   -61269.68848845,   -71302.29408288,\n",
       "         -81812.56217419,   -92809.75523751,  -104303.13574794,\n",
       "        -116301.9661806 ,  -128815.5090106 ,  -141853.02671306,\n",
       "        -155423.78176308,  -169537.03663579,  -184202.05380629,\n",
       "        -199428.09574969,  -215224.42494112,  -231600.30385568,\n",
       "        -248564.99496848,  -266127.76075465,  -284297.86368929,\n",
       "        -303084.56624751,  -322497.13090443,  -342544.82013517,\n",
       "        -363236.89641483,  -384582.62221853,  -406591.26002138,\n",
       "        -429272.0722985 ,  -452634.321525  ,  -476687.27017598,\n",
       "        -501440.18072658,  -526902.31565189,  -553082.93742703,\n",
       "        -579991.30852711,  -607636.69142725,  -636028.34860256,\n",
       "        -665175.54252816,  -695087.53567915,  -725773.59053065,\n",
       "        -757242.96955778,  -789504.93523564,  -822568.75003935,\n",
       "        -856443.67644402,  -891138.97692477,  -926663.91395671,\n",
       "        -963027.75001495, -1000239.74757461, -1038309.16911079,\n",
       "       -1077245.27709861, -1117057.33401319, -1157754.60232964,\n",
       "       -1199346.34452307, -1241841.82306859, -1285250.30044132,\n",
       "       -1329581.03911638, -1374843.30156886, -1421046.35027389,\n",
       "       -1468199.44770658])"
      ]
     },
     "execution_count": 153,
     "metadata": {},
     "output_type": "execute_result"
    }
   ],
   "source": [
    "y2  = polynomial(np.linspace(15,55,100))\n",
    "y2"
   ]
  },
  {
   "cell_type": "code",
   "execution_count": 152,
   "id": "cc9be17e-a083-41c7-b627-dfaef10bd3d8",
   "metadata": {},
   "outputs": [
    {
     "data": {
      "image/png": "[encoded data removed]",
      "text/plain": [
       "<Figure size 432x288 with 1 Axes>"
      ]
     },
     "metadata": {
      "needs_background": "light"
     },
     "output_type": "display_data"
    }
   ],
   "source": [
    "plt.plot(np.linspace(15,55,100),polynomial(np.linspace(15,55,100)), '-')\n",
    "plt.ticklabel_format(useOffset=False, style='plain')"
   ]
  },
  {
   "cell_type": "code",
   "execution_count": 140,
   "id": "2456a393-1122-4c71-9a6d-4116b76be4cb",
   "metadata": {},
   "outputs": [
    {
     "data": {
      "text/plain": [
       "[<matplotlib.lines.Line2D at 0x1bdca10d880>]"
      ]
     },
     "execution_count": 140,
     "metadata": {},
     "output_type": "execute_result"
    },
    {
     "data": {
      "image/png": "[encoded data removed]",
      "text/plain": [
       "<Figure size 432x288 with 1 Axes>"
      ]
     },
     "metadata": {
      "needs_background": "light"
     },
     "output_type": "display_data"
    }
   ],
   "source": [
    "plt.plot(yhat,df['highway-L/100km'] ,'.')"
   ]
  },
  {
   "cell_type": "code",
   "execution_count": 142,
   "id": "86c6b669-9613-4614-90b3-7fde7806a477",
   "metadata": {},
   "outputs": [
    {
     "data": {
      "text/plain": [
       "4.351851851851852"
      ]
     },
     "execution_count": 142,
     "metadata": {},
     "output_type": "execute_result"
    }
   ],
   "source": [
    "df['highway-L/100km'].min()"
   ]
  },
  {
   "cell_type": "code",
   "execution_count": 236,
   "id": "01e79442-1f67-43f7-83c4-32faad563d11",
   "metadata": {},
   "outputs": [],
   "source": [
    "x = df['highway-L/100km']\n",
    "y = df['price']"
   ]
  },
  {
   "cell_type": "code",
   "execution_count": 239,
   "id": "06110910-2f72-4a2b-8908-b42db7ba587f",
   "metadata": {},
   "outputs": [
    {
     "name": "stdout",
     "output_type": "stream",
     "text": [
      "       3         2\n",
      "-23.4 x + 923.6 x - 7083 x + 2.152e+04\n"
     ]
    }
   ],
   "source": [
    "fit = np.polyfit(x, y, 3)\n",
    "polynomial = np.poly1d(fit)\n",
    "print(polynomial)"
   ]
  },
  {
   "cell_type": "code",
   "execution_count": 133,
   "id": "ee99eb19-37cb-4537-b75f-7f9448b40958",
   "metadata": {},
   "outputs": [],
   "source": [
    "yhat = polynomial(df['highway-L/100km'])"
   ]
  },
  {
   "cell_type": "code",
   "execution_count": 131,
   "id": "94cd1929-65a9-45e4-b5df-5e52a2af3868",
   "metadata": {},
   "outputs": [
    {
     "data": {
      "image/png": "[encoded data removed]",
      "text/plain": [
       "<Figure size 432x288 with 1 Axes>"
      ]
     },
     "metadata": {
      "needs_background": "light"
     },
     "output_type": "display_data"
    }
   ],
   "source": [
    "PlotPolly(polynomial, df['price'])"
   ]
  },
  {
   "cell_type": "code",
   "execution_count": 116,
   "id": "58ce90b2-8b7c-4ae6-9456-fa429d2e2c84",
   "metadata": {},
   "outputs": [
    {
     "data": {
      "text/plain": [
       "poly1d([ 3.54540140e-03, -4.73280490e-01,  2.68683864e+01, -8.70270709e+02,\n",
       "        1.80307629e+04, -2.52270980e+05,  2.44069486e+06, -1.63682859e+07,\n",
       "        7.47019996e+07, -2.21263681e+08,  3.83240399e+08, -2.94343389e+08])"
      ]
     },
     "execution_count": 116,
     "metadata": {},
     "output_type": "execute_result"
    }
   ],
   "source": [
    "fit2 = np.polyfit(x,y,11)\n",
    "polynomial2 = np.poly1d(fit2)\n",
    "polynomial2"
   ]
  },
  {
   "cell_type": "code",
   "execution_count": 117,
   "id": "f1228027-2b4f-4935-a861-196673240179",
   "metadata": {},
   "outputs": [
    {
     "name": "stdout",
     "output_type": "stream",
     "text": [
      "          11          10         9         8             7\n",
      "0.003545 x  - 0.4733 x  + 26.87 x - 870.3 x + 1.803e+04 x\n",
      "              6             5             4            3             2\n",
      " - 2.523e+05 x + 2.441e+06 x - 1.637e+07 x + 7.47e+07 x - 2.213e+08 x + 3.832e+08 x - 2.943e+08\n"
     ]
    }
   ],
   "source": [
    "print(polynomial2)"
   ]
  },
  {
   "cell_type": "code",
   "execution_count": 158,
   "id": "983152c4-cd61-491e-ac6b-a6547f5c8ff7",
   "metadata": {},
   "outputs": [
    {
     "data": {
      "image/png": "[encoded data removed]",
      "text/plain": [
       "<Figure size 432x288 with 1 Axes>"
      ]
     },
     "metadata": {
      "needs_background": "light"
     },
     "output_type": "display_data"
    }
   ],
   "source": [
    "PlotPolly(polynomial2, df['highway-L/100km'])"
   ]
  },
  {
   "cell_type": "code",
   "execution_count": 162,
   "id": "e12ec601-2c56-458f-a4c9-0fdbfd792a17",
   "metadata": {},
   "outputs": [
    {
     "data": {
      "image/png": "[encoded data removed]",
      "text/plain": [
       "<Figure size 432x288 with 1 Axes>"
      ]
     },
     "metadata": {
      "needs_background": "light"
     },
     "output_type": "display_data"
    }
   ],
   "source": [
    "plt.plot(np.linspace(5,14,100),polynomial2(np.linspace(5,14,100)), '-')\n",
    "plt.ticklabel_format(useOffset=False, style='plain')"
   ]
  },
  {
   "cell_type": "markdown",
   "id": "589a86d4-9494-454f-bd81-eb629d39335b",
   "metadata": {},
   "source": [
    "### Polynomial Multivariate "
   ]
  },
  {
   "cell_type": "code",
   "execution_count": 166,
   "id": "55838ffd-a548-4d49-bec9-823f84909858",
   "metadata": {},
   "outputs": [
    {
     "data": {
      "text/plain": [
       "PolynomialFeatures()"
      ]
     },
     "execution_count": 166,
     "metadata": {},
     "output_type": "execute_result"
    }
   ],
   "source": [
    "from sklearn.preprocessing import PolynomialFeatures\n",
    "from sklearn.preprocessing import StandardScaler\n",
    "pr = PolynomialFeatures(degree = 2)\n",
    "pr"
   ]
  },
  {
   "cell_type": "code",
   "execution_count": 170,
   "id": "86ebb5bb-5973-44fe-800f-8077a2ad3840",
   "metadata": {},
   "outputs": [],
   "source": [
    "Z = df[['horsepower', 'curb-weight', 'engine-size', 'highway-L/100km']]"
   ]
  },
  {
   "cell_type": "code",
   "execution_count": 172,
   "id": "48b4a88d-89c0-4f71-8c92-f40aedea7b47",
   "metadata": {},
   "outputs": [],
   "source": [
    "Z_pr = pr.fit_transform(Z)"
   ]
  },
  {
   "cell_type": "code",
   "execution_count": 173,
   "id": "1caf11ce-77e7-4a1f-bc25-0c8b0b4d0d02",
   "metadata": {},
   "outputs": [
    {
     "name": "stdout",
     "output_type": "stream",
     "text": [
      "(201, 4) (201, 15)\n"
     ]
    }
   ],
   "source": [
    "print(Z.shape,Z_pr.shape)"
   ]
  },
  {
   "cell_type": "code",
   "execution_count": null,
   "id": "aa333530-a96d-47c3-ba06-a6c2f8ac61a4",
   "metadata": {},
   "outputs": [],
   "source": [
    "## Why are thier shapes different ?"
   ]
  },
  {
   "cell_type": "markdown",
   "id": "947882ca-94c5-4912-87f1-56cebeac6164",
   "metadata": {},
   "source": [
    "## Pipeline"
   ]
  },
  {
   "cell_type": "code",
   "execution_count": 176,
   "id": "ab18f7a9-7e57-4d2d-a14d-f5ef433e98f7",
   "metadata": {},
   "outputs": [],
   "source": [
    "from sklearn.pipeline import Pipeline"
   ]
  },
  {
   "cell_type": "code",
   "execution_count": 183,
   "id": "ba34bbc7-a184-40c9-b7c6-01cbff489761",
   "metadata": {},
   "outputs": [],
   "source": [
    "Input=[('scale',StandardScaler()), ('polynomial', PolynomialFeatures(include_bias=False)), ('model',LinearRegression())]\n"
   ]
  },
  {
   "cell_type": "code",
   "execution_count": 184,
   "id": "2bcec101-487c-452f-8c35-41bea54cc41f",
   "metadata": {},
   "outputs": [
    {
     "data": {
      "text/plain": [
       "Pipeline(steps=[('scale', StandardScaler()),\n",
       "                ('polynomial', PolynomialFeatures(include_bias=False)),\n",
       "                ('model', LinearRegression())])"
      ]
     },
     "execution_count": 184,
     "metadata": {},
     "output_type": "execute_result"
    }
   ],
   "source": [
    "pipe=Pipeline(Input)\n",
    "pipe"
   ]
  },
  {
   "cell_type": "code",
   "execution_count": 185,
   "id": "b9e92968-6d19-4785-89de-f7b37bbf740a",
   "metadata": {},
   "outputs": [
    {
     "data": {
      "text/plain": [
       "Pipeline(steps=[('scale', StandardScaler()),\n",
       "                ('polynomial', PolynomialFeatures(include_bias=False)),\n",
       "                ('model', LinearRegression())])"
      ]
     },
     "execution_count": 185,
     "metadata": {},
     "output_type": "execute_result"
    }
   ],
   "source": [
    "Z = Z.astype(float)\n",
    "pipe.fit(Z,y)"
   ]
  },
  {
   "cell_type": "code",
   "execution_count": 186,
   "id": "36950480-3a4f-47ed-9bc1-c7baffdd8fde",
   "metadata": {},
   "outputs": [],
   "source": [
    "ypipe = pipe.predict(Z)"
   ]
  },
  {
   "cell_type": "code",
   "execution_count": 188,
   "id": "ff493e80-1f8d-4711-9933-7ac31c1d61b8",
   "metadata": {},
   "outputs": [
    {
     "data": {
      "text/plain": [
       "array([12395.97939239, 12395.97939239, 18425.76361762,  9981.83005507,\n",
       "       17552.10180769, 13495.52907994, 14610.64282949, 15069.81768809,\n",
       "       19740.53605408, 10021.73195238])"
      ]
     },
     "execution_count": 188,
     "metadata": {},
     "output_type": "execute_result"
    }
   ],
   "source": [
    "ypipe[0:10]"
   ]
  },
  {
   "cell_type": "code",
   "execution_count": 189,
   "id": "b456b630-8c4d-464b-b62c-456bc8730c11",
   "metadata": {},
   "outputs": [
    {
     "data": {
      "text/plain": [
       "array([14055.14326508, 14055.14326508, 18641.40645967, 10758.95798023,\n",
       "       16668.53370034, 14734.79338711, 15914.6574987 , 16299.77634818,\n",
       "       18610.5191684 , 10974.89925173])"
      ]
     },
     "execution_count": 189,
     "metadata": {},
     "output_type": "execute_result"
    }
   ],
   "source": [
    "Input2 = [('scale', StandardScaler()),('model',LinearRegression())]\n",
    "pipe2  = Pipeline(Input2)\n",
    "pipe2.fit(Z,y)\n",
    "ypipe2 = pipe2.predict(Z)\n",
    "ypipe2[0:10]"
   ]
  },
  {
   "cell_type": "markdown",
   "id": "52cee4a4-1d15-4db0-ac3b-cf0f03dea30c",
   "metadata": {},
   "source": [
    "### Quantative Evaluation"
   ]
  },
  {
   "cell_type": "markdown",
   "id": "e128ac8b-1c00-4515-84a7-d2cb2e0c4a5b",
   "metadata": {},
   "source": [
    "#### R-squared (coefficient of determination) and MSE (mean squared error)"
   ]
  },
  {
   "cell_type": "code",
   "execution_count": 192,
   "id": "fe50c2cc-aebc-4913-8117-466faea3d4b4",
   "metadata": {},
   "outputs": [],
   "source": [
    "# Linear Regression"
   ]
  },
  {
   "cell_type": "code",
   "execution_count": 193,
   "id": "0b537827-3b34-4a2a-a5aa-da74bb1abd33",
   "metadata": {},
   "outputs": [
    {
     "data": {
      "text/html": [
       "<div>\n",
       "<style scoped>\n",
       "    .dataframe tbody tr th:only-of-type {\n",
       "        vertical-align: middle;\n",
       "    }\n",
       "\n",
       "    .dataframe tbody tr th {\n",
       "        vertical-align: top;\n",
       "    }\n",
       "\n",
       "    .dataframe thead th {\n",
       "        text-align: right;\n",
       "    }\n",
       "</style>\n",
       "<table border=\"1\" class=\"dataframe\">\n",
       "  <thead>\n",
       "    <tr style=\"text-align: right;\">\n",
       "      <th></th>\n",
       "      <th>highway-L/100km</th>\n",
       "    </tr>\n",
       "  </thead>\n",
       "  <tbody>\n",
       "    <tr>\n",
       "      <th>0</th>\n",
       "      <td>8.703704</td>\n",
       "    </tr>\n",
       "    <tr>\n",
       "      <th>1</th>\n",
       "      <td>8.703704</td>\n",
       "    </tr>\n",
       "    <tr>\n",
       "      <th>2</th>\n",
       "      <td>9.038462</td>\n",
       "    </tr>\n",
       "    <tr>\n",
       "      <th>3</th>\n",
       "      <td>7.833333</td>\n",
       "    </tr>\n",
       "    <tr>\n",
       "      <th>4</th>\n",
       "      <td>10.681818</td>\n",
       "    </tr>\n",
       "  </tbody>\n",
       "</table>\n",
       "</div>"
      ],
      "text/plain": [
       "   highway-L/100km\n",
       "0         8.703704\n",
       "1         8.703704\n",
       "2         9.038462\n",
       "3         7.833333\n",
       "4        10.681818"
      ]
     },
     "execution_count": 193,
     "metadata": {},
     "output_type": "execute_result"
    }
   ],
   "source": [
    "X.head()"
   ]
  },
  {
   "cell_type": "code",
   "execution_count": 199,
   "id": "240d50d7-7390-4ca1-a2fa-e77387131523",
   "metadata": {},
   "outputs": [
    {
     "data": {
      "text/plain": [
       "0    13495.0\n",
       "1    16500.0\n",
       "2    16500.0\n",
       "3    13950.0\n",
       "4    17450.0\n",
       "Name: price, dtype: float64"
      ]
     },
     "execution_count": 199,
     "metadata": {},
     "output_type": "execute_result"
    }
   ],
   "source": [
    "Y.head()"
   ]
  },
  {
   "cell_type": "code",
   "execution_count": 195,
   "id": "ece62f05-9f71-40ff-afcb-7094cedd8329",
   "metadata": {},
   "outputs": [
    {
     "data": {
      "text/plain": [
       "LinearRegression()"
      ]
     },
     "execution_count": 195,
     "metadata": {},
     "output_type": "execute_result"
    }
   ],
   "source": [
    "lm_test = LinearRegression()\n",
    "lm_test.fit(X,Y)"
   ]
  },
  {
   "cell_type": "code",
   "execution_count": 204,
   "id": "c29cd96f-1e73-4066-bb33-39302d8e7471",
   "metadata": {},
   "outputs": [
    {
     "data": {
      "text/plain": [
       "0.6417894513258818"
      ]
     },
     "execution_count": 204,
     "metadata": {},
     "output_type": "execute_result"
    }
   ],
   "source": [
    "lm_test.score(X,Y)"
   ]
  },
  {
   "cell_type": "code",
   "execution_count": 201,
   "id": "f6da7355-223f-4e84-9e0d-4daac199fb1d",
   "metadata": {},
   "outputs": [
    {
     "data": {
      "text/plain": [
       "array([15485.52737455, 15485.52737455, 16643.34931414, 12475.19033163])"
      ]
     },
     "execution_count": 201,
     "metadata": {},
     "output_type": "execute_result"
    }
   ],
   "source": [
    "Yhat = lm_test.predict(X)\n",
    "Yhat[0:4]"
   ]
  },
  {
   "cell_type": "code",
   "execution_count": 202,
   "id": "e4d62cb1-7e23-421d-a3f9-bbc682ab29de",
   "metadata": {},
   "outputs": [],
   "source": [
    "from sklearn.metrics import mean_squared_error"
   ]
  },
  {
   "cell_type": "code",
   "execution_count": 203,
   "id": "df4c3761-ffb3-4656-8216-cab595d5fdf7",
   "metadata": {},
   "outputs": [
    {
     "data": {
      "text/plain": [
       "214523622.02127507"
      ]
     },
     "execution_count": 203,
     "metadata": {},
     "output_type": "execute_result"
    }
   ],
   "source": [
    "mse_test = mean_squared_error(X,Yhat)\n",
    "mse_test"
   ]
  },
  {
   "cell_type": "code",
   "execution_count": 205,
   "id": "c1f342bc-c905-4324-87c2-0fac44561fc0",
   "metadata": {},
   "outputs": [],
   "source": [
    "# Multiple Linear Regression"
   ]
  },
  {
   "cell_type": "code",
   "execution_count": 206,
   "id": "6d45cb2f-edba-45b3-af17-2d4328327d73",
   "metadata": {},
   "outputs": [
    {
     "data": {
      "text/plain": [
       "LinearRegression()"
      ]
     },
     "execution_count": 206,
     "metadata": {},
     "output_type": "execute_result"
    }
   ],
   "source": [
    "lm_test_multiple  = LinearRegression()\n",
    "lm_test_multiple.fit(Z,X)"
   ]
  },
  {
   "cell_type": "code",
   "execution_count": 207,
   "id": "f6a30a65-1013-44b5-b6c9-c55eca904c77",
   "metadata": {},
   "outputs": [],
   "source": [
    "Yhat_lmtm = lm_test_multiple.predict(Z)"
   ]
  },
  {
   "cell_type": "code",
   "execution_count": 224,
   "id": "980a78e3-9cc0-446f-91e3-6bc40fdb12c0",
   "metadata": {},
   "outputs": [
    {
     "data": {
      "text/plain": [
       "-2.7719274765621336"
      ]
     },
     "execution_count": 224,
     "metadata": {},
     "output_type": "execute_result"
    }
   ],
   "source": [
    "lm_test_multiple.score(Z,Y)\n",
    "# not same as Y, Z"
   ]
  },
  {
   "cell_type": "code",
   "execution_count": 221,
   "id": "f8efbf6e-c58f-472e-b3a0-ef4b17d4cc29",
   "metadata": {},
   "outputs": [
    {
     "data": {
      "text/plain": [
       "237034165.79836023"
      ]
     },
     "execution_count": 221,
     "metadata": {},
     "output_type": "execute_result"
    }
   ],
   "source": [
    "mean_squared_error(Yhat_lmtm,df['price'])\n",
    "# same as df['price'], Yhat_lmtm"
   ]
  },
  {
   "cell_type": "code",
   "execution_count": 225,
   "id": "15863c69-6e0c-4ca6-bab7-9c131716153f",
   "metadata": {},
   "outputs": [],
   "source": [
    "# Polynomial"
   ]
  },
  {
   "cell_type": "code",
   "execution_count": 241,
   "id": "b492e21b-dbc9-4189-a4c7-8599702b7ca6",
   "metadata": {},
   "outputs": [],
   "source": [
    "# polynomial.score(Y,polynomial(x)) -- poly1d has no attribute score"
   ]
  },
  {
   "cell_type": "code",
   "execution_count": 242,
   "id": "8c9b258d-296d-4d68-a0e3-e748bbe5ff2e",
   "metadata": {},
   "outputs": [],
   "source": [
    "from sklearn.metrics import r2_score"
   ]
  },
  {
   "cell_type": "code",
   "execution_count": 245,
   "id": "93134d6b-79b4-477d-861a-7924a7731400",
   "metadata": {},
   "outputs": [
    {
     "data": {
      "text/plain": [
       "0.6753581660812171"
      ]
     },
     "execution_count": 245,
     "metadata": {},
     "output_type": "execute_result"
    }
   ],
   "source": [
    "r_squared_polynomial = r2_score(Y, polynomial(X))\n",
    "r_squared_polynomial"
   ]
  },
  {
   "cell_type": "code",
   "execution_count": 234,
   "id": "4d205a05-2f7a-409c-88ae-ef9276586477",
   "metadata": {},
   "outputs": [
    {
     "data": {
      "text/plain": [
       "20401030.180019397"
      ]
     },
     "execution_count": 234,
     "metadata": {},
     "output_type": "execute_result"
    }
   ],
   "source": [
    "mean_squared_error(df['price'], polynomial(X))"
   ]
  },
  {
   "cell_type": "markdown",
   "id": "1995204b-204b-470d-bf67-aa04119f76e9",
   "metadata": {},
   "source": [
    "## Prediction"
   ]
  },
  {
   "cell_type": "code",
   "execution_count": 260,
   "id": "c3177f54-ad0e-4529-87b2-f4848b1347aa",
   "metadata": {},
   "outputs": [],
   "source": [
    "test_data = np.arange(1,100,1).reshape(-1,1)"
   ]
  },
  {
   "cell_type": "code",
   "execution_count": 261,
   "id": "eaee7e39-e764-4629-8272-f0e85f1dd03c",
   "metadata": {},
   "outputs": [],
   "source": [
    "lm_p = LinearRegression()"
   ]
  },
  {
   "cell_type": "code",
   "execution_count": 269,
   "id": "4a47ffc1-5825-4e4d-a97f-8a8679323ad9",
   "metadata": {},
   "outputs": [
    {
     "data": {
      "text/plain": [
       "LinearRegression()"
      ]
     },
     "execution_count": 269,
     "metadata": {},
     "output_type": "execute_result"
    }
   ],
   "source": [
    "lm_p.fit(X.values,Y)"
   ]
  },
  {
   "cell_type": "code",
   "execution_count": 270,
   "id": "e5242628-7372-4ddf-84b9-03a66a557165",
   "metadata": {},
   "outputs": [
    {
     "data": {
      "text/plain": [
       "array([-11159.15794152,  -7700.47282838,  -4241.78771523,   -783.10260209])"
      ]
     },
     "execution_count": 270,
     "metadata": {},
     "output_type": "execute_result"
    }
   ],
   "source": [
    "yhat_test = lm_p.predict(test_data)\n",
    "yhat_test[0:4]"
   ]
  },
  {
   "cell_type": "code",
   "execution_count": 271,
   "id": "48bbdf45-5981-4440-9033-e1e1c7811cc2",
   "metadata": {},
   "outputs": [
    {
     "data": {
      "image/png": "[encoded data removed]",
      "text/plain": [
       "<Figure size 432x288 with 1 Axes>"
      ]
     },
     "metadata": {
      "needs_background": "light"
     },
     "output_type": "display_data"
    }
   ],
   "source": [
    "plt.plot(test_data, yhat_test)\n",
    "plt.show()"
   ]
  },
  {
   "cell_type": "markdown",
   "id": "1947ed53-eaef-4ac9-8025-a69bc8932111",
   "metadata": {},
   "source": [
    "### In this case MLR model is most suitable. Because its R-squared is largest and MSE is lowest."
   ]
  },
  {
   "cell_type": "markdown",
   "id": "9bb764a2-dba2-49dc-9430-6930c77c81fe",
   "metadata": {},
   "source": [
    "#### Thank You"
   ]
  }
 ],
 "metadata": {
  "kernelspec": {
   "display_name": "Python 3 (ipykernel)",
   "language": "python",
   "name": "python3"
  },
  "language_info": {
   "codemirror_mode": {
    "name": "ipython",
    "version": 3
   },
   "file_extension": ".py",
   "mimetype": "text/x-python",
   "name": "python",
   "nbconvert_exporter": "python",
   "pygments_lexer": "ipython3",
   "version": "3.9.13"
  }
 },
 "nbformat": 4,
 "nbformat_minor": 5
}
