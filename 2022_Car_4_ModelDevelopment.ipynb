{
 "cells": [
  {
   "cell_type": "markdown",
   "id": "dc81346b-5e7c-43b7-a81f-597c95edb4ac",
   "metadata": {},
   "source": [
    "# Model Development"
   ]
  },
  {
   "cell_type": "markdown",
   "id": "4bd3139c-58b6-458f-95d4-e34789a611ec",
   "metadata": {},
   "source": [
    "## Data Loading"
   ]
  },
  {
   "cell_type": "code",
   "execution_count": 1,
   "id": "17314790-8388-4815-b214-f2c5dfebb0fe",
   "metadata": {},
   "outputs": [],
   "source": [
    "import pandas as pd\n",
    "import numpy as np\n",
    "import matplotlib.pyplot as plt"
   ]
  },
  {
   "cell_type": "code",
   "execution_count": 2,
   "id": "7b942769-38e0-4934-9d44-b583d7e005fe",
   "metadata": {},
   "outputs": [],
   "source": [
    "df = pd.read_csv(\"2022_Car_Data_Cleaned.csv\")"
   ]
  },
  {
   "cell_type": "code",
   "execution_count": 3,
   "id": "57db1282-2b3f-47b7-b542-d3f8df02c085",
   "metadata": {},
   "outputs": [
    {
     "data": {
      "text/html": [
       "<div>\n",
       "<style scoped>\n",
       "    .dataframe tbody tr th:only-of-type {\n",
       "        vertical-align: middle;\n",
       "    }\n",
       "\n",
       "    .dataframe tbody tr th {\n",
       "        vertical-align: top;\n",
       "    }\n",
       "\n",
       "    .dataframe thead th {\n",
       "        text-align: right;\n",
       "    }\n",
       "</style>\n",
       "<table border=\"1\" class=\"dataframe\">\n",
       "  <thead>\n",
       "    <tr style=\"text-align: right;\">\n",
       "      <th></th>\n",
       "      <th>Unnamed: 0</th>\n",
       "      <th>symboling</th>\n",
       "      <th>normalized-losses</th>\n",
       "      <th>make</th>\n",
       "      <th>num-of-doors</th>\n",
       "      <th>body-style</th>\n",
       "      <th>drive-wheels</th>\n",
       "      <th>engine-location</th>\n",
       "      <th>wheel-base</th>\n",
       "      <th>length</th>\n",
       "      <th>...</th>\n",
       "      <th>peak-rpm</th>\n",
       "      <th>city-mpg</th>\n",
       "      <th>highway-L/100km</th>\n",
       "      <th>price</th>\n",
       "      <th>city-L/100km</th>\n",
       "      <th>horsepower-binned</th>\n",
       "      <th>fuel-type-diesel</th>\n",
       "      <th>fuel-type-gas</th>\n",
       "      <th>aspiration-std</th>\n",
       "      <th>aspiration-turbo</th>\n",
       "    </tr>\n",
       "  </thead>\n",
       "  <tbody>\n",
       "    <tr>\n",
       "      <th>0</th>\n",
       "      <td>0</td>\n",
       "      <td>3</td>\n",
       "      <td>122</td>\n",
       "      <td>alfa-romero</td>\n",
       "      <td>two</td>\n",
       "      <td>convertible</td>\n",
       "      <td>rwd</td>\n",
       "      <td>front</td>\n",
       "      <td>88.6</td>\n",
       "      <td>0.811148</td>\n",
       "      <td>...</td>\n",
       "      <td>5000.0</td>\n",
       "      <td>21</td>\n",
       "      <td>8.703704</td>\n",
       "      <td>13495.0</td>\n",
       "      <td>11.190476</td>\n",
       "      <td>Low</td>\n",
       "      <td>0</td>\n",
       "      <td>1</td>\n",
       "      <td>1</td>\n",
       "      <td>0</td>\n",
       "    </tr>\n",
       "    <tr>\n",
       "      <th>1</th>\n",
       "      <td>1</td>\n",
       "      <td>3</td>\n",
       "      <td>122</td>\n",
       "      <td>alfa-romero</td>\n",
       "      <td>two</td>\n",
       "      <td>convertible</td>\n",
       "      <td>rwd</td>\n",
       "      <td>front</td>\n",
       "      <td>88.6</td>\n",
       "      <td>0.811148</td>\n",
       "      <td>...</td>\n",
       "      <td>5000.0</td>\n",
       "      <td>21</td>\n",
       "      <td>8.703704</td>\n",
       "      <td>16500.0</td>\n",
       "      <td>11.190476</td>\n",
       "      <td>Low</td>\n",
       "      <td>0</td>\n",
       "      <td>1</td>\n",
       "      <td>1</td>\n",
       "      <td>0</td>\n",
       "    </tr>\n",
       "    <tr>\n",
       "      <th>2</th>\n",
       "      <td>2</td>\n",
       "      <td>1</td>\n",
       "      <td>122</td>\n",
       "      <td>alfa-romero</td>\n",
       "      <td>two</td>\n",
       "      <td>hatchback</td>\n",
       "      <td>rwd</td>\n",
       "      <td>front</td>\n",
       "      <td>94.5</td>\n",
       "      <td>0.822681</td>\n",
       "      <td>...</td>\n",
       "      <td>5000.0</td>\n",
       "      <td>19</td>\n",
       "      <td>9.038462</td>\n",
       "      <td>16500.0</td>\n",
       "      <td>12.368421</td>\n",
       "      <td>Medium</td>\n",
       "      <td>0</td>\n",
       "      <td>1</td>\n",
       "      <td>1</td>\n",
       "      <td>0</td>\n",
       "    </tr>\n",
       "    <tr>\n",
       "      <th>3</th>\n",
       "      <td>3</td>\n",
       "      <td>2</td>\n",
       "      <td>164</td>\n",
       "      <td>audi</td>\n",
       "      <td>four</td>\n",
       "      <td>sedan</td>\n",
       "      <td>fwd</td>\n",
       "      <td>front</td>\n",
       "      <td>99.8</td>\n",
       "      <td>0.848630</td>\n",
       "      <td>...</td>\n",
       "      <td>5500.0</td>\n",
       "      <td>24</td>\n",
       "      <td>7.833333</td>\n",
       "      <td>13950.0</td>\n",
       "      <td>9.791667</td>\n",
       "      <td>Low</td>\n",
       "      <td>0</td>\n",
       "      <td>1</td>\n",
       "      <td>1</td>\n",
       "      <td>0</td>\n",
       "    </tr>\n",
       "    <tr>\n",
       "      <th>4</th>\n",
       "      <td>4</td>\n",
       "      <td>2</td>\n",
       "      <td>164</td>\n",
       "      <td>audi</td>\n",
       "      <td>four</td>\n",
       "      <td>sedan</td>\n",
       "      <td>4wd</td>\n",
       "      <td>front</td>\n",
       "      <td>99.4</td>\n",
       "      <td>0.848630</td>\n",
       "      <td>...</td>\n",
       "      <td>5500.0</td>\n",
       "      <td>18</td>\n",
       "      <td>10.681818</td>\n",
       "      <td>17450.0</td>\n",
       "      <td>13.055556</td>\n",
       "      <td>Low</td>\n",
       "      <td>0</td>\n",
       "      <td>1</td>\n",
       "      <td>1</td>\n",
       "      <td>0</td>\n",
       "    </tr>\n",
       "  </tbody>\n",
       "</table>\n",
       "<p>5 rows × 31 columns</p>\n",
       "</div>"
      ],
      "text/plain": [
       "   Unnamed: 0  symboling  normalized-losses         make num-of-doors  \\\n",
       "0           0          3                122  alfa-romero          two   \n",
       "1           1          3                122  alfa-romero          two   \n",
       "2           2          1                122  alfa-romero          two   \n",
       "3           3          2                164         audi         four   \n",
       "4           4          2                164         audi         four   \n",
       "\n",
       "    body-style drive-wheels engine-location  wheel-base    length  ...  \\\n",
       "0  convertible          rwd           front        88.6  0.811148  ...   \n",
       "1  convertible          rwd           front        88.6  0.811148  ...   \n",
       "2    hatchback          rwd           front        94.5  0.822681  ...   \n",
       "3        sedan          fwd           front        99.8  0.848630  ...   \n",
       "4        sedan          4wd           front        99.4  0.848630  ...   \n",
       "\n",
       "   peak-rpm  city-mpg  highway-L/100km    price city-L/100km  \\\n",
       "0    5000.0        21         8.703704  13495.0    11.190476   \n",
       "1    5000.0        21         8.703704  16500.0    11.190476   \n",
       "2    5000.0        19         9.038462  16500.0    12.368421   \n",
       "3    5500.0        24         7.833333  13950.0     9.791667   \n",
       "4    5500.0        18        10.681818  17450.0    13.055556   \n",
       "\n",
       "   horsepower-binned fuel-type-diesel  fuel-type-gas  aspiration-std  \\\n",
       "0                Low                0              1               1   \n",
       "1                Low                0              1               1   \n",
       "2             Medium                0              1               1   \n",
       "3                Low                0              1               1   \n",
       "4                Low                0              1               1   \n",
       "\n",
       "   aspiration-turbo  \n",
       "0                 0  \n",
       "1                 0  \n",
       "2                 0  \n",
       "3                 0  \n",
       "4                 0  \n",
       "\n",
       "[5 rows x 31 columns]"
      ]
     },
     "execution_count": 3,
     "metadata": {},
     "output_type": "execute_result"
    }
   ],
   "source": [
    "df.head()"
   ]
  },
  {
   "cell_type": "markdown",
   "id": "297f4807-dd2f-42f3-86e7-bd0c80ce737c",
   "metadata": {},
   "source": [
    "## Linear and Multiple Linear Regression"
   ]
  },
  {
   "cell_type": "markdown",
   "id": "5828a634-c045-40a4-8d53-0482e114efc0",
   "metadata": {},
   "source": [
    "#### Simple Linear Regression"
   ]
  },
  {
   "cell_type": "code",
   "execution_count": 4,
   "id": "66506d4c-b701-40c8-88ff-14ee1f427731",
   "metadata": {},
   "outputs": [],
   "source": [
    "from sklearn.linear_model import LinearRegression"
   ]
  },
  {
   "cell_type": "code",
   "execution_count": 5,
   "id": "44d76034-388f-4e0b-b4bf-318e02faee6c",
   "metadata": {},
   "outputs": [],
   "source": [
    "lm1  = LinearRegression()"
   ]
  },
  {
   "cell_type": "code",
   "execution_count": 6,
   "id": "afa74fd4-b35d-47cb-a422-50d96de89cdd",
   "metadata": {},
   "outputs": [],
   "source": [
    "X = df[['highway-L/100km']]"
   ]
  },
  {
   "cell_type": "code",
   "execution_count": 7,
   "id": "0fd950ad-154e-4c71-994e-3caafe25c2c0",
   "metadata": {},
   "outputs": [],
   "source": [
    "Y = df['price']"
   ]
  },
  {
   "cell_type": "code",
   "execution_count": 8,
   "id": "a31cdf77-7ae2-40aa-98a3-6565df8b32c5",
   "metadata": {},
   "outputs": [
    {
     "data": {
      "text/plain": [
       "((201, 1), (201,))"
      ]
     },
     "execution_count": 8,
     "metadata": {},
     "output_type": "execute_result"
    }
   ],
   "source": [
    "X.shape, Y.shape"
   ]
  },
  {
   "cell_type": "code",
   "execution_count": 9,
   "id": "4edc4456-05dd-4787-9935-68f348230e8a",
   "metadata": {},
   "outputs": [
    {
     "data": {
      "text/plain": [
       "LinearRegression()"
      ]
     },
     "execution_count": 9,
     "metadata": {},
     "output_type": "execute_result"
    }
   ],
   "source": [
    "lm1.fit(X,Y)"
   ]
  },
  {
   "cell_type": "code",
   "execution_count": 10,
   "id": "c7d24483-5294-4ebb-86ac-853bcb70710e",
   "metadata": {},
   "outputs": [],
   "source": [
    "Yhat1 = lm1.predict(X)"
   ]
  },
  {
   "cell_type": "code",
   "execution_count": 11,
   "id": "5c60270c-78dd-43f8-aa98-8001d8156ec9",
   "metadata": {},
   "outputs": [
    {
     "data": {
      "text/plain": [
       "numpy.ndarray"
      ]
     },
     "execution_count": 11,
     "metadata": {},
     "output_type": "execute_result"
    }
   ],
   "source": [
    "type(Yhat1)"
   ]
  },
  {
   "cell_type": "code",
   "execution_count": 12,
   "id": "dbc56fa6-2089-47da-9348-63285d4de22b",
   "metadata": {},
   "outputs": [
    {
     "data": {
      "text/plain": [
       "array([15485.52737455, 15485.52737455, 16643.34931414, 12475.19033163,\n",
       "       22327.2024721 ])"
      ]
     },
     "execution_count": 12,
     "metadata": {},
     "output_type": "execute_result"
    }
   ],
   "source": [
    "Yhat1[0:5]"
   ]
  },
  {
   "cell_type": "code",
   "execution_count": 13,
   "id": "d731935d-e75b-4cb0-95c5-daedc936e0a5",
   "metadata": {},
   "outputs": [
    {
     "data": {
      "text/plain": [
       "(array([3458.68511314]), -14617.843054664605)"
      ]
     },
     "execution_count": 13,
     "metadata": {},
     "output_type": "execute_result"
    }
   ],
   "source": [
    "lm1.coef_, lm1.intercept_"
   ]
  },
  {
   "cell_type": "code",
   "execution_count": 14,
   "id": "fae1bc50-868a-4b8c-a01b-f9a77fa2e712",
   "metadata": {},
   "outputs": [
    {
     "name": "stdout",
     "output_type": "stream",
     "text": [
      "[166.86001569] -7963.338906281024\n"
     ]
    }
   ],
   "source": [
    "lm2 = LinearRegression()\n",
    "lm2.fit(df[['engine-size']], df['price'])\n",
    "print(lm2.coef_,lm2.intercept_)"
   ]
  },
  {
   "cell_type": "code",
   "execution_count": 15,
   "id": "a8833d27-2e02-4456-9263-b9e5db9f2521",
   "metadata": {},
   "outputs": [],
   "source": [
    "Yhat2 = lm2.predict(df[['engine-size']])"
   ]
  },
  {
   "cell_type": "code",
   "execution_count": 16,
   "id": "20d61aed-8e76-40e4-9964-49df8d935a04",
   "metadata": {},
   "outputs": [
    {
     "data": {
      "text/plain": [
       "array([13728.4631336 , 13728.4631336 , 17399.38347881, 10224.40280408])"
      ]
     },
     "execution_count": 16,
     "metadata": {},
     "output_type": "execute_result"
    }
   ],
   "source": [
    "Yhat2[0:4]"
   ]
  },
  {
   "cell_type": "markdown",
   "id": "1dc75b5e-8468-4426-967b-411c0f81fe7d",
   "metadata": {},
   "source": [
    "#### Multiple Linear Regression"
   ]
  },
  {
   "cell_type": "code",
   "execution_count": 17,
   "id": "9d2b106a-b1a4-4c24-aeeb-79aa8b61b7a7",
   "metadata": {},
   "outputs": [],
   "source": [
    "Z = df[['horsepower','curb-weight','engine-size','highway-L/100km']]"
   ]
  },
  {
   "cell_type": "code",
   "execution_count": 18,
   "id": "9a5efa4e-6b25-494b-9aa1-5fcd10b47928",
   "metadata": {},
   "outputs": [],
   "source": [
    "lm3 = LinearRegression()"
   ]
  },
  {
   "cell_type": "code",
   "execution_count": 19,
   "id": "bf78c752-c7d1-4d04-b47b-3519df33f3fc",
   "metadata": {},
   "outputs": [
    {
     "data": {
      "text/plain": [
       "LinearRegression()"
      ]
     },
     "execution_count": 19,
     "metadata": {},
     "output_type": "execute_result"
    }
   ],
   "source": [
    "lm3.fit(Z, Y)"
   ]
  },
  {
   "cell_type": "code",
   "execution_count": 20,
   "id": "aebc031b-9824-42ce-879d-e4f92d452b0e",
   "metadata": {},
   "outputs": [
    {
     "data": {
      "text/plain": [
       "(array([ 36.71264156,   3.50108045,  85.34516358, 499.5518178 ]),\n",
       " -14383.535206928053)"
      ]
     },
     "execution_count": 20,
     "metadata": {},
     "output_type": "execute_result"
    }
   ],
   "source": [
    "lm3.coef_,lm3.intercept_"
   ]
  },
  {
   "cell_type": "code",
   "execution_count": 21,
   "id": "c56185ef-c006-43fe-934a-04c51e3e961b",
   "metadata": {},
   "outputs": [],
   "source": [
    "Yhat3 = lm3.predict(Z)"
   ]
  },
  {
   "cell_type": "code",
   "execution_count": 22,
   "id": "7617c516-084c-4956-a932-239956c76b05",
   "metadata": {},
   "outputs": [
    {
     "data": {
      "text/plain": [
       "array([14055.14326508, 14055.14326508, 18641.40645967, 10758.95798023,\n",
       "       16668.53370034])"
      ]
     },
     "execution_count": 22,
     "metadata": {},
     "output_type": "execute_result"
    }
   ],
   "source": [
    "Yhat3[0:5]"
   ]
  },
  {
   "cell_type": "markdown",
   "id": "1ab2f84f-52f6-4366-9ec4-2be26e359597",
   "metadata": {},
   "source": [
    "## Model Evaluation Using Visualization"
   ]
  },
  {
   "cell_type": "code",
   "execution_count": 23,
   "id": "146cc4af-b46f-4a25-af1c-40f9d96db528",
   "metadata": {},
   "outputs": [],
   "source": [
    "import seaborn as sns"
   ]
  },
  {
   "cell_type": "markdown",
   "id": "d32de7d7-04ea-49cc-a8a0-98a7a0082d21",
   "metadata": {},
   "source": [
    "#### Simple Linear Regression"
   ]
  },
  {
   "cell_type": "code",
   "execution_count": 24,
   "id": "ffa41ea4-d439-4728-8621-05e368c992e9",
   "metadata": {},
   "outputs": [
    {
     "data": {
      "text/plain": [
       "<AxesSubplot: xlabel='highway-L/100km', ylabel='price'>"
      ]
     },
     "execution_count": 24,
     "metadata": {},
     "output_type": "execute_result"
    },
    {
     "data": {
      "image/png": "[encoded data removed]",
      "text/plain": [
       "<Figure size 864x720 with 2 Axes>"
      ]
     },
     "metadata": {
      "needs_background": "light"
     },
     "output_type": "display_data"
    }
   ],
   "source": [
    "fig, (ax1, ax2) = plt.subplots(nrows  = 2, ncols = 1, figsize  = (12,10))\n",
    "sns.regplot(x = 'highway-L/100km', y = 'price', data = df, ax = ax1)\n",
    "sns.residplot(x = 'highway-L/100km', y  = 'price', data = df, ax = ax2)"
   ]
  },
  {
   "cell_type": "markdown",
   "id": "83a33e83-c972-432e-865c-93cb185cc700",
   "metadata": {},
   "source": [
    "#### Multiple Linear Regression"
   ]
  },
  {
   "cell_type": "code",
   "execution_count": 25,
   "id": "6cc1966c-9222-471d-aafc-70680b1b18d6",
   "metadata": {},
   "outputs": [
    {
     "data": {
      "text/html": [
       "<div>\n",
       "<style scoped>\n",
       "    .dataframe tbody tr th:only-of-type {\n",
       "        vertical-align: middle;\n",
       "    }\n",
       "\n",
       "    .dataframe tbody tr th {\n",
       "        vertical-align: top;\n",
       "    }\n",
       "\n",
       "    .dataframe thead th {\n",
       "        text-align: right;\n",
       "    }\n",
       "</style>\n",
       "<table border=\"1\" class=\"dataframe\">\n",
       "  <thead>\n",
       "    <tr style=\"text-align: right;\">\n",
       "      <th></th>\n",
       "      <th>horsepower</th>\n",
       "      <th>curb-weight</th>\n",
       "      <th>engine-size</th>\n",
       "      <th>highway-L/100km</th>\n",
       "    </tr>\n",
       "  </thead>\n",
       "  <tbody>\n",
       "    <tr>\n",
       "      <th>horsepower</th>\n",
       "      <td>1.000000</td>\n",
       "      <td>0.757994</td>\n",
       "      <td>0.822649</td>\n",
       "      <td>0.840668</td>\n",
       "    </tr>\n",
       "    <tr>\n",
       "      <th>curb-weight</th>\n",
       "      <td>0.757994</td>\n",
       "      <td>1.000000</td>\n",
       "      <td>0.849072</td>\n",
       "      <td>0.836921</td>\n",
       "    </tr>\n",
       "    <tr>\n",
       "      <th>engine-size</th>\n",
       "      <td>0.822649</td>\n",
       "      <td>0.849072</td>\n",
       "      <td>1.000000</td>\n",
       "      <td>0.783465</td>\n",
       "    </tr>\n",
       "    <tr>\n",
       "      <th>highway-L/100km</th>\n",
       "      <td>0.840668</td>\n",
       "      <td>0.836921</td>\n",
       "      <td>0.783465</td>\n",
       "      <td>1.000000</td>\n",
       "    </tr>\n",
       "  </tbody>\n",
       "</table>\n",
       "</div>"
      ],
      "text/plain": [
       "                 horsepower  curb-weight  engine-size  highway-L/100km\n",
       "horsepower         1.000000     0.757994     0.822649         0.840668\n",
       "curb-weight        0.757994     1.000000     0.849072         0.836921\n",
       "engine-size        0.822649     0.849072     1.000000         0.783465\n",
       "highway-L/100km    0.840668     0.836921     0.783465         1.000000"
      ]
     },
     "execution_count": 25,
     "metadata": {},
     "output_type": "execute_result"
    }
   ],
   "source": [
    "df[['horsepower','curb-weight','engine-size','highway-L/100km']].corr()"
   ]
  },
  {
   "cell_type": "code",
   "execution_count": 26,
   "id": "86438b08-5ae9-4eaa-a3ab-debf3bc744d8",
   "metadata": {},
   "outputs": [
    {
     "data": {
      "image/png": "[encoded data removed]",
      "text/plain": [
       "<Figure size 864x864 with 2 Axes>"
      ]
     },
     "metadata": {
      "needs_background": "light"
     },
     "output_type": "display_data"
    }
   ],
   "source": [
    "fig, (ax1, ax2) = plt.subplots(nrows  = 2, ncols = 1, figsize  = (12,12))\n",
    "sns.scatterplot( x = 'price', y = df.index, data = df, ax = ax1)\n",
    "ax1.set_title('Scatter Distribution of price')\n",
    "ax1.set_ylabel('Index Number')\n",
    "sns.histplot(data = df['price'], color = 'r',kde = True, label= 'Actual Value', ax = ax2)\n",
    "sns.histplot(data = Yhat3, color = 'b',kde= True, label= 'Fitted_Value', ax = ax2)\n",
    "ax2.set_title('Distribution of predicted and real price')\n",
    "plt.show()"
   ]
  },
  {
   "cell_type": "markdown",
   "id": "81a9fdbb-038b-43fc-86de-c9f4cacb06fb",
   "metadata": {},
   "source": [
    "## Polynomial Regression"
   ]
  },
  {
   "cell_type": "code",
   "execution_count": 27,
   "id": "d205de65-8dc1-4433-a03c-e57b1d1265ad",
   "metadata": {},
   "outputs": [],
   "source": [
    "def PlotPolly(model, ind_var_name ,ind_var_val, real_val):\n",
    "    pred_val = model(ind_var_val)\n",
    "    plt.plot(ind_var_val, real_val,'.', c = 'blue')\n",
    "    plt.plot(ind_var_val, pred_val, '.', c = 'red')\n",
    "    plt.title(f\"Predicted Price vs Real Price plotted with {ind_var_name}\")\n",
    "    plt.xlabel(ind_var_name)\n",
    "    plt.ylabel('Price')\n",
    "    plt.show()\n",
    "    plt.close()"
   ]
  },
  {
   "cell_type": "code",
   "execution_count": 28,
   "id": "9b6927b3-23f2-47f0-9b5d-11f28c6bf2c2",
   "metadata": {},
   "outputs": [],
   "source": [
    "# Cannot use X,  as X = df[['...']] and x = df['...']"
   ]
  },
  {
   "cell_type": "code",
   "execution_count": 29,
   "id": "01e79442-1f67-43f7-83c4-32faad563d11",
   "metadata": {},
   "outputs": [],
   "source": [
    "x = df['highway-L/100km']"
   ]
  },
  {
   "cell_type": "code",
   "execution_count": 30,
   "id": "06110910-2f72-4a2b-8908-b42db7ba587f",
   "metadata": {},
   "outputs": [],
   "source": [
    "fit1 = np.polyfit(x, Y, 3)\n",
    "polynomial1 = np.poly1d(fit1)"
   ]
  },
  {
   "cell_type": "code",
   "execution_count": 31,
   "id": "f38931b4-8f48-4778-8886-31af77276377",
   "metadata": {},
   "outputs": [
    {
     "data": {
      "text/plain": [
       "array([  -23.40461026,   923.57034965, -7083.14334079, 21515.16034362])"
      ]
     },
     "execution_count": 31,
     "metadata": {},
     "output_type": "execute_result"
    }
   ],
   "source": [
    "fit1 # polyfit only gives coeff and interceptor, poly1d makes equation"
   ]
  },
  {
   "cell_type": "code",
   "execution_count": 32,
   "id": "498bb650-2d79-4abd-8227-8f6e7708fce5",
   "metadata": {},
   "outputs": [
    {
     "data": {
      "text/plain": [
       "poly1d([  -23.40461026,   923.57034965, -7083.14334079, 21515.16034362])"
      ]
     },
     "execution_count": 32,
     "metadata": {},
     "output_type": "execute_result"
    }
   ],
   "source": [
    "polynomial1"
   ]
  },
  {
   "cell_type": "code",
   "execution_count": 33,
   "id": "ac017570-169d-43bb-993b-af02345dade7",
   "metadata": {},
   "outputs": [
    {
     "name": "stdout",
     "output_type": "stream",
     "text": [
      "       3         2\n",
      "-23.4 x + 923.6 x - 7083 x + 2.152e+04\n"
     ]
    }
   ],
   "source": [
    "print(polynomial1)"
   ]
  },
  {
   "cell_type": "code",
   "execution_count": 34,
   "id": "a15cde6b-9424-4f2e-b611-a5988548a159",
   "metadata": {},
   "outputs": [],
   "source": [
    "Yhat_p1 = polynomial1(df['highway-L/100km'])"
   ]
  },
  {
   "cell_type": "code",
   "execution_count": 35,
   "id": "c0c21ffd-c17b-4527-ad10-33095168ce5a",
   "metadata": {},
   "outputs": [
    {
     "data": {
      "image/png": "[encoded data removed]",
      "text/plain": [
       "<Figure size 864x864 with 2 Axes>"
      ]
     },
     "metadata": {
      "needs_background": "light"
     },
     "output_type": "display_data"
    }
   ],
   "source": [
    "fig, (ax1, ax2) = plt.subplots(nrows  = 2, ncols = 1, figsize  = (12,12))\n",
    "ax1.plot(df['highway-L/100km'], Yhat_p1,'.')\n",
    "ax1.set_title('Predicted Price')\n",
    "ax2.Plot = PlotPolly(polynomial1, 'Highway-L/100km', df['highway-L/100km'], df['price'])"
   ]
  },
  {
   "cell_type": "code",
   "execution_count": 36,
   "id": "58ce90b2-8b7c-4ae6-9456-fa429d2e2c84",
   "metadata": {},
   "outputs": [],
   "source": [
    "fit2 = np.polyfit(x,Y,11)\n",
    "polynomial2 = np.poly1d(fit2)"
   ]
  },
  {
   "cell_type": "code",
   "execution_count": 37,
   "id": "f1228027-2b4f-4935-a861-196673240179",
   "metadata": {},
   "outputs": [
    {
     "name": "stdout",
     "output_type": "stream",
     "text": [
      "          11          10         9         8             7\n",
      "0.003545 x  - 0.4733 x  + 26.87 x - 870.3 x + 1.803e+04 x\n",
      "              6             5             4            3             2\n",
      " - 2.523e+05 x + 2.441e+06 x - 1.637e+07 x + 7.47e+07 x - 2.213e+08 x + 3.832e+08 x - 2.943e+08\n"
     ]
    }
   ],
   "source": [
    "print(polynomial2)"
   ]
  },
  {
   "cell_type": "code",
   "execution_count": 38,
   "id": "3afde750-332a-48f8-895d-20972d11e6fb",
   "metadata": {},
   "outputs": [],
   "source": [
    "Yhat_p2 = polynomial2(df['highway-L/100km'])"
   ]
  },
  {
   "cell_type": "code",
   "execution_count": 39,
   "id": "008570b4-3d28-46ab-b69f-c26ae28d2ae7",
   "metadata": {},
   "outputs": [
    {
     "data": {
      "image/png": "[encoded data removed]",
      "text/plain": [
       "<Figure size 864x864 with 2 Axes>"
      ]
     },
     "metadata": {
      "needs_background": "light"
     },
     "output_type": "display_data"
    }
   ],
   "source": [
    "fig, (ax1, ax2) = plt.subplots(nrows  = 2, ncols = 1, figsize  = (12,12))\n",
    "ax1.plot(df['highway-L/100km'],Yhat_p2, '.',c = 'red')\n",
    "ax1.set_title('Predicted Price')\n",
    "ax1.ticklabel_format(useOffset=False)\n",
    "ax2.plot =  PlotPolly(polynomial2, 'Highway-L/100km', df['highway-L/100km'], df['price'])"
   ]
  },
  {
   "cell_type": "markdown",
   "id": "589a86d4-9494-454f-bd81-eb629d39335b",
   "metadata": {},
   "source": [
    "## Polynomial Multivariate "
   ]
  },
  {
   "cell_type": "code",
   "execution_count": 40,
   "id": "55838ffd-a548-4d49-bec9-823f84909858",
   "metadata": {},
   "outputs": [],
   "source": [
    "from sklearn.preprocessing import PolynomialFeatures\n",
    "from sklearn.preprocessing import StandardScaler"
   ]
  },
  {
   "cell_type": "code",
   "execution_count": 41,
   "id": "2bc87aa6-b2a6-4e60-bdc4-ac6426014c18",
   "metadata": {},
   "outputs": [
    {
     "data": {
      "text/plain": [
       "PolynomialFeatures()"
      ]
     },
     "execution_count": 41,
     "metadata": {},
     "output_type": "execute_result"
    }
   ],
   "source": [
    "# Default degree in Polynomial Features is 2\n",
    "pr = PolynomialFeatures(degree = 2)\n",
    "pr"
   ]
  },
  {
   "cell_type": "code",
   "execution_count": 42,
   "id": "86ebb5bb-5973-44fe-800f-8077a2ad3840",
   "metadata": {},
   "outputs": [],
   "source": [
    "Z = df[['horsepower', 'curb-weight', 'engine-size', 'highway-L/100km']]"
   ]
  },
  {
   "cell_type": "code",
   "execution_count": 43,
   "id": "48b4a88d-89c0-4f71-8c92-f40aedea7b47",
   "metadata": {},
   "outputs": [],
   "source": [
    "Z_pr = pr.fit_transform(Z)"
   ]
  },
  {
   "cell_type": "code",
   "execution_count": 44,
   "id": "1caf11ce-77e7-4a1f-bc25-0c8b0b4d0d02",
   "metadata": {},
   "outputs": [
    {
     "name": "stdout",
     "output_type": "stream",
     "text": [
      "(201, 4) (201, 15)\n"
     ]
    }
   ],
   "source": [
    "print(Z.shape,Z_pr.shape)"
   ]
  },
  {
   "cell_type": "code",
   "execution_count": 45,
   "id": "7bb638a7-9ae8-44a0-ae2b-4d9bdf80809d",
   "metadata": {},
   "outputs": [
    {
     "data": {
      "text/plain": [
       "(pandas.core.frame.DataFrame, numpy.ndarray)"
      ]
     },
     "execution_count": 45,
     "metadata": {},
     "output_type": "execute_result"
    }
   ],
   "source": [
    "type(Z), type(Z_pr)"
   ]
  },
  {
   "cell_type": "code",
   "execution_count": 46,
   "id": "d414dc80-5395-42ff-8e32-ecdf4a45f5e4",
   "metadata": {},
   "outputs": [],
   "source": [
    "lm_pm = LinearRegression()"
   ]
  },
  {
   "cell_type": "code",
   "execution_count": 47,
   "id": "f9685a80-cccb-468b-b15b-ff15d383377c",
   "metadata": {},
   "outputs": [
    {
     "data": {
      "text/plain": [
       "LinearRegression()"
      ]
     },
     "execution_count": 47,
     "metadata": {},
     "output_type": "execute_result"
    }
   ],
   "source": [
    "lm_pm.fit(Z_pr,Y)"
   ]
  },
  {
   "cell_type": "code",
   "execution_count": 48,
   "id": "fed22300-75b0-402d-a065-736771e9dbe9",
   "metadata": {},
   "outputs": [],
   "source": [
    "Yhat_pm  = lm_pm.predict(Z_pr)"
   ]
  },
  {
   "cell_type": "code",
   "execution_count": 49,
   "id": "bedaad5e-9afe-4852-92be-fb14031d5b71",
   "metadata": {},
   "outputs": [
    {
     "data": {
      "text/plain": [
       "array([12395.97939241, 12395.97939241, 18425.76361781,  9981.83005509,\n",
       "       17552.10180771, 13495.52907994, 14610.64282949, 15069.81768809,\n",
       "       19740.53605423, 10021.73195239])"
      ]
     },
     "execution_count": 49,
     "metadata": {},
     "output_type": "execute_result"
    }
   ],
   "source": [
    "Yhat_pm[0:10]"
   ]
  },
  {
   "cell_type": "markdown",
   "id": "947882ca-94c5-4912-87f1-56cebeac6164",
   "metadata": {},
   "source": [
    "## Pipeline"
   ]
  },
  {
   "cell_type": "code",
   "execution_count": 50,
   "id": "ab18f7a9-7e57-4d2d-a14d-f5ef433e98f7",
   "metadata": {},
   "outputs": [],
   "source": [
    "from sklearn.pipeline import Pipeline"
   ]
  },
  {
   "cell_type": "code",
   "execution_count": 51,
   "id": "ba34bbc7-a184-40c9-b7c6-01cbff489761",
   "metadata": {},
   "outputs": [],
   "source": [
    "Input=[('scale', StandardScaler()), ('polynomial', PolynomialFeatures(include_bias=False)), ('model', LinearRegression())]"
   ]
  },
  {
   "cell_type": "code",
   "execution_count": 52,
   "id": "2bcec101-487c-452f-8c35-41bea54cc41f",
   "metadata": {},
   "outputs": [
    {
     "data": {
      "text/plain": [
       "Pipeline(steps=[('scale', StandardScaler()),\n",
       "                ('polynomial', PolynomialFeatures(include_bias=False)),\n",
       "                ('model', LinearRegression())])"
      ]
     },
     "execution_count": 52,
     "metadata": {},
     "output_type": "execute_result"
    }
   ],
   "source": [
    "pipe=Pipeline(Input)\n",
    "pipe"
   ]
  },
  {
   "cell_type": "code",
   "execution_count": 53,
   "id": "b9e92968-6d19-4785-89de-f7b37bbf740a",
   "metadata": {},
   "outputs": [
    {
     "data": {
      "text/plain": [
       "Pipeline(steps=[('scale', StandardScaler()),\n",
       "                ('polynomial', PolynomialFeatures(include_bias=False)),\n",
       "                ('model', LinearRegression())])"
      ]
     },
     "execution_count": 53,
     "metadata": {},
     "output_type": "execute_result"
    }
   ],
   "source": [
    "pipe.fit(Z,Y)"
   ]
  },
  {
   "cell_type": "code",
   "execution_count": 54,
   "id": "36950480-3a4f-47ed-9bc1-c7baffdd8fde",
   "metadata": {},
   "outputs": [],
   "source": [
    "ypipe = pipe.predict(Z)"
   ]
  },
  {
   "cell_type": "code",
   "execution_count": 55,
   "id": "ff493e80-1f8d-4711-9933-7ac31c1d61b8",
   "metadata": {},
   "outputs": [
    {
     "data": {
      "text/plain": [
       "array([12395.97939239, 12395.97939239, 18425.76361762,  9981.83005507,\n",
       "       17552.10180769, 13495.52907994, 14610.64282949, 15069.81768809,\n",
       "       19740.53605408, 10021.73195238])"
      ]
     },
     "execution_count": 55,
     "metadata": {},
     "output_type": "execute_result"
    }
   ],
   "source": [
    "ypipe[0:10]"
   ]
  },
  {
   "cell_type": "code",
   "execution_count": 56,
   "id": "b456b630-8c4d-464b-b62c-456bc8730c11",
   "metadata": {},
   "outputs": [
    {
     "data": {
      "text/plain": [
       "array([14055.14326508, 14055.14326508, 18641.40645967, 10758.95798023,\n",
       "       16668.53370034, 14734.79338711, 15914.6574987 , 16299.77634818,\n",
       "       18610.5191684 , 10974.89925173])"
      ]
     },
     "execution_count": 56,
     "metadata": {},
     "output_type": "execute_result"
    }
   ],
   "source": [
    "Input2 = [('scale', StandardScaler()),('model',LinearRegression())]\n",
    "pipe2  = Pipeline(Input2)\n",
    "pipe2.fit(Z,Y)\n",
    "ypipe2 = pipe2.predict(Z)\n",
    "ypipe2[0:10]"
   ]
  },
  {
   "cell_type": "markdown",
   "id": "52cee4a4-1d15-4db0-ac3b-cf0f03dea30c",
   "metadata": {},
   "source": [
    "## Quantative Evaluation"
   ]
  },
  {
   "cell_type": "markdown",
   "id": "e128ac8b-1c00-4515-84a7-d2cb2e0c4a5b",
   "metadata": {},
   "source": [
    "#### R-squared (coefficient of determination) and MSE (mean squared error)"
   ]
  },
  {
   "cell_type": "code",
   "execution_count": 57,
   "id": "f2a07051-5465-4c92-8d9e-c3ade13b9aeb",
   "metadata": {},
   "outputs": [],
   "source": [
    "from sklearn.metrics import mean_squared_error\n",
    "from sklearn.metrics import r2_score"
   ]
  },
  {
   "cell_type": "code",
   "execution_count": 58,
   "id": "c84e4ec9-1d2d-419c-92f2-4908b6095175",
   "metadata": {},
   "outputs": [],
   "source": [
    "# X = df['highway-L/100km']\n",
    "# Y = df['price']\n",
    "# Z = df[]\n",
    "# lm1 = Simple Linear Regression(X,Y)\n",
    "# lm3 = Multiple Linear Regression(Z,Y)\n",
    "# lm_p1 = Polynomial fit degree  = 2 \n",
    "# lm_pm = Polynomial Multivariate"
   ]
  },
  {
   "cell_type": "markdown",
   "id": "488be1c1-8427-4b9d-8711-ad1067f5025e",
   "metadata": {},
   "source": [
    "#### Linear Regression"
   ]
  },
  {
   "cell_type": "code",
   "execution_count": 59,
   "id": "c29cd96f-1e73-4066-bb33-39302d8e7471",
   "metadata": {},
   "outputs": [
    {
     "data": {
      "text/plain": [
       "0.6417894513258818"
      ]
     },
     "execution_count": 59,
     "metadata": {},
     "output_type": "execute_result"
    }
   ],
   "source": [
    "lm1.score(X,Y)"
   ]
  },
  {
   "cell_type": "code",
   "execution_count": 60,
   "id": "df4c3761-ffb3-4656-8216-cab595d5fdf7",
   "metadata": {},
   "outputs": [
    {
     "data": {
      "text/plain": [
       "22510543.777085222"
      ]
     },
     "execution_count": 60,
     "metadata": {},
     "output_type": "execute_result"
    }
   ],
   "source": [
    "mean_squared_error(Y,Yhat1)"
   ]
  },
  {
   "cell_type": "markdown",
   "id": "4107158d-39a3-456c-956d-e5378120f1f9",
   "metadata": {},
   "source": [
    "#### Multiple Linear Regression"
   ]
  },
  {
   "cell_type": "code",
   "execution_count": 61,
   "id": "980a78e3-9cc0-446f-91e3-6bc40fdb12c0",
   "metadata": {},
   "outputs": [
    {
     "data": {
      "text/plain": [
       "0.8118374865547417"
      ]
     },
     "execution_count": 61,
     "metadata": {},
     "output_type": "execute_result"
    }
   ],
   "source": [
    "lm3.score(Z,Y)"
   ]
  },
  {
   "cell_type": "code",
   "execution_count": 62,
   "id": "f8efbf6e-c58f-472e-b3a0-ef4b17d4cc29",
   "metadata": {},
   "outputs": [
    {
     "data": {
      "text/plain": [
       "11824443.78534828"
      ]
     },
     "execution_count": 62,
     "metadata": {},
     "output_type": "execute_result"
    }
   ],
   "source": [
    "mean_squared_error(Y,Yhat3)"
   ]
  },
  {
   "cell_type": "markdown",
   "id": "dc21e0ab-ad4b-4355-98a7-3f0b86f9cd3f",
   "metadata": {},
   "source": [
    "#### Polynomial"
   ]
  },
  {
   "cell_type": "code",
   "execution_count": 63,
   "id": "23a75783-da62-4721-ba05-2e28d432b5f9",
   "metadata": {},
   "outputs": [
    {
     "data": {
      "text/plain": [
       "0.6753581660812171"
      ]
     },
     "execution_count": 63,
     "metadata": {},
     "output_type": "execute_result"
    }
   ],
   "source": [
    "r2_score(Y, Yhat_p1)"
   ]
  },
  {
   "cell_type": "code",
   "execution_count": 64,
   "id": "1f722c07-2404-4eb5-9386-8f9515b841de",
   "metadata": {},
   "outputs": [
    {
     "data": {
      "text/plain": [
       "20401030.180019397"
      ]
     },
     "execution_count": 64,
     "metadata": {},
     "output_type": "execute_result"
    }
   ],
   "source": [
    "mean_squared_error(Y, Yhat_p1)"
   ]
  },
  {
   "cell_type": "code",
   "execution_count": 65,
   "id": "1a2729ed-02e8-427a-bc55-a38cbc68377e",
   "metadata": {},
   "outputs": [
    {
     "data": {
      "text/plain": [
       "0.8531394061615483"
      ]
     },
     "execution_count": 65,
     "metadata": {},
     "output_type": "execute_result"
    }
   ],
   "source": [
    "r2_score(Y,Yhat_pm)"
   ]
  },
  {
   "cell_type": "code",
   "execution_count": 66,
   "id": "9406f994-b96a-4ede-91b0-b1cad373acaf",
   "metadata": {},
   "outputs": [
    {
     "data": {
      "text/plain": [
       "9228962.795667836"
      ]
     },
     "execution_count": 66,
     "metadata": {},
     "output_type": "execute_result"
    }
   ],
   "source": [
    "mean_squared_error(Y,Yhat_pm)"
   ]
  },
  {
   "cell_type": "markdown",
   "id": "1995204b-204b-470d-bf67-aa04119f76e9",
   "metadata": {},
   "source": [
    "## Prediction With Test Data"
   ]
  },
  {
   "cell_type": "code",
   "execution_count": 67,
   "id": "c3177f54-ad0e-4529-87b2-f4848b1347aa",
   "metadata": {},
   "outputs": [],
   "source": [
    "test_data = np.arange(1,100,1).reshape(-1,1)"
   ]
  },
  {
   "cell_type": "code",
   "execution_count": 68,
   "id": "eaee7e39-e764-4629-8272-f0e85f1dd03c",
   "metadata": {},
   "outputs": [],
   "source": [
    "lm_p = LinearRegression()"
   ]
  },
  {
   "cell_type": "code",
   "execution_count": 69,
   "id": "4a47ffc1-5825-4e4d-a97f-8a8679323ad9",
   "metadata": {},
   "outputs": [
    {
     "data": {
      "text/plain": [
       "LinearRegression()"
      ]
     },
     "execution_count": 69,
     "metadata": {},
     "output_type": "execute_result"
    }
   ],
   "source": [
    "lm_p.fit(X.values,Y)"
   ]
  },
  {
   "cell_type": "code",
   "execution_count": 70,
   "id": "e5242628-7372-4ddf-84b9-03a66a557165",
   "metadata": {},
   "outputs": [
    {
     "data": {
      "text/plain": [
       "array([-11159.15794152,  -7700.47282838,  -4241.78771523,   -783.10260209])"
      ]
     },
     "execution_count": 70,
     "metadata": {},
     "output_type": "execute_result"
    }
   ],
   "source": [
    "yhat_test = lm_p.predict(test_data)\n",
    "yhat_test[0:4]"
   ]
  },
  {
   "cell_type": "code",
   "execution_count": 71,
   "id": "48bbdf45-5981-4440-9033-e1e1c7811cc2",
   "metadata": {},
   "outputs": [
    {
     "data": {
      "image/png": "[encoded data removed]",
      "text/plain": [
       "<Figure size 432x288 with 1 Axes>"
      ]
     },
     "metadata": {
      "needs_background": "light"
     },
     "output_type": "display_data"
    }
   ],
   "source": [
    "plt.plot(test_data, yhat_test)\n",
    "plt.show()"
   ]
  },
  {
   "cell_type": "markdown",
   "id": "6a4c6ee4-d5c5-41b9-8452-cbd4c2c5f6e2",
   "metadata": {},
   "source": [
    "### Final thoughts"
   ]
  },
  {
   "cell_type": "markdown",
   "id": "1947ed53-eaef-4ac9-8025-a69bc8932111",
   "metadata": {},
   "source": [
    "### In this case MLR model is most suitable. Because its R-squared is largest and MSE is lowest."
   ]
  },
  {
   "cell_type": "markdown",
   "id": "9bb764a2-dba2-49dc-9430-6930c77c81fe",
   "metadata": {},
   "source": [
    "### Thank You"
   ]
  }
 ],
 "metadata": {
  "kernelspec": {
   "display_name": "Python 3 (ipykernel)",
   "language": "python",
   "name": "python3"
  },
  "language_info": {
   "codemirror_mode": {
    "name": "ipython",
    "version": 3
   },
   "file_extension": ".py",
   "mimetype": "text/x-python",
   "name": "python",
   "nbconvert_exporter": "python",
   "pygments_lexer": "ipython3",
   "version": "3.9.13"
  }
 },
 "nbformat": 4,
 "nbformat_minor": 5
}
