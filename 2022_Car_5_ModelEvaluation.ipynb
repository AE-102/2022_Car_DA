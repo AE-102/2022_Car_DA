{
 "cells": [
  {
   "cell_type": "markdown",
   "id": "15abaa22-0715-444a-ad38-82754bd07225",
   "metadata": {},
   "source": [
    "# Model Evaluation and Refinement"
   ]
  },
  {
   "cell_type": "code",
   "execution_count": 1,
   "id": "4254c128-a2cb-44c0-a862-37ce81ec98ee",
   "metadata": {},
   "outputs": [],
   "source": [
    "import pandas as pd\n",
    "import numpy as np\n",
    "import matplotlib.pyplot as plt\n",
    "import seaborn as sns\n",
    "from ipywidgets import interact, interactive, fixed, interact_manual"
   ]
  },
  {
   "cell_type": "code",
   "execution_count": 2,
   "id": "5f50cb7d-ec4f-481e-ac40-829c02d00d31",
   "metadata": {},
   "outputs": [],
   "source": [
    "df = pd.read_csv('2022_Car_Data_Cleaned.csv', index_col = [0])"
   ]
  },
  {
   "cell_type": "code",
   "execution_count": 3,
   "id": "55b90aab-b74b-4b89-b5f0-c2a87b65b6cf",
   "metadata": {},
   "outputs": [],
   "source": [
    "df_n = df.select_dtypes(include = np.number)"
   ]
  },
  {
   "cell_type": "code",
   "execution_count": 4,
   "id": "71c27b80-39f4-43e4-bfe6-0a03b255602b",
   "metadata": {},
   "outputs": [
    {
     "data": {
      "text/plain": [
       "Index(['symboling', 'normalized-losses', 'wheel-base', 'length', 'width',\n",
       "       'height', 'curb-weight', 'engine-size', 'bore', 'stroke',\n",
       "       'compression-ratio', 'horsepower', 'peak-rpm', 'city-mpg',\n",
       "       'highway-L/100km', 'price', 'city-L/100km', 'fuel-type-diesel',\n",
       "       'fuel-type-gas', 'aspiration-std', 'aspiration-turbo'],\n",
       "      dtype='object')"
      ]
     },
     "execution_count": 4,
     "metadata": {},
     "output_type": "execute_result"
    }
   ],
   "source": [
    "df_n.columns"
   ]
  },
  {
   "cell_type": "markdown",
   "id": "d0522ac3-927e-48f3-8656-445d230097d2",
   "metadata": {},
   "source": [
    "### Overfitting or Underfitting Model\n",
    "#### SLR can suffer from underfitting meanwhile overfitting is common in MLR and Polynomial Regression. Properly chosen models fits just fine."
   ]
  },
  {
   "cell_type": "code",
   "execution_count": 5,
   "id": "a40435fc-97d0-4d84-a6ce-23d4b6ce7245",
   "metadata": {},
   "outputs": [],
   "source": [
    "from sklearn.model_selection import train_test_split\n",
    "from sklearn.linear_model import LinearRegression\n",
    "from sklearn.metrics import mean_squared_error, r2_score"
   ]
  },
  {
   "cell_type": "markdown",
   "id": "9dcbf2c6-04ba-4db7-9833-ad83edfd8e2d",
   "metadata": {},
   "source": [
    "### Simple Linear Regression"
   ]
  },
  {
   "cell_type": "code",
   "execution_count": 6,
   "id": "fb0a2bc6-768c-4a6c-8ec3-16918ee8e963",
   "metadata": {},
   "outputs": [],
   "source": [
    "xdata = df_n.drop('price', axis = 1)\n",
    "ydata = df_n['price']"
   ]
  },
  {
   "cell_type": "code",
   "execution_count": 7,
   "id": "8696e6d0-e792-4d07-99cf-b1ab34f85a8d",
   "metadata": {},
   "outputs": [],
   "source": [
    "xtrain, xtest, ytrain, ytest = train_test_split(xdata, ydata, test_size = 0.10, random_state = 1)"
   ]
  },
  {
   "cell_type": "code",
   "execution_count": 8,
   "id": "a3d97824-c5a5-48fb-ae0b-4954591e6a29",
   "metadata": {},
   "outputs": [
    {
     "data": {
      "text/plain": [
       "((180, 20), (21, 20))"
      ]
     },
     "execution_count": 8,
     "metadata": {},
     "output_type": "execute_result"
    }
   ],
   "source": [
    "xtrain.shape, xtest.shape"
   ]
  },
  {
   "cell_type": "code",
   "execution_count": 9,
   "id": "79b13e35-3bf7-4234-bfec-36bd99ed8bd3",
   "metadata": {},
   "outputs": [],
   "source": [
    "lm = LinearRegression()"
   ]
  },
  {
   "cell_type": "code",
   "execution_count": 10,
   "id": "be44c901-09dd-443d-86cf-b415d719cbc9",
   "metadata": {},
   "outputs": [
    {
     "data": {
      "text/plain": [
       "LinearRegression()"
      ]
     },
     "execution_count": 10,
     "metadata": {},
     "output_type": "execute_result"
    }
   ],
   "source": [
    "lm.fit(xtrain[['horsepower']], ytrain)"
   ]
  },
  {
   "cell_type": "code",
   "execution_count": 11,
   "id": "c32a97f3-4aaf-4b06-8f0a-501e21dea16f",
   "metadata": {},
   "outputs": [],
   "source": [
    "yhat = lm.predict(xdata[['horsepower']])"
   ]
  },
  {
   "cell_type": "code",
   "execution_count": 12,
   "id": "ac707e93-495e-48ec-8ae9-fbf357acfec3",
   "metadata": {},
   "outputs": [
    {
     "data": {
      "text/plain": [
       "array([14602.89127786, 14602.89127786, 22035.21657084, 13047.28830956])"
      ]
     },
     "execution_count": 12,
     "metadata": {},
     "output_type": "execute_result"
    }
   ],
   "source": [
    "yhat[0:4]"
   ]
  },
  {
   "cell_type": "code",
   "execution_count": 13,
   "id": "15ad2ec9-50af-4744-b6e8-da4bc7a5ac4b",
   "metadata": {},
   "outputs": [
    {
     "data": {
      "text/plain": [
       "21650922.33938237"
      ]
     },
     "execution_count": 13,
     "metadata": {},
     "output_type": "execute_result"
    }
   ],
   "source": [
    "mean_squared_error(ydata,yhat)"
   ]
  },
  {
   "cell_type": "code",
   "execution_count": 14,
   "id": "b481438a-0244-4b13-a366-d103324b932e",
   "metadata": {},
   "outputs": [
    {
     "name": "stdout",
     "output_type": "stream",
     "text": [
      "R-Squared for SLR :\n",
      "Train Data : 0.6621588065210514 \n",
      "Test  Data : 0.3634554596325087 \n",
      "Total Data : 0.6554686174047142\n"
     ]
    }
   ],
   "source": [
    "r2_traindata =  lm.score(xtrain[['horsepower']],ytrain)\n",
    "r2_testdata  =  lm.score(xtest[['horsepower']],ytest)\n",
    "r2_totaldata =  lm.score(xdata[['horsepower']],ydata)\n",
    "\n",
    "print(f\"R-Squared for SLR :\\nTrain Data : {r2_traindata} \\nTest  Data : {r2_testdata} \\nTotal Data : {r2_totaldata}\")"
   ]
  },
  {
   "cell_type": "markdown",
   "id": "ca7fa52c-4196-49b0-9fd5-435023b0b265",
   "metadata": {},
   "source": [
    "### Cross-Validation Score"
   ]
  },
  {
   "cell_type": "code",
   "execution_count": 15,
   "id": "c261488f-9931-4fea-8374-93c99f72a9d7",
   "metadata": {},
   "outputs": [],
   "source": [
    "from sklearn.model_selection import cross_val_score, cross_val_predict"
   ]
  },
  {
   "cell_type": "code",
   "execution_count": 16,
   "id": "fb0200f1-ddcd-42e5-a701-5c060ab16115",
   "metadata": {},
   "outputs": [],
   "source": [
    "lm2 = LinearRegression()"
   ]
  },
  {
   "cell_type": "code",
   "execution_count": 17,
   "id": "faefae8b-69db-44ac-9b88-3b331fe63cd8",
   "metadata": {},
   "outputs": [],
   "source": [
    "Rcross = cross_val_score(lm2, xdata[['horsepower']], ydata, cv = 4)"
   ]
  },
  {
   "cell_type": "code",
   "execution_count": 18,
   "id": "fbcd1e78-b823-451d-a615-1e16bdd5b74f",
   "metadata": {},
   "outputs": [
    {
     "data": {
      "text/plain": [
       "array([0.7747254 , 0.51722436, 0.74881624, 0.04792707])"
      ]
     },
     "execution_count": 18,
     "metadata": {},
     "output_type": "execute_result"
    }
   ],
   "source": [
    "Rcross"
   ]
  },
  {
   "cell_type": "code",
   "execution_count": 19,
   "id": "9b065897-2f3b-46d4-9fcb-baea7df9366f",
   "metadata": {},
   "outputs": [
    {
     "data": {
      "text/plain": [
       "(0.5221732664777984, 0.29158341973020163)"
      ]
     },
     "execution_count": 19,
     "metadata": {},
     "output_type": "execute_result"
    }
   ],
   "source": [
    "Rcross.mean(), Rcross.std()"
   ]
  },
  {
   "cell_type": "code",
   "execution_count": 20,
   "id": "09fb37f7-8006-4031-97a1-362bd331eac9",
   "metadata": {},
   "outputs": [
    {
     "data": {
      "text/plain": [
       "array([14143.6442164 , 14143.6442164 , 20817.63619486, 12746.7621744 ])"
      ]
     },
     "execution_count": 20,
     "metadata": {},
     "output_type": "execute_result"
    }
   ],
   "source": [
    "yhat2 = cross_val_predict(lm,xdata[['horsepower']],ydata,cv=4)\n",
    "yhat2[0:4]"
   ]
  },
  {
   "cell_type": "code",
   "execution_count": 21,
   "id": "68a60e30-6a3c-4651-b677-a099ad3279a8",
   "metadata": {},
   "outputs": [
    {
     "data": {
      "text/plain": [
       "(201,)"
      ]
     },
     "execution_count": 21,
     "metadata": {},
     "output_type": "execute_result"
    }
   ],
   "source": [
    "yhat2.shape"
   ]
  },
  {
   "cell_type": "code",
   "execution_count": 22,
   "id": "91870382-9838-452a-afb7-d1648dfafd07",
   "metadata": {},
   "outputs": [
    {
     "data": {
      "text/plain": [
       "23495641.533768874"
      ]
     },
     "execution_count": 22,
     "metadata": {},
     "output_type": "execute_result"
    }
   ],
   "source": [
    "mean_squared_error(ydata,yhat2)"
   ]
  },
  {
   "cell_type": "code",
   "execution_count": 23,
   "id": "cf82e60b-d3b7-4331-96fb-5087035d5089",
   "metadata": {},
   "outputs": [
    {
     "data": {
      "text/plain": [
       "0.626113579102906"
      ]
     },
     "execution_count": 23,
     "metadata": {},
     "output_type": "execute_result"
    }
   ],
   "source": [
    "r2_score(ydata,yhat2)"
   ]
  },
  {
   "cell_type": "markdown",
   "id": "f45dee20-4fe4-47a5-ae4c-731c36ee3de1",
   "metadata": {},
   "source": [
    "### Multiple Linear Regression"
   ]
  },
  {
   "cell_type": "code",
   "execution_count": 24,
   "id": "4a9154f9-6d5a-4b04-9661-defd27ad8b83",
   "metadata": {},
   "outputs": [],
   "source": [
    "def DistributionPlot(Actual_value, Predicted_value, Title):\n",
    "    width = 8\n",
    "    height = 6\n",
    "    plt.figure(figsize=(width, height))\n",
    "\n",
    "    ax1 = sns.histplot(Actual_value,kde = True, color=\"r\")\n",
    "    ax2 = sns.histplot(Predicted_value,kde = True, color=\"b\", ax=ax1)\n",
    "\n",
    "    plt.title(Title)\n",
    "    plt.xlabel('Price (in dollars)')\n",
    "    plt.ylabel('Proportion of Cars')\n",
    "    plt.legend(title='', loc='upper right', labels=['Actual Distribution', 'Predicted Distribution'])\n",
    "\n",
    "    plt.show()\n",
    "    plt.close()"
   ]
  },
  {
   "cell_type": "code",
   "execution_count": 25,
   "id": "a32dafa0-c44d-4a2c-908a-780e13ec8190",
   "metadata": {},
   "outputs": [
    {
     "data": {
      "text/plain": [
       "LinearRegression()"
      ]
     },
     "execution_count": 25,
     "metadata": {},
     "output_type": "execute_result"
    }
   ],
   "source": [
    "lr_m  = LinearRegression()\n",
    "lr_m.fit(xtrain[['horsepower','curb-weight','engine-size','highway-L/100km']], ytrain) "
   ]
  },
  {
   "cell_type": "code",
   "execution_count": 26,
   "id": "eceda1bf-d64b-40bf-bfa4-db8648574f22",
   "metadata": {},
   "outputs": [
    {
     "name": "stdout",
     "output_type": "stream",
     "text": [
      "R-Squared for MLR :\n",
      "Train Data : 0.816884086465114 \n",
      "Test  Data : 0.6086742248488661 \n",
      "Total Data : 0.8115531950326966\n"
     ]
    }
   ],
   "source": [
    "r2_traindata_m  = lr_m.score(xtrain[['horsepower','curb-weight','engine-size','highway-L/100km']], ytrain)\n",
    "r2_testdata_m = lr_m.score(xtest[['horsepower','curb-weight','engine-size','highway-L/100km']], ytest)\n",
    "r2_totaldata_m = lr_m.score(xdata[['horsepower','curb-weight','engine-size','highway-L/100km']], ydata)\n",
    "\n",
    "print(f\"R-Squared for MLR :\\nTrain Data : {r2_traindata_m} \\nTest  Data : {r2_testdata_m} \\nTotal Data : {r2_totaldata_m}\")"
   ]
  },
  {
   "cell_type": "code",
   "execution_count": 27,
   "id": "ebabc0b7-a948-4d17-988f-218a82e8ed9c",
   "metadata": {},
   "outputs": [],
   "source": [
    "yhat_train = lr_m.predict(xtrain[['horsepower','curb-weight','engine-size','highway-L/100km']])\n",
    "yhat_test =  lr_m.predict(xtest[['horsepower','curb-weight','engine-size','highway-L/100km']])"
   ]
  },
  {
   "cell_type": "code",
   "execution_count": 28,
   "id": "202aed09-b159-4dd9-bfe4-15cf638be054",
   "metadata": {},
   "outputs": [
    {
     "data": {
      "image/png": "[encoded data removed]",
      "text/plain": [
       "<Figure size 576x432 with 1 Axes>"
      ]
     },
     "metadata": {
      "needs_background": "light"
     },
     "output_type": "display_data"
    },
    {
     "data": {
      "image/png": "[encoded data removed]",
      "text/plain": [
       "<Figure size 576x432 with 1 Axes>"
      ]
     },
     "metadata": {
      "needs_background": "light"
     },
     "output_type": "display_data"
    }
   ],
   "source": [
    "Title = 'Distribution  Plot of  Predicted Value Using Training Data vs Training Data Distribution'\n",
    "DistributionPlot(ytrain, yhat_train, Title)\n",
    "\n",
    "Title='Distribution  Plot of  Predicted Value Using Test Data vs Data Distribution of Test Data'\n",
    "DistributionPlot(ytest,yhat_test,Title)"
   ]
  },
  {
   "cell_type": "markdown",
   "id": "eb739d13-2098-4df6-b8ca-1424dcc8a02c",
   "metadata": {},
   "source": [
    "### Polynomial Regression"
   ]
  },
  {
   "cell_type": "code",
   "execution_count": 29,
   "id": "d2e2521a-71e2-4f9a-a7b0-c69a11ff2d06",
   "metadata": {},
   "outputs": [],
   "source": [
    "from sklearn.preprocessing import PolynomialFeatures"
   ]
  },
  {
   "cell_type": "code",
   "execution_count": 30,
   "id": "2f2d3c73-f9e0-4ceb-9158-330b32c2cf16",
   "metadata": {},
   "outputs": [],
   "source": [
    "def PollyPlot( y_predict, y_actual):\n",
    "    width = 8\n",
    "    height = 6\n",
    "    plt.figure(figsize=(width, height))\n",
    "\n",
    "    plt.plot( y_predict, 'ro', label='Predict Data')\n",
    "    plt.plot( y_actual, 'go', label='Actual Data')\n",
    "    plt.ylabel('Price')\n",
    "    plt.ylim(0,100000)\n",
    "    plt.legend()"
   ]
  },
  {
   "cell_type": "code",
   "execution_count": 31,
   "id": "cdef5e3c-c262-4bb4-8bd7-d7b32ff63c55",
   "metadata": {},
   "outputs": [],
   "source": [
    "xtrainp, xtestp, ytrainp, ytestp = train_test_split(xdata, ydata, test_size=0.45, random_state=0)"
   ]
  },
  {
   "cell_type": "code",
   "execution_count": 32,
   "id": "ec59462d-0ffd-4e4d-8c27-9e268980568e",
   "metadata": {},
   "outputs": [
    {
     "data": {
      "text/plain": [
       "PolynomialFeatures(degree=5)"
      ]
     },
     "execution_count": 32,
     "metadata": {},
     "output_type": "execute_result"
    }
   ],
   "source": [
    "pr = PolynomialFeatures(degree=5)\n",
    "\n",
    "xtrainp = pr.fit_transform(xtrainp[['horsepower']]) \n",
    "\n",
    "xtestp = pr.fit_transform(xtestp[['horsepower']])\n",
    "\n",
    "pr"
   ]
  },
  {
   "cell_type": "code",
   "execution_count": 33,
   "id": "eb445ebd-eb03-4904-a841-b71cc49e5975",
   "metadata": {},
   "outputs": [],
   "source": [
    "poly  = LinearRegression()"
   ]
  },
  {
   "cell_type": "code",
   "execution_count": 34,
   "id": "b1be24b6-a025-4288-a5de-b14010c2c5a4",
   "metadata": {},
   "outputs": [
    {
     "data": {
      "text/plain": [
       "LinearRegression()"
      ]
     },
     "execution_count": 34,
     "metadata": {},
     "output_type": "execute_result"
    }
   ],
   "source": [
    "poly.fit(xtrainp,ytrainp)"
   ]
  },
  {
   "cell_type": "code",
   "execution_count": 35,
   "id": "93d1db74-2331-4370-ae47-fdc1a2b3361a",
   "metadata": {},
   "outputs": [],
   "source": [
    "yhatp = poly.predict(xtestp)"
   ]
  },
  {
   "cell_type": "code",
   "execution_count": 36,
   "id": "13cc8a10-6b52-4bc4-9684-866e51c46ca8",
   "metadata": {},
   "outputs": [
    {
     "data": {
      "text/plain": [
       "(array([ 6295., 10698., 13860., 13499.]),\n",
       " array([ 6724.76865983,  7303.51351891, 12213.86164705, 18899.15221992]))"
      ]
     },
     "execution_count": 36,
     "metadata": {},
     "output_type": "execute_result"
    }
   ],
   "source": [
    "ytestp[0:4].values, yhatp[0:4]"
   ]
  },
  {
   "cell_type": "code",
   "execution_count": 37,
   "id": "19c75c6b-9b76-4c8a-8a79-9f716d077116",
   "metadata": {},
   "outputs": [
    {
     "name": "stdout",
     "output_type": "stream",
     "text": [
      "R-squared of Polynomial Regression :\n",
      "Train Data :  0.5570463604063869 \n",
      "Test Data  : -29.695406500540614\n"
     ]
    }
   ],
   "source": [
    "r2_trainp = poly.score(xtrainp,ytrainp)\n",
    "r2_testp  = poly.score(xtestp,ytestp)\n",
    "\n",
    "print(f\"R-squared of Polynomial Regression :\\nTrain Data :  {r2_trainp} \\nTest Data  : {r2_testp}\")"
   ]
  },
  {
   "cell_type": "code",
   "execution_count": 38,
   "id": "697426de-3d80-4b21-a0c7-4b912c5dd600",
   "metadata": {},
   "outputs": [
    {
     "data": {
      "image/png": "[encoded data removed]",
      "text/plain": [
       "<Figure size 576x432 with 1 Axes>"
      ]
     },
     "metadata": {
      "needs_background": "light"
     },
     "output_type": "display_data"
    }
   ],
   "source": [
    "PollyPlot(yhatp, ytestp)"
   ]
  },
  {
   "cell_type": "code",
   "execution_count": 39,
   "id": "297d883a-009a-40e6-80e2-b7dffbe5ac67",
   "metadata": {},
   "outputs": [],
   "source": [
    "# R-squared for simple polynomial of varying degrees.\n",
    "Rsq_test = []\n",
    "order = [1, 2, 3, 4,5]\n",
    "\n",
    "for n in order:\n",
    "    \n",
    "    xtrainp, xtestp, ytrainp, ytestp = train_test_split(xdata, ydata, test_size=0.45, random_state=0)\n",
    "    \n",
    "    pr = PolynomialFeatures(degree=n)\n",
    "    \n",
    "    lr = LinearRegression()\n",
    "    \n",
    "    x_train_pr = pr.fit_transform(xtrainp[['horsepower']])\n",
    "    \n",
    "    x_test_pr = pr.fit_transform(xtestp[['horsepower']])    \n",
    "    \n",
    "    lr.fit(x_train_pr, ytrainp)\n",
    "    \n",
    "    Rsq_test.append(lr.score(x_test_pr, ytestp))\n",
    "\n"
   ]
  },
  {
   "cell_type": "code",
   "execution_count": 40,
   "id": "39709ad6-7850-4717-92dd-99b7a428783c",
   "metadata": {},
   "outputs": [
    {
     "name": "stdout",
     "output_type": "stream",
     "text": [
      "[0.7326503621552396, 0.7405923858966474, 0.7406312304036828, 0.39976995542650295, -29.695406500540614]\n"
     ]
    }
   ],
   "source": [
    "print(Rsq_test)"
   ]
  },
  {
   "cell_type": "markdown",
   "id": "9c0ac773-c77f-4e32-8234-a31b64195de8",
   "metadata": {},
   "source": [
    "### Multivariate Polynomial"
   ]
  },
  {
   "cell_type": "code",
   "execution_count": 41,
   "id": "a114f0a8-7abd-4350-bafd-b7abb66c99b8",
   "metadata": {},
   "outputs": [],
   "source": [
    "pr2 = PolynomialFeatures(degree=2)\n",
    "\n",
    "x_train_pr2 = pr2.fit_transform(xtrainp[['horsepower', 'curb-weight', 'engine-size', 'highway-L/100km']])\n",
    "\n",
    "x_test_pr2 = pr2.fit_transform(xtestp[['horsepower', 'curb-weight', 'engine-size', 'highway-L/100km']])\n",
    "\n",
    "multi_poly = LinearRegression().fit(x_train_pr2, ytrainp)"
   ]
  },
  {
   "cell_type": "code",
   "execution_count": 42,
   "id": "5cef688c-361d-4f8c-8fd3-7664e4c86b03",
   "metadata": {},
   "outputs": [
    {
     "name": "stdout",
     "output_type": "stream",
     "text": [
      "R-squared of Multivariate Polynomial Regression :\n",
      "Train Data :  0.8581237048097113 \n",
      "Test Data  :  0.5395299394453047\n"
     ]
    }
   ],
   "source": [
    "r2_trainp2 = multi_poly.score(x_train_pr2, ytrainp)\n",
    "r2_testp2  = multi_poly.score(x_test_pr2, ytestp)\n",
    "\n",
    "print(f\"R-squared of Multivariate Polynomial Regression :\\nTrain Data :  {r2_trainp2} \\nTest Data  :  {r2_testp2}\")"
   ]
  },
  {
   "cell_type": "code",
   "execution_count": 43,
   "id": "d7621391-07d8-4450-853c-02d183098b2a",
   "metadata": {},
   "outputs": [
    {
     "data": {
      "text/plain": [
       "array([ 5885.62961655, 11343.24880602, 22260.05009409, 18881.30840463])"
      ]
     },
     "execution_count": 43,
     "metadata": {},
     "output_type": "execute_result"
    }
   ],
   "source": [
    "yhat_pr2 = multi_poly.predict(x_test_pr2)\n",
    "yhat_pr2[0:4]"
   ]
  },
  {
   "cell_type": "code",
   "execution_count": 44,
   "id": "6e5fc90c-2ed5-45e9-acdc-28bee730680e",
   "metadata": {},
   "outputs": [
    {
     "data": {
      "image/png": "[encoded data removed]",
      "text/plain": [
       "<Figure size 576x432 with 1 Axes>"
      ]
     },
     "metadata": {
      "needs_background": "light"
     },
     "output_type": "display_data"
    }
   ],
   "source": [
    "Title='Distribution  Plot of  Predicted Value Using Test Data vs Data Distribution of Test Data'\n",
    "DistributionPlot(ytest, yhat_pr2,Title)"
   ]
  },
  {
   "cell_type": "markdown",
   "id": "09984ae5-2c7d-4cb1-8f05-c7723d9026f3",
   "metadata": {},
   "source": [
    "### Ridge Regression"
   ]
  },
  {
   "cell_type": "code",
   "execution_count": 45,
   "id": "491b7152-f473-44ad-9235-64360a6aee63",
   "metadata": {},
   "outputs": [],
   "source": [
    "from sklearn.linear_model import Ridge"
   ]
  },
  {
   "cell_type": "code",
   "execution_count": 46,
   "id": "c51de120-84e5-4e6c-8876-6ee3b5bdeb28",
   "metadata": {},
   "outputs": [],
   "source": [
    "pr = PolynomialFeatures(degree=2)\n",
    "xtrainrr = pr.fit_transform(xtrain[['horsepower','curb-weight','engine-size','highway-L/100km','normalized-losses','symboling']])\n",
    "xtestrr =  pr.fit_transform(xtest[['horsepower','curb-weight','engine-size','highway-L/100km','normalized-losses','symboling']])"
   ]
  },
  {
   "cell_type": "code",
   "execution_count": 47,
   "id": "ea1829fa-bb5e-4256-b624-f86fd3380d0e",
   "metadata": {},
   "outputs": [],
   "source": [
    "rr = Ridge(alpha=1)  # alpha = Regularization parameter"
   ]
  },
  {
   "cell_type": "code",
   "execution_count": 48,
   "id": "0689eff0-f744-414a-88f5-7447a2699bbe",
   "metadata": {},
   "outputs": [
    {
     "data": {
      "text/plain": [
       "Ridge(alpha=1)"
      ]
     },
     "execution_count": 48,
     "metadata": {},
     "output_type": "execute_result"
    }
   ],
   "source": [
    "rr.fit(xtrainrr,ytrain)"
   ]
  },
  {
   "cell_type": "code",
   "execution_count": 49,
   "id": "13ccdc8c-8fce-496b-8ea8-9983cecd9428",
   "metadata": {},
   "outputs": [],
   "source": [
    "yhat_rr = rr.predict(xtestrr)"
   ]
  },
  {
   "cell_type": "code",
   "execution_count": 50,
   "id": "0d99e028-8fc5-49a3-b6dd-cd0ff092c73b",
   "metadata": {},
   "outputs": [
    {
     "data": {
      "text/plain": [
       "(array([10107.98809585,  7278.45898391, 10210.50854008,  5412.18759132]),\n",
       " array([ 9549.,  6229., 10245.,  7295.]))"
      ]
     },
     "execution_count": 50,
     "metadata": {},
     "output_type": "execute_result"
    }
   ],
   "source": [
    "yhat_rr[0:4], ytest[0:4].values"
   ]
  },
  {
   "cell_type": "code",
   "execution_count": 51,
   "id": "700550bf-cb0d-40a1-b45d-346b5cbd2bec",
   "metadata": {},
   "outputs": [
    {
     "name": "stdout",
     "output_type": "stream",
     "text": [
      "R-squared of Ridge Regression :\n",
      "Train Data :  0.8709630961356578 \n",
      "Test Data  : 0.719112055051813\n"
     ]
    }
   ],
   "source": [
    "r2_trainrr = rr.score(xtrainrr,ytrain)\n",
    "r2_testrr  = rr.score(xtestrr,ytest)\n",
    "\n",
    "print(f\"R-squared of Ridge Regression :\\nTrain Data :  {r2_trainrr} \\nTest Data  : {r2_testrr}\")"
   ]
  },
  {
   "cell_type": "code",
   "execution_count": 52,
   "id": "060541a4-f4f7-4bee-95cc-691fd4d90d59",
   "metadata": {},
   "outputs": [
    {
     "data": {
      "image/png": "[encoded data removed]",
      "text/plain": [
       "<Figure size 576x432 with 1 Axes>"
      ]
     },
     "metadata": {
      "needs_background": "light"
     },
     "output_type": "display_data"
    }
   ],
   "source": [
    "Title='Distribution  Plot of  Predicted Value Using Test Data vs Data Distribution of Test Data'\n",
    "DistributionPlot(ytest, yhat_rr,Title)"
   ]
  },
  {
   "cell_type": "markdown",
   "id": "4d523a13-09da-4aad-8e7d-77181c5219a6",
   "metadata": {},
   "source": [
    "### Grid Search"
   ]
  },
  {
   "cell_type": "code",
   "execution_count": 53,
   "id": "d2e21d31-c07d-4d2f-adf7-142e9e53f71e",
   "metadata": {},
   "outputs": [],
   "source": [
    "from sklearn.model_selection import GridSearchCV"
   ]
  },
  {
   "cell_type": "code",
   "execution_count": 54,
   "id": "19d6d958-5ba6-4003-baed-57fc4514e4b7",
   "metadata": {},
   "outputs": [],
   "source": [
    "parameters = [{'alpha':[0.001,0.1,1,10,100,1000,10000,100000,1000000]}]"
   ]
  },
  {
   "cell_type": "code",
   "execution_count": 55,
   "id": "c80bb72c-9c57-4e8a-8a19-6172241bcfa2",
   "metadata": {},
   "outputs": [],
   "source": [
    "RR = Ridge()"
   ]
  },
  {
   "cell_type": "code",
   "execution_count": 56,
   "id": "6b1273c5-2fda-4755-b9c7-485070921474",
   "metadata": {},
   "outputs": [],
   "source": [
    "Grid = GridSearchCV(RR,parameters,cv=4) #idd = None not recognized"
   ]
  },
  {
   "cell_type": "code",
   "execution_count": 57,
   "id": "32d8030a-fe15-46e0-b252-2fac558b6448",
   "metadata": {},
   "outputs": [
    {
     "data": {
      "text/plain": [
       "GridSearchCV(cv=4, estimator=Ridge(),\n",
       "             param_grid=[{'alpha': [0.001, 0.1, 1, 10, 100, 1000, 10000, 100000,\n",
       "                                    1000000]}])"
      ]
     },
     "execution_count": 57,
     "metadata": {},
     "output_type": "execute_result"
    }
   ],
   "source": [
    "Grid.fit(xdata[['horsepower', 'curb-weight', 'engine-size', 'highway-L/100km']], ydata)"
   ]
  },
  {
   "cell_type": "code",
   "execution_count": 58,
   "id": "183bb36f-cea5-4c97-b659-972f323bed54",
   "metadata": {},
   "outputs": [],
   "source": [
    "bestRR = Grid.best_estimator_"
   ]
  },
  {
   "cell_type": "code",
   "execution_count": 59,
   "id": "af993901-204c-4118-9ddc-9f6859f13ac8",
   "metadata": {},
   "outputs": [
    {
     "data": {
      "text/plain": [
       "Ridge(alpha=10000)"
      ]
     },
     "execution_count": 59,
     "metadata": {},
     "output_type": "execute_result"
    }
   ],
   "source": [
    "bestRR"
   ]
  },
  {
   "cell_type": "code",
   "execution_count": 60,
   "id": "43a9aa71-6588-4622-b54f-9412fd077a9e",
   "metadata": {},
   "outputs": [
    {
     "name": "stdout",
     "output_type": "stream",
     "text": [
      "R-squared of Best Ridge Regression on Total Data : 0.8087836116843425\n"
     ]
    }
   ],
   "source": [
    "r2_RR =  bestRR.score(xdata[['horsepower', 'curb-weight', 'engine-size', 'highway-L/100km']], ydata)\n",
    "\n",
    "print(f\"R-squared of Best Ridge Regression on Total Data : {r2_RR}\")"
   ]
  },
  {
   "cell_type": "code",
   "execution_count": 61,
   "id": "718d4d9f-69f4-426c-b531-400306d52de1",
   "metadata": {},
   "outputs": [
    {
     "data": {
      "text/plain": [
       "array([13782.44478858, 13782.44478858, 18910.4090164 , 10695.91749923])"
      ]
     },
     "execution_count": 61,
     "metadata": {},
     "output_type": "execute_result"
    }
   ],
   "source": [
    "Yhat_RR =  bestRR.predict(xdata[['horsepower', 'curb-weight', 'engine-size', 'highway-L/100km']])\n",
    "Yhat_RR[0:4]"
   ]
  },
  {
   "cell_type": "code",
   "execution_count": 62,
   "id": "e2e938d6-5dc8-4b15-8262-f0d2c4590d94",
   "metadata": {},
   "outputs": [
    {
     "data": {
      "image/png": "[encoded data removed]",
      "text/plain": [
       "<Figure size 576x432 with 1 Axes>"
      ]
     },
     "metadata": {
      "needs_background": "light"
     },
     "output_type": "display_data"
    }
   ],
   "source": [
    "Title='Distribution  Plot of  Predicted Value Using Test Data vs Data Distribution of Test Data'\n",
    "DistributionPlot(ydata, Yhat_RR,Title)"
   ]
  },
  {
   "cell_type": "code",
   "execution_count": 63,
   "id": "87607675-26bc-41b5-91df-003d52fc7d66",
   "metadata": {},
   "outputs": [
    {
     "name": "stdout",
     "output_type": "stream",
     "text": [
      "R-Squared for SLR :\n",
      "Train Data : 0.6621588065210514 \n",
      "Test  Data : 0.3634554596325087 \n",
      "Total Data : 0.6554686174047142\n",
      "\n",
      "R-Squared for MLR :\n",
      "Train Data : 0.816884086465114 \n",
      "Test  Data : 0.6086742248488661 \n",
      "Total Data : 0.8115531950326966\n",
      "\n",
      "R-squared of Polynomial Regression :\n",
      "Train Data :  0.5570463604063869 \n",
      "Test Data  : -29.695406500540614\n",
      "\n",
      "R-squared of Multivariate Polynomial Regression :\n",
      "Train Data :  0.8581237048097113 \n",
      "Test Data  :  0.5395299394453047\n",
      "\n",
      "R-squared of Ridge Regression :\n",
      "Train Data :  0.8709630961356578 \n",
      "Test Data  : 0.719112055051813\n",
      "\n",
      "R-squared of Best Ridge Regression  :\n",
      "Total Data : 0.8087836116843425\n",
      "\n"
     ]
    }
   ],
   "source": [
    "print(f\"R-Squared for SLR :\\nTrain Data : {r2_traindata} \\nTest  Data : {r2_testdata} \\nTotal Data : {r2_totaldata}\\n\")\n",
    "\n",
    "print(f\"R-Squared for MLR :\\nTrain Data : {r2_traindata_m} \\nTest  Data : {r2_testdata_m} \\nTotal Data : {r2_totaldata_m}\\n\")\n",
    "\n",
    "print(f\"R-squared of Polynomial Regression :\\nTrain Data :  {r2_trainp} \\nTest Data  : {r2_testp}\\n\")\n",
    "\n",
    "print(f\"R-squared of Multivariate Polynomial Regression :\\nTrain Data :  {r2_trainp2} \\nTest Data  :  {r2_testp2}\\n\")\n",
    "\n",
    "print(f\"R-squared of Ridge Regression :\\nTrain Data :  {r2_trainrr} \\nTest Data  : {r2_testrr}\\n\")\n",
    "\n",
    "print(f\"R-squared of Best Ridge Regression  :\\nTotal Data : {r2_RR}\\n\")"
   ]
  },
  {
   "cell_type": "markdown",
   "id": "94d31f6e-9278-413f-ba97-c6e1e1f76fb0",
   "metadata": {},
   "source": [
    "#### In this particular notebook we cannot say which one of them is best predictor because we did not use different combination of features and Ridge regression model RR is trained with all data with cross validation. But still we can confirm that MLR is better than both SLR and Polynomial Regressions as it gives higher R-squared in both Train and Test Data, as SLE is underfitting and Polynomial model here is overfitting."
   ]
  },
  {
   "cell_type": "markdown",
   "id": "cb9936bd-6f43-42fd-8cfa-52b910044400",
   "metadata": {},
   "source": [
    "### Thank You"
   ]
  }
 ],
 "metadata": {
  "kernelspec": {
   "display_name": "Python 3 (ipykernel)",
   "language": "python",
   "name": "python3"
  },
  "language_info": {
   "codemirror_mode": {
    "name": "ipython",
    "version": 3
   },
   "file_extension": ".py",
   "mimetype": "text/x-python",
   "name": "python",
   "nbconvert_exporter": "python",
   "pygments_lexer": "ipython3",
   "version": "3.9.13"
  }
 },
 "nbformat": 4,
 "nbformat_minor": 5
}
