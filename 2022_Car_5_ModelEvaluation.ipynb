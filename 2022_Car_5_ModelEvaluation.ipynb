{
 "cells": [
  {
   "cell_type": "markdown",
   "id": "15abaa22-0715-444a-ad38-82754bd07225",
   "metadata": {},
   "source": [
    "# Model Evaluation and Refinement"
   ]
  },
  {
   "cell_type": "code",
   "execution_count": 17,
   "id": "4254c128-a2cb-44c0-a862-37ce81ec98ee",
   "metadata": {},
   "outputs": [],
   "source": [
    "import pandas as pd\n",
    "import numpy as np"
   ]
  },
  {
   "cell_type": "code",
   "execution_count": 12,
   "id": "5f50cb7d-ec4f-481e-ac40-829c02d00d31",
   "metadata": {},
   "outputs": [],
   "source": [
    "df = pd.read_csv('20230101_automobile_wrangling.csv', index_col = [0])"
   ]
  },
  {
   "cell_type": "code",
   "execution_count": 13,
   "id": "55b90aab-b74b-4b89-b5f0-c2a87b65b6cf",
   "metadata": {},
   "outputs": [],
   "source": [
    "df_n = df.select_dtypes(include = np.number)"
   ]
  },
  {
   "cell_type": "code",
   "execution_count": 14,
   "id": "71c27b80-39f4-43e4-bfe6-0a03b255602b",
   "metadata": {},
   "outputs": [
    {
     "data": {
      "text/html": [
       "<div>\n",
       "<style scoped>\n",
       "    .dataframe tbody tr th:only-of-type {\n",
       "        vertical-align: middle;\n",
       "    }\n",
       "\n",
       "    .dataframe tbody tr th {\n",
       "        vertical-align: top;\n",
       "    }\n",
       "\n",
       "    .dataframe thead th {\n",
       "        text-align: right;\n",
       "    }\n",
       "</style>\n",
       "<table border=\"1\" class=\"dataframe\">\n",
       "  <thead>\n",
       "    <tr style=\"text-align: right;\">\n",
       "      <th></th>\n",
       "      <th>symboling</th>\n",
       "      <th>normalized-losses</th>\n",
       "      <th>wheel-base</th>\n",
       "      <th>length</th>\n",
       "      <th>width</th>\n",
       "      <th>height</th>\n",
       "      <th>curb-weight</th>\n",
       "      <th>engine-size</th>\n",
       "      <th>bore</th>\n",
       "      <th>stroke</th>\n",
       "      <th>...</th>\n",
       "      <th>horsepower</th>\n",
       "      <th>peak-rpm</th>\n",
       "      <th>city-mpg</th>\n",
       "      <th>highway-L/100km</th>\n",
       "      <th>price</th>\n",
       "      <th>city-L/100Km</th>\n",
       "      <th>fuel-type-diesel</th>\n",
       "      <th>fuel-type-gas</th>\n",
       "      <th>aspiration-std</th>\n",
       "      <th>aspiration-turbo</th>\n",
       "    </tr>\n",
       "  </thead>\n",
       "  <tbody>\n",
       "    <tr>\n",
       "      <th>0</th>\n",
       "      <td>3</td>\n",
       "      <td>122</td>\n",
       "      <td>88.6</td>\n",
       "      <td>0.811148</td>\n",
       "      <td>0.890278</td>\n",
       "      <td>0.816054</td>\n",
       "      <td>2548</td>\n",
       "      <td>130</td>\n",
       "      <td>3.47</td>\n",
       "      <td>2.68</td>\n",
       "      <td>...</td>\n",
       "      <td>111.0</td>\n",
       "      <td>5000.0</td>\n",
       "      <td>21</td>\n",
       "      <td>8.703704</td>\n",
       "      <td>13495.0</td>\n",
       "      <td>11.190476</td>\n",
       "      <td>0</td>\n",
       "      <td>1</td>\n",
       "      <td>1</td>\n",
       "      <td>0</td>\n",
       "    </tr>\n",
       "    <tr>\n",
       "      <th>1</th>\n",
       "      <td>3</td>\n",
       "      <td>122</td>\n",
       "      <td>88.6</td>\n",
       "      <td>0.811148</td>\n",
       "      <td>0.890278</td>\n",
       "      <td>0.816054</td>\n",
       "      <td>2548</td>\n",
       "      <td>130</td>\n",
       "      <td>3.47</td>\n",
       "      <td>2.68</td>\n",
       "      <td>...</td>\n",
       "      <td>111.0</td>\n",
       "      <td>5000.0</td>\n",
       "      <td>21</td>\n",
       "      <td>8.703704</td>\n",
       "      <td>16500.0</td>\n",
       "      <td>11.190476</td>\n",
       "      <td>0</td>\n",
       "      <td>1</td>\n",
       "      <td>1</td>\n",
       "      <td>0</td>\n",
       "    </tr>\n",
       "    <tr>\n",
       "      <th>2</th>\n",
       "      <td>1</td>\n",
       "      <td>122</td>\n",
       "      <td>94.5</td>\n",
       "      <td>0.822681</td>\n",
       "      <td>0.909722</td>\n",
       "      <td>0.876254</td>\n",
       "      <td>2823</td>\n",
       "      <td>152</td>\n",
       "      <td>2.68</td>\n",
       "      <td>3.47</td>\n",
       "      <td>...</td>\n",
       "      <td>154.0</td>\n",
       "      <td>5000.0</td>\n",
       "      <td>19</td>\n",
       "      <td>9.038462</td>\n",
       "      <td>16500.0</td>\n",
       "      <td>12.368421</td>\n",
       "      <td>0</td>\n",
       "      <td>1</td>\n",
       "      <td>1</td>\n",
       "      <td>0</td>\n",
       "    </tr>\n",
       "    <tr>\n",
       "      <th>3</th>\n",
       "      <td>2</td>\n",
       "      <td>164</td>\n",
       "      <td>99.8</td>\n",
       "      <td>0.848630</td>\n",
       "      <td>0.919444</td>\n",
       "      <td>0.908027</td>\n",
       "      <td>2337</td>\n",
       "      <td>109</td>\n",
       "      <td>3.19</td>\n",
       "      <td>3.40</td>\n",
       "      <td>...</td>\n",
       "      <td>102.0</td>\n",
       "      <td>5500.0</td>\n",
       "      <td>24</td>\n",
       "      <td>7.833333</td>\n",
       "      <td>13950.0</td>\n",
       "      <td>9.791667</td>\n",
       "      <td>0</td>\n",
       "      <td>1</td>\n",
       "      <td>1</td>\n",
       "      <td>0</td>\n",
       "    </tr>\n",
       "    <tr>\n",
       "      <th>4</th>\n",
       "      <td>2</td>\n",
       "      <td>164</td>\n",
       "      <td>99.4</td>\n",
       "      <td>0.848630</td>\n",
       "      <td>0.922222</td>\n",
       "      <td>0.908027</td>\n",
       "      <td>2824</td>\n",
       "      <td>136</td>\n",
       "      <td>3.19</td>\n",
       "      <td>3.40</td>\n",
       "      <td>...</td>\n",
       "      <td>115.0</td>\n",
       "      <td>5500.0</td>\n",
       "      <td>18</td>\n",
       "      <td>10.681818</td>\n",
       "      <td>17450.0</td>\n",
       "      <td>13.055556</td>\n",
       "      <td>0</td>\n",
       "      <td>1</td>\n",
       "      <td>1</td>\n",
       "      <td>0</td>\n",
       "    </tr>\n",
       "  </tbody>\n",
       "</table>\n",
       "<p>5 rows × 21 columns</p>\n",
       "</div>"
      ],
      "text/plain": [
       "   symboling  normalized-losses  wheel-base    length     width    height  \\\n",
       "0          3                122        88.6  0.811148  0.890278  0.816054   \n",
       "1          3                122        88.6  0.811148  0.890278  0.816054   \n",
       "2          1                122        94.5  0.822681  0.909722  0.876254   \n",
       "3          2                164        99.8  0.848630  0.919444  0.908027   \n",
       "4          2                164        99.4  0.848630  0.922222  0.908027   \n",
       "\n",
       "   curb-weight  engine-size  bore  stroke  ...  horsepower  peak-rpm  \\\n",
       "0         2548          130  3.47    2.68  ...       111.0    5000.0   \n",
       "1         2548          130  3.47    2.68  ...       111.0    5000.0   \n",
       "2         2823          152  2.68    3.47  ...       154.0    5000.0   \n",
       "3         2337          109  3.19    3.40  ...       102.0    5500.0   \n",
       "4         2824          136  3.19    3.40  ...       115.0    5500.0   \n",
       "\n",
       "   city-mpg  highway-L/100km    price  city-L/100Km  fuel-type-diesel  \\\n",
       "0        21         8.703704  13495.0     11.190476                 0   \n",
       "1        21         8.703704  16500.0     11.190476                 0   \n",
       "2        19         9.038462  16500.0     12.368421                 0   \n",
       "3        24         7.833333  13950.0      9.791667                 0   \n",
       "4        18        10.681818  17450.0     13.055556                 0   \n",
       "\n",
       "   fuel-type-gas  aspiration-std  aspiration-turbo  \n",
       "0              1               1                 0  \n",
       "1              1               1                 0  \n",
       "2              1               1                 0  \n",
       "3              1               1                 0  \n",
       "4              1               1                 0  \n",
       "\n",
       "[5 rows x 21 columns]"
      ]
     },
     "execution_count": 14,
     "metadata": {},
     "output_type": "execute_result"
    }
   ],
   "source": [
    "df_n.head()"
   ]
  },
  {
   "cell_type": "code",
   "execution_count": 18,
   "id": "8a7e5457-240a-478f-aa48-32ef9deceaa7",
   "metadata": {},
   "outputs": [],
   "source": [
    "from ipywidgets import interact, interactive, fixed, interact_manual"
   ]
  },
  {
   "cell_type": "markdown",
   "id": "4c8a42b9-19f2-4eca-9645-1b59587e4b18",
   "metadata": {},
   "source": [
    "## Training and Testing"
   ]
  },
  {
   "cell_type": "code",
   "execution_count": 31,
   "id": "ecba91b4-44e6-4a33-be9f-84fc557d3bf0",
   "metadata": {},
   "outputs": [],
   "source": [
    "from sklearn.model_selection import train_test_split\n",
    "from sklearn.linear_model import LinearRegression"
   ]
  },
  {
   "cell_type": "code",
   "execution_count": 26,
   "id": "fb0a2bc6-768c-4a6c-8ec3-16918ee8e963",
   "metadata": {},
   "outputs": [],
   "source": [
    "xdata = df_n.drop('price', axis = 1)\n",
    "ydata = df_n['price']"
   ]
  },
  {
   "cell_type": "code",
   "execution_count": 28,
   "id": "8696e6d0-e792-4d07-99cf-b1ab34f85a8d",
   "metadata": {},
   "outputs": [],
   "source": [
    "xtrain, xtest, ytrain, ytest = train_test_split(xdata, ydata, test_size = 0.10, random_state = 1)"
   ]
  },
  {
   "cell_type": "code",
   "execution_count": 30,
   "id": "a3d97824-c5a5-48fb-ae0b-4954591e6a29",
   "metadata": {},
   "outputs": [
    {
     "data": {
      "text/plain": [
       "((180, 20), (21, 20))"
      ]
     },
     "execution_count": 30,
     "metadata": {},
     "output_type": "execute_result"
    }
   ],
   "source": [
    "xtrain.shape, xtest.shape"
   ]
  },
  {
   "cell_type": "code",
   "execution_count": 32,
   "id": "79b13e35-3bf7-4234-bfec-36bd99ed8bd3",
   "metadata": {},
   "outputs": [],
   "source": [
    "lm = LinearRegression()"
   ]
  },
  {
   "cell_type": "code",
   "execution_count": 33,
   "id": "be44c901-09dd-443d-86cf-b415d719cbc9",
   "metadata": {},
   "outputs": [
    {
     "data": {
      "text/plain": [
       "LinearRegression()"
      ]
     },
     "execution_count": 33,
     "metadata": {},
     "output_type": "execute_result"
    }
   ],
   "source": [
    "lm.fit(xtrain[['horsepower']], ytrain)"
   ]
  },
  {
   "cell_type": "code",
   "execution_count": 34,
   "id": "b272b6c0-dbc7-4e35-9601-b03240997820",
   "metadata": {},
   "outputs": [
    {
     "data": {
      "text/plain": [
       "0.6621588065210514"
      ]
     },
     "execution_count": 34,
     "metadata": {},
     "output_type": "execute_result"
    }
   ],
   "source": [
    "#R-squared coefficient of determination on train\n",
    "lm.score(xtrain[['horsepower']],ytrain)"
   ]
  },
  {
   "cell_type": "code",
   "execution_count": 35,
   "id": "a3b8a456-65df-4495-8851-c15f18800a44",
   "metadata": {},
   "outputs": [
    {
     "data": {
      "text/plain": [
       "0.3634554596325088"
      ]
     },
     "execution_count": 35,
     "metadata": {},
     "output_type": "execute_result"
    }
   ],
   "source": [
    "# On Test data\n",
    "lm.score(xtest[['horsepower']],ytest)"
   ]
  },
  {
   "cell_type": "markdown",
   "id": "ca7fa52c-4196-49b0-9fd5-435023b0b265",
   "metadata": {},
   "source": [
    "### Cross-Validation Score"
   ]
  },
  {
   "cell_type": "code",
   "execution_count": 69,
   "id": "c261488f-9931-4fea-8374-93c99f72a9d7",
   "metadata": {},
   "outputs": [],
   "source": [
    "from sklearn.model_selection import cross_val_score\n",
    "from sklearn.model_selection import cross_val_predict"
   ]
  },
  {
   "cell_type": "code",
   "execution_count": 65,
   "id": "faefae8b-69db-44ac-9b88-3b331fe63cd8",
   "metadata": {},
   "outputs": [],
   "source": [
    "Rcross = cross_val_score(lm, xdata[['horsepower']], ydata, cv = 4)"
   ]
  },
  {
   "cell_type": "code",
   "execution_count": 66,
   "id": "fbcd1e78-b823-451d-a615-1e16bdd5b74f",
   "metadata": {},
   "outputs": [
    {
     "data": {
      "text/plain": [
       "array([0.7747254 , 0.51722436, 0.74881624, 0.04792707])"
      ]
     },
     "execution_count": 66,
     "metadata": {},
     "output_type": "execute_result"
    }
   ],
   "source": [
    "Rcross"
   ]
  },
  {
   "cell_type": "code",
   "execution_count": 67,
   "id": "9b065897-2f3b-46d4-9fcb-baea7df9366f",
   "metadata": {},
   "outputs": [
    {
     "data": {
      "text/plain": [
       "(0.5221732664777984, 0.2915834197302016)"
      ]
     },
     "execution_count": 67,
     "metadata": {},
     "output_type": "execute_result"
    }
   ],
   "source": [
    "Rcross.mean(), Rcross.std()"
   ]
  },
  {
   "cell_type": "code",
   "execution_count": 75,
   "id": "09fb37f7-8006-4031-97a1-362bd331eac9",
   "metadata": {},
   "outputs": [
    {
     "data": {
      "text/plain": [
       "array([14143.6442164 , 14143.6442164 , 20817.63619486, 12746.7621744 ])"
      ]
     },
     "execution_count": 75,
     "metadata": {},
     "output_type": "execute_result"
    }
   ],
   "source": [
    "yhat = cross_val_predict(lm,xdata[['horsepower']],ydata,cv=4)\n",
    "yhat[0:4]"
   ]
  },
  {
   "cell_type": "code",
   "execution_count": 72,
   "id": "68a60e30-6a3c-4651-b677-a099ad3279a8",
   "metadata": {},
   "outputs": [
    {
     "data": {
      "text/plain": [
       "(201,)"
      ]
     },
     "execution_count": 72,
     "metadata": {},
     "output_type": "execute_result"
    }
   ],
   "source": [
    "yhat.shape"
   ]
  },
  {
   "cell_type": "code",
   "execution_count": 79,
   "id": "7d2f18ce-eee1-4179-bfce-0e3c3258cdef",
   "metadata": {},
   "outputs": [],
   "source": [
    "from sklearn.metrics import mean_squared_error\n",
    "from sklearn.metrics import r2_score"
   ]
  },
  {
   "cell_type": "code",
   "execution_count": 78,
   "id": "91870382-9838-452a-afb7-d1648dfafd07",
   "metadata": {},
   "outputs": [
    {
     "data": {
      "text/plain": [
       "23495641.533768877"
      ]
     },
     "execution_count": 78,
     "metadata": {},
     "output_type": "execute_result"
    }
   ],
   "source": [
    "mean_squared_error(ydata,yhat)"
   ]
  },
  {
   "cell_type": "code",
   "execution_count": 82,
   "id": "cf82e60b-d3b7-4331-96fb-5087035d5089",
   "metadata": {},
   "outputs": [
    {
     "data": {
      "text/plain": [
       "0.6261135791029059"
      ]
     },
     "execution_count": 82,
     "metadata": {},
     "output_type": "execute_result"
    }
   ],
   "source": [
    "r2_score(ydata,yhat)"
   ]
  },
  {
   "cell_type": "markdown",
   "id": "6b6b4f09-e95b-4c1b-b8d8-f98427dd78b9",
   "metadata": {},
   "source": [
    "### Overfitting Underfitting"
   ]
  },
  {
   "cell_type": "code",
   "execution_count": 84,
   "id": "96a57824-2993-4d64-ad51-d8cf00a2f535",
   "metadata": {},
   "outputs": [],
   "source": [
    "# Overfitting common in MLR and Polynomial Regression"
   ]
  },
  {
   "cell_type": "code",
   "execution_count": 85,
   "id": "a32dafa0-c44d-4a2c-908a-780e13ec8190",
   "metadata": {},
   "outputs": [
    {
     "data": {
      "text/plain": [
       "LinearRegression()"
      ]
     },
     "execution_count": 85,
     "metadata": {},
     "output_type": "execute_result"
    }
   ],
   "source": [
    "lr  = LinearRegression()\n",
    "lr.fit(xtrain[['horsepower','curb-weight','engine-size','highway-L/100km']], ytrain) "
   ]
  },
  {
   "cell_type": "code",
   "execution_count": 86,
   "id": "ebabc0b7-a948-4d17-988f-218a82e8ed9c",
   "metadata": {},
   "outputs": [],
   "source": [
    "yhat_train = lr.predict(xtrain[['horsepower','curb-weight','engine-size','highway-L/100km']])\n",
    "yhat_test =  lr.predict(xtest[['horsepower','curb-weight','engine-size','highway-L/100km']])"
   ]
  },
  {
   "cell_type": "code",
   "execution_count": 87,
   "id": "6de5806e-4783-4309-b61c-902c323a6cef",
   "metadata": {},
   "outputs": [],
   "source": [
    "import matplotlib.pyplot as plt\n",
    "import seaborn as sns"
   ]
  },
  {
   "cell_type": "code",
   "execution_count": 102,
   "id": "e559a824-f5e9-484d-b2b5-492c075ffee9",
   "metadata": {},
   "outputs": [],
   "source": [
    "def DistributionPlot(RedFunction, BlueFunction, RedName, BlueName, Title):\n",
    "    width = 12\n",
    "    height = 10\n",
    "    plt.figure(figsize=(width, height))\n",
    "\n",
    "    ax1 = sns.histplot(RedFunction,kde = True, color=\"r\", label=RedName)\n",
    "    ax2 = sns.histplot(BlueFunction,kde = True, color=\"b\", label=BlueName, ax=ax1)\n",
    "\n",
    "    plt.title(Title)\n",
    "    plt.xlabel('Price (in dollars)')\n",
    "    plt.ylabel('Proportion of Cars')\n",
    "\n",
    "    plt.show()\n",
    "    plt.close()"
   ]
  },
  {
   "cell_type": "code",
   "execution_count": 103,
   "id": "202aed09-b159-4dd9-bfe4-15cf638be054",
   "metadata": {},
   "outputs": [
    {
     "data": {
      "image/png": "[encoded data removed]",
      "text/plain": [
       "<Figure size 1200x1000 with 1 Axes>"
      ]
     },
     "metadata": {},
     "output_type": "display_data"
    }
   ],
   "source": [
    "Title = 'Distribution  Plot of  Predicted Value Using Training Data vs Training Data Distribution'\n",
    "DistributionPlot(ytrain, yhat_train, \"Actual Values (Train)\", \"Predicted Values (Train)\", Title)"
   ]
  },
  {
   "cell_type": "code",
   "execution_count": 106,
   "id": "2a7a78d3-9481-4575-bbe7-1d9dff370e07",
   "metadata": {},
   "outputs": [
    {
     "data": {
      "text/plain": [
       "<AxesSubplot:xlabel='price', ylabel='Density'>"
      ]
     },
     "execution_count": 106,
     "metadata": {},
     "output_type": "execute_result"
    },
    {
     "data": {
      "image/png": "[encoded data removed]",
      "text/plain": [
       "<Figure size 640x480 with 1 Axes>"
      ]
     },
     "metadata": {},
     "output_type": "display_data"
    }
   ],
   "source": [
    "sns.kdeplot(data=ytrain)\n",
    "sns.kdeplot(data=yhat_train)"
   ]
  },
  {
   "cell_type": "code",
   "execution_count": 107,
   "id": "d65a3b0f-6d2b-47ab-b9c4-bfc2bad95414",
   "metadata": {},
   "outputs": [
    {
     "data": {
      "text/plain": [
       "<AxesSubplot:xlabel='price', ylabel='Density'>"
      ]
     },
     "execution_count": 107,
     "metadata": {},
     "output_type": "execute_result"
    },
    {
     "data": {
      "image/png": "[encoded data removed]",
      "text/plain": [
       "<Figure size 640x480 with 1 Axes>"
      ]
     },
     "metadata": {},
     "output_type": "display_data"
    }
   ],
   "source": [
    "sns.kdeplot(data=ytest)\n",
    "sns.kdeplot(data=yhat_test)"
   ]
  },
  {
   "cell_type": "code",
   "execution_count": 109,
   "id": "5b43db3b-b9bb-4848-a6d4-5c07bfdea940",
   "metadata": {},
   "outputs": [
    {
     "data": {
      "image/png": "[encoded data removed]",
      "text/plain": [
       "<Figure size 1200x1000 with 1 Axes>"
      ]
     },
     "metadata": {},
     "output_type": "display_data"
    }
   ],
   "source": [
    "Title='Distribution  Plot of  Predicted Value Using Test Data vs Data Distribution of Test Data'\n",
    "DistributionPlot(ytest,yhat_test,\"Actual Values (Test)\",\"Predicted Values (Test)\",Title)"
   ]
  },
  {
   "cell_type": "code",
   "execution_count": 110,
   "id": "e6b82102-24c4-4eb6-b960-ea10e883745c",
   "metadata": {},
   "outputs": [],
   "source": [
    "# Overfitting in Polynomial"
   ]
  },
  {
   "cell_type": "code",
   "execution_count": 112,
   "id": "d2e2521a-71e2-4f9a-a7b0-c69a11ff2d06",
   "metadata": {},
   "outputs": [],
   "source": [
    "from sklearn.preprocessing import PolynomialFeatures"
   ]
  },
  {
   "cell_type": "code",
   "execution_count": 113,
   "id": "cdef5e3c-c262-4bb4-8bd7-d7b32ff63c55",
   "metadata": {},
   "outputs": [],
   "source": [
    "xtrainp, xtestp, ytrainp, ytestp = train_test_split(xdata, ydata, test_size=0.45, random_state=0)"
   ]
  },
  {
   "cell_type": "code",
   "execution_count": 114,
   "id": "ec59462d-0ffd-4e4d-8c27-9e268980568e",
   "metadata": {},
   "outputs": [
    {
     "data": {
      "text/plain": [
       "PolynomialFeatures(degree=5)"
      ]
     },
     "execution_count": 114,
     "metadata": {},
     "output_type": "execute_result"
    }
   ],
   "source": [
    "pr = PolynomialFeatures(degree=5)\n",
    "xtrainp = pr.fit_transform(xtrainp[['horsepower']]) \n",
    "xtestp = pr.fit_transform(xtestp[['horsepower']])\n",
    "pr"
   ]
  },
  {
   "cell_type": "code",
   "execution_count": 115,
   "id": "eb445ebd-eb03-4904-a841-b71cc49e5975",
   "metadata": {},
   "outputs": [],
   "source": [
    "poly  = LinearRegression()"
   ]
  },
  {
   "cell_type": "code",
   "execution_count": 116,
   "id": "b1be24b6-a025-4288-a5de-b14010c2c5a4",
   "metadata": {},
   "outputs": [
    {
     "data": {
      "text/plain": [
       "LinearRegression()"
      ]
     },
     "execution_count": 116,
     "metadata": {},
     "output_type": "execute_result"
    }
   ],
   "source": [
    "poly.fit(xtrainp,ytrainp)"
   ]
  },
  {
   "cell_type": "code",
   "execution_count": 117,
   "id": "93d1db74-2331-4370-ae47-fdc1a2b3361a",
   "metadata": {},
   "outputs": [],
   "source": [
    "yhat = poly.predict(xtestp)"
   ]
  },
  {
   "cell_type": "code",
   "execution_count": 119,
   "id": "13cc8a10-6b52-4bc4-9684-866e51c46ca8",
   "metadata": {},
   "outputs": [
    {
     "data": {
      "text/plain": [
       "(array([ 6295., 10698., 13860., 13499.]),\n",
       " array([ 6724.76110713,  7303.49858854, 12213.80179226, 18899.2071197 ]))"
      ]
     },
     "execution_count": 119,
     "metadata": {},
     "output_type": "execute_result"
    }
   ],
   "source": [
    "ytestp[0:4].values, yhat[0:4]"
   ]
  },
  {
   "cell_type": "code",
   "execution_count": 122,
   "id": "19c75c6b-9b76-4c8a-8a79-9f716d077116",
   "metadata": {},
   "outputs": [
    {
     "name": "stdout",
     "output_type": "stream",
     "text": [
      "0.5570463603801643\n",
      "-29.694900137100348\n"
     ]
    }
   ],
   "source": [
    "print(poly.score(xtrainp,ytrainp))\n",
    "print(poly.score(xtestp,ytestp))"
   ]
  },
  {
   "cell_type": "code",
   "execution_count": 124,
   "id": "d2dac424-ecb7-41a2-8c0f-b067b0c3bc19",
   "metadata": {},
   "outputs": [
    {
     "data": {
      "text/plain": [
       "-29.694900137100348"
      ]
     },
     "execution_count": 124,
     "metadata": {},
     "output_type": "execute_result"
    }
   ],
   "source": [
    "r2_score(ytestp,yhat)"
   ]
  },
  {
   "cell_type": "code",
   "execution_count": 147,
   "id": "20923874-5e07-46ea-a05c-a4f76377ea9a",
   "metadata": {},
   "outputs": [
    {
     "data": {
      "text/plain": [
       "array([[1.00000000e+00, 1.01000000e+02, 1.02010000e+04, 1.03030100e+06,\n",
       "        1.04060401e+08, 1.05101005e+10],\n",
       "       [1.00000000e+00, 1.62000000e+02, 2.62440000e+04, 4.25152800e+06,\n",
       "        6.88747536e+08, 1.11577101e+11],\n",
       "       [1.00000000e+00, 6.80000000e+01, 4.62400000e+03, 3.14432000e+05,\n",
       "        2.13813760e+07, 1.45393357e+09],\n",
       "       [1.00000000e+00, 1.60000000e+02, 2.56000000e+04, 4.09600000e+06,\n",
       "        6.55360000e+08, 1.04857600e+11],\n",
       "       [1.00000000e+00, 5.20000000e+01, 2.70400000e+03, 1.40608000e+05,\n",
       "        7.31161600e+06, 3.80204032e+08],\n",
       "       [1.00000000e+00, 1.61000000e+02, 2.59210000e+04, 4.17328100e+06,\n",
       "        6.71898241e+08, 1.08175617e+11],\n",
       "       [1.00000000e+00, 1.03396985e+02, 1.06909365e+04, 1.10541060e+06,\n",
       "        1.14296123e+08, 1.18178745e+10],\n",
       "       [1.00000000e+00, 6.90000000e+01, 4.76100000e+03, 3.28509000e+05,\n",
       "        2.26671210e+07, 1.56403135e+09],\n",
       "       [1.00000000e+00, 9.70000000e+01, 9.40900000e+03, 9.12673000e+05,\n",
       "        8.85292810e+07, 8.58734026e+09],\n",
       "       [1.00000000e+00, 7.00000000e+01, 4.90000000e+03, 3.43000000e+05,\n",
       "        2.40100000e+07, 1.68070000e+09],\n",
       "       [1.00000000e+00, 1.14000000e+02, 1.29960000e+04, 1.48154400e+06,\n",
       "        1.68896016e+08, 1.92541458e+10],\n",
       "       [1.00000000e+00, 6.80000000e+01, 4.62400000e+03, 3.14432000e+05,\n",
       "        2.13813760e+07, 1.45393357e+09],\n",
       "       [1.00000000e+00, 1.11000000e+02, 1.23210000e+04, 1.36763100e+06,\n",
       "        1.51807041e+08, 1.68505816e+10],\n",
       "       [1.00000000e+00, 6.90000000e+01, 4.76100000e+03, 3.28509000e+05,\n",
       "        2.26671210e+07, 1.56403135e+09],\n",
       "       [1.00000000e+00, 9.50000000e+01, 9.02500000e+03, 8.57375000e+05,\n",
       "        8.14506250e+07, 7.73780938e+09],\n",
       "       [1.00000000e+00, 6.90000000e+01, 4.76100000e+03, 3.28509000e+05,\n",
       "        2.26671210e+07, 1.56403135e+09],\n",
       "       [1.00000000e+00, 1.23000000e+02, 1.51290000e+04, 1.86086700e+06,\n",
       "        2.28886641e+08, 2.81530568e+10],\n",
       "       [1.00000000e+00, 1.16000000e+02, 1.34560000e+04, 1.56089600e+06,\n",
       "        1.81063936e+08, 2.10034166e+10],\n",
       "       [1.00000000e+00, 1.00000000e+02, 1.00000000e+04, 1.00000000e+06,\n",
       "        1.00000000e+08, 1.00000000e+10],\n",
       "       [1.00000000e+00, 1.55000000e+02, 2.40250000e+04, 3.72387500e+06,\n",
       "        5.77200625e+08, 8.94660969e+10],\n",
       "       [1.00000000e+00, 6.80000000e+01, 4.62400000e+03, 3.14432000e+05,\n",
       "        2.13813760e+07, 1.45393357e+09],\n",
       "       [1.00000000e+00, 6.80000000e+01, 4.62400000e+03, 3.14432000e+05,\n",
       "        2.13813760e+07, 1.45393357e+09],\n",
       "       [1.00000000e+00, 1.16000000e+02, 1.34560000e+04, 1.56089600e+06,\n",
       "        1.81063936e+08, 2.10034166e+10],\n",
       "       [1.00000000e+00, 1.21000000e+02, 1.46410000e+04, 1.77156100e+06,\n",
       "        2.14358881e+08, 2.59374246e+10],\n",
       "       [1.00000000e+00, 1.12000000e+02, 1.25440000e+04, 1.40492800e+06,\n",
       "        1.57351936e+08, 1.76234168e+10],\n",
       "       [1.00000000e+00, 6.80000000e+01, 4.62400000e+03, 3.14432000e+05,\n",
       "        2.13813760e+07, 1.45393357e+09],\n",
       "       [1.00000000e+00, 9.00000000e+01, 8.10000000e+03, 7.29000000e+05,\n",
       "        6.56100000e+07, 5.90490000e+09],\n",
       "       [1.00000000e+00, 7.30000000e+01, 5.32900000e+03, 3.89017000e+05,\n",
       "        2.83982410e+07, 2.07307159e+09],\n",
       "       [1.00000000e+00, 6.80000000e+01, 4.62400000e+03, 3.14432000e+05,\n",
       "        2.13813760e+07, 1.45393357e+09],\n",
       "       [1.00000000e+00, 1.82000000e+02, 3.31240000e+04, 6.02856800e+06,\n",
       "        1.09719938e+09, 1.99690286e+11],\n",
       "       [1.00000000e+00, 8.80000000e+01, 7.74400000e+03, 6.81472000e+05,\n",
       "        5.99695360e+07, 5.27731917e+09],\n",
       "       [1.00000000e+00, 9.70000000e+01, 9.40900000e+03, 9.12673000e+05,\n",
       "        8.85292810e+07, 8.58734026e+09],\n",
       "       [1.00000000e+00, 1.01000000e+02, 1.02010000e+04, 1.03030100e+06,\n",
       "        1.04060401e+08, 1.05101005e+10],\n",
       "       [1.00000000e+00, 1.52000000e+02, 2.31040000e+04, 3.51180800e+06,\n",
       "        5.33794816e+08, 8.11368120e+10],\n",
       "       [1.00000000e+00, 1.02000000e+02, 1.04040000e+04, 1.06120800e+06,\n",
       "        1.08243216e+08, 1.10408080e+10],\n",
       "       [1.00000000e+00, 1.02000000e+02, 1.04040000e+04, 1.06120800e+06,\n",
       "        1.08243216e+08, 1.10408080e+10],\n",
       "       [1.00000000e+00, 1.02000000e+02, 1.04040000e+04, 1.06120800e+06,\n",
       "        1.08243216e+08, 1.10408080e+10],\n",
       "       [1.00000000e+00, 1.16000000e+02, 1.34560000e+04, 1.56089600e+06,\n",
       "        1.81063936e+08, 2.10034166e+10],\n",
       "       [1.00000000e+00, 1.06000000e+02, 1.12360000e+04, 1.19101600e+06,\n",
       "        1.26247696e+08, 1.33822558e+10],\n",
       "       [1.00000000e+00, 1.10000000e+02, 1.21000000e+04, 1.33100000e+06,\n",
       "        1.46410000e+08, 1.61051000e+10],\n",
       "       [1.00000000e+00, 1.55000000e+02, 2.40250000e+04, 3.72387500e+06,\n",
       "        5.77200625e+08, 8.94660969e+10],\n",
       "       [1.00000000e+00, 1.16000000e+02, 1.34560000e+04, 1.56089600e+06,\n",
       "        1.81063936e+08, 2.10034166e+10],\n",
       "       [1.00000000e+00, 1.45000000e+02, 2.10250000e+04, 3.04862500e+06,\n",
       "        4.42050625e+08, 6.40973406e+10],\n",
       "       [1.00000000e+00, 5.60000000e+01, 3.13600000e+03, 1.75616000e+05,\n",
       "        9.83449600e+06, 5.50731776e+08],\n",
       "       [1.00000000e+00, 9.20000000e+01, 8.46400000e+03, 7.78688000e+05,\n",
       "        7.16392960e+07, 6.59081523e+09],\n",
       "       [1.00000000e+00, 7.00000000e+01, 4.90000000e+03, 3.43000000e+05,\n",
       "        2.40100000e+07, 1.68070000e+09],\n",
       "       [1.00000000e+00, 6.90000000e+01, 4.76100000e+03, 3.28509000e+05,\n",
       "        2.26671210e+07, 1.56403135e+09],\n",
       "       [1.00000000e+00, 1.14000000e+02, 1.29960000e+04, 1.48154400e+06,\n",
       "        1.68896016e+08, 1.92541458e+10],\n",
       "       [1.00000000e+00, 1.21000000e+02, 1.46410000e+04, 1.77156100e+06,\n",
       "        2.14358881e+08, 2.59374246e+10],\n",
       "       [1.00000000e+00, 6.80000000e+01, 4.62400000e+03, 3.14432000e+05,\n",
       "        2.13813760e+07, 1.45393357e+09],\n",
       "       [1.00000000e+00, 2.00000000e+02, 4.00000000e+04, 8.00000000e+06,\n",
       "        1.60000000e+09, 3.20000000e+11],\n",
       "       [1.00000000e+00, 7.60000000e+01, 5.77600000e+03, 4.38976000e+05,\n",
       "        3.33621760e+07, 2.53552538e+09],\n",
       "       [1.00000000e+00, 8.40000000e+01, 7.05600000e+03, 5.92704000e+05,\n",
       "        4.97871360e+07, 4.18211942e+09],\n",
       "       [1.00000000e+00, 1.23000000e+02, 1.51290000e+04, 1.86086700e+06,\n",
       "        2.28886641e+08, 2.81530568e+10],\n",
       "       [1.00000000e+00, 1.11000000e+02, 1.23210000e+04, 1.36763100e+06,\n",
       "        1.51807041e+08, 1.68505816e+10],\n",
       "       [1.00000000e+00, 8.80000000e+01, 7.74400000e+03, 6.81472000e+05,\n",
       "        5.99695360e+07, 5.27731917e+09],\n",
       "       [1.00000000e+00, 1.12000000e+02, 1.25440000e+04, 1.40492800e+06,\n",
       "        1.57351936e+08, 1.76234168e+10],\n",
       "       [1.00000000e+00, 7.80000000e+01, 6.08400000e+03, 4.74552000e+05,\n",
       "        3.70150560e+07, 2.88717437e+09],\n",
       "       [1.00000000e+00, 9.50000000e+01, 9.02500000e+03, 8.57375000e+05,\n",
       "        8.14506250e+07, 7.73780938e+09],\n",
       "       [1.00000000e+00, 1.60000000e+02, 2.56000000e+04, 4.09600000e+06,\n",
       "        6.55360000e+08, 1.04857600e+11],\n",
       "       [1.00000000e+00, 9.20000000e+01, 8.46400000e+03, 7.78688000e+05,\n",
       "        7.16392960e+07, 6.59081523e+09],\n",
       "       [1.00000000e+00, 4.80000000e+01, 2.30400000e+03, 1.10592000e+05,\n",
       "        5.30841600e+06, 2.54803968e+08],\n",
       "       [1.00000000e+00, 8.60000000e+01, 7.39600000e+03, 6.36056000e+05,\n",
       "        5.47008160e+07, 4.70427018e+09],\n",
       "       [1.00000000e+00, 1.60000000e+02, 2.56000000e+04, 4.09600000e+06,\n",
       "        6.55360000e+08, 1.04857600e+11],\n",
       "       [1.00000000e+00, 1.01000000e+02, 1.02010000e+04, 1.03030100e+06,\n",
       "        1.04060401e+08, 1.05101005e+10],\n",
       "       [1.00000000e+00, 7.00000000e+01, 4.90000000e+03, 3.43000000e+05,\n",
       "        2.40100000e+07, 1.68070000e+09],\n",
       "       [1.00000000e+00, 1.10000000e+02, 1.21000000e+04, 1.33100000e+06,\n",
       "        1.46410000e+08, 1.61051000e+10],\n",
       "       [1.00000000e+00, 7.60000000e+01, 5.77600000e+03, 4.38976000e+05,\n",
       "        3.33621760e+07, 2.53552538e+09],\n",
       "       [1.00000000e+00, 1.45000000e+02, 2.10250000e+04, 3.04862500e+06,\n",
       "        4.42050625e+08, 6.40973406e+10],\n",
       "       [1.00000000e+00, 1.42000000e+02, 2.01640000e+04, 2.86328800e+06,\n",
       "        4.06586896e+08, 5.77353392e+10],\n",
       "       [1.00000000e+00, 6.20000000e+01, 3.84400000e+03, 2.38328000e+05,\n",
       "        1.47763360e+07, 9.16132832e+08],\n",
       "       [1.00000000e+00, 6.00000000e+01, 3.60000000e+03, 2.16000000e+05,\n",
       "        1.29600000e+07, 7.77600000e+08],\n",
       "       [1.00000000e+00, 1.16000000e+02, 1.34560000e+04, 1.56089600e+06,\n",
       "        1.81063936e+08, 2.10034166e+10],\n",
       "       [1.00000000e+00, 1.03396985e+02, 1.06909365e+04, 1.10541060e+06,\n",
       "        1.14296123e+08, 1.18178745e+10],\n",
       "       [1.00000000e+00, 1.56000000e+02, 2.43360000e+04, 3.79641600e+06,\n",
       "        5.92240896e+08, 9.23895798e+10],\n",
       "       [1.00000000e+00, 7.60000000e+01, 5.77600000e+03, 4.38976000e+05,\n",
       "        3.33621760e+07, 2.53552538e+09],\n",
       "       [1.00000000e+00, 8.20000000e+01, 6.72400000e+03, 5.51368000e+05,\n",
       "        4.52121760e+07, 3.70739843e+09],\n",
       "       [1.00000000e+00, 9.20000000e+01, 8.46400000e+03, 7.78688000e+05,\n",
       "        7.16392960e+07, 6.59081523e+09],\n",
       "       [1.00000000e+00, 6.20000000e+01, 3.84400000e+03, 2.38328000e+05,\n",
       "        1.47763360e+07, 9.16132832e+08],\n",
       "       [1.00000000e+00, 5.80000000e+01, 3.36400000e+03, 1.95112000e+05,\n",
       "        1.13164960e+07, 6.56356768e+08],\n",
       "       [1.00000000e+00, 1.52000000e+02, 2.31040000e+04, 3.51180800e+06,\n",
       "        5.33794816e+08, 8.11368120e+10],\n",
       "       [1.00000000e+00, 8.80000000e+01, 7.74400000e+03, 6.81472000e+05,\n",
       "        5.99695360e+07, 5.27731917e+09],\n",
       "       [1.00000000e+00, 1.45000000e+02, 2.10250000e+04, 3.04862500e+06,\n",
       "        4.42050625e+08, 6.40973406e+10],\n",
       "       [1.00000000e+00, 6.80000000e+01, 4.62400000e+03, 3.14432000e+05,\n",
       "        2.13813760e+07, 1.45393357e+09],\n",
       "       [1.00000000e+00, 6.20000000e+01, 3.84400000e+03, 2.38328000e+05,\n",
       "        1.47763360e+07, 9.16132832e+08],\n",
       "       [1.00000000e+00, 1.14000000e+02, 1.29960000e+04, 1.48154400e+06,\n",
       "        1.68896016e+08, 1.92541458e+10],\n",
       "       [1.00000000e+00, 1.75000000e+02, 3.06250000e+04, 5.35937500e+06,\n",
       "        9.37890625e+08, 1.64130859e+11],\n",
       "       [1.00000000e+00, 1.16000000e+02, 1.34560000e+04, 1.56089600e+06,\n",
       "        1.81063936e+08, 2.10034166e+10],\n",
       "       [1.00000000e+00, 6.80000000e+01, 4.62400000e+03, 3.14432000e+05,\n",
       "        2.13813760e+07, 1.45393357e+09],\n",
       "       [1.00000000e+00, 1.16000000e+02, 1.34560000e+04, 1.56089600e+06,\n",
       "        1.81063936e+08, 2.10034166e+10],\n",
       "       [1.00000000e+00, 1.45000000e+02, 2.10250000e+04, 3.04862500e+06,\n",
       "        4.42050625e+08, 6.40973406e+10],\n",
       "       [1.00000000e+00, 6.80000000e+01, 4.62400000e+03, 3.14432000e+05,\n",
       "        2.13813760e+07, 1.45393357e+09],\n",
       "       [1.00000000e+00, 1.61000000e+02, 2.59210000e+04, 4.17328100e+06,\n",
       "        6.71898241e+08, 1.08175617e+11],\n",
       "       [1.00000000e+00, 1.14000000e+02, 1.29960000e+04, 1.48154400e+06,\n",
       "        1.68896016e+08, 1.92541458e+10],\n",
       "       [1.00000000e+00, 8.60000000e+01, 7.39600000e+03, 6.36056000e+05,\n",
       "        5.47008160e+07, 4.70427018e+09],\n",
       "       [1.00000000e+00, 8.40000000e+01, 7.05600000e+03, 5.92704000e+05,\n",
       "        4.97871360e+07, 4.18211942e+09],\n",
       "       [1.00000000e+00, 8.20000000e+01, 6.72400000e+03, 5.51368000e+05,\n",
       "        4.52121760e+07, 3.70739843e+09],\n",
       "       [1.00000000e+00, 6.90000000e+01, 4.76100000e+03, 3.28509000e+05,\n",
       "        2.26671210e+07, 1.56403135e+09],\n",
       "       [1.00000000e+00, 1.84000000e+02, 3.38560000e+04, 6.22950400e+06,\n",
       "        1.14622874e+09, 2.10906087e+11],\n",
       "       [1.00000000e+00, 5.50000000e+01, 3.02500000e+03, 1.66375000e+05,\n",
       "        9.15062500e+06, 5.03284375e+08],\n",
       "       [1.00000000e+00, 8.60000000e+01, 7.39600000e+03, 6.36056000e+05,\n",
       "        5.47008160e+07, 4.70427018e+09],\n",
       "       [1.00000000e+00, 6.80000000e+01, 4.62400000e+03, 3.14432000e+05,\n",
       "        2.13813760e+07, 1.45393357e+09],\n",
       "       [1.00000000e+00, 1.01000000e+02, 1.02010000e+04, 1.03030100e+06,\n",
       "        1.04060401e+08, 1.05101005e+10],\n",
       "       [1.00000000e+00, 1.60000000e+02, 2.56000000e+04, 4.09600000e+06,\n",
       "        6.55360000e+08, 1.04857600e+11],\n",
       "       [1.00000000e+00, 1.62000000e+02, 2.62440000e+04, 4.25152800e+06,\n",
       "        6.88747536e+08, 1.11577101e+11],\n",
       "       [1.00000000e+00, 1.23000000e+02, 1.51290000e+04, 1.86086700e+06,\n",
       "        2.28886641e+08, 2.81530568e+10],\n",
       "       [1.00000000e+00, 1.14000000e+02, 1.29960000e+04, 1.48154400e+06,\n",
       "        1.68896016e+08, 1.92541458e+10],\n",
       "       [1.00000000e+00, 6.80000000e+01, 4.62400000e+03, 3.14432000e+05,\n",
       "        2.13813760e+07, 1.45393357e+09],\n",
       "       [1.00000000e+00, 6.80000000e+01, 4.62400000e+03, 3.14432000e+05,\n",
       "        2.13813760e+07, 1.45393357e+09],\n",
       "       [1.00000000e+00, 9.20000000e+01, 8.46400000e+03, 7.78688000e+05,\n",
       "        7.16392960e+07, 6.59081523e+09]])"
      ]
     },
     "execution_count": 147,
     "metadata": {},
     "output_type": "execute_result"
    }
   ],
   "source": [
    "xtrainp[]"
   ]
  },
  {
   "cell_type": "code",
   "execution_count": 145,
   "id": "68da8783-23ea-4575-8589-361f3c73a922",
   "metadata": {},
   "outputs": [
    {
     "data": {
      "text/plain": [
       "0      111.0\n",
       "1      111.0\n",
       "2      154.0\n",
       "3      102.0\n",
       "4      115.0\n",
       "       ...  \n",
       "196    114.0\n",
       "197    160.0\n",
       "198    134.0\n",
       "199    106.0\n",
       "200    114.0\n",
       "Name: horsepower, Length: 201, dtype: float64"
      ]
     },
     "execution_count": 145,
     "metadata": {},
     "output_type": "execute_result"
    }
   ],
   "source": [
    "xdata.iloc[:,11]"
   ]
  },
  {
   "cell_type": "code",
   "execution_count": 168,
   "id": "c28de104-5db8-4fb7-b22c-f7f46538a6f6",
   "metadata": {},
   "outputs": [],
   "source": [
    "def PollyPlot( y_predict, y_actual, lr,poly_transform):\n",
    "    width = 12\n",
    "    height = 10\n",
    "    plt.figure(figsize=(width, height))\n",
    "\n",
    "    plt.plot( y_predict, 'ro', label='Predict Data')\n",
    "    plt.plot( y_actual, 'go', label='Actual Data')\n",
    "    plt.ylabel('Price')\n",
    "    plt.ylim(0,100000)\n",
    "    plt.legend()"
   ]
  },
  {
   "cell_type": "code",
   "execution_count": 169,
   "id": "697426de-3d80-4b21-a0c7-4b912c5dd600",
   "metadata": {},
   "outputs": [
    {
     "data": {
      "image/png": "[encoded data removed]",
      "text/plain": [
       "<Figure size 1200x1000 with 1 Axes>"
      ]
     },
     "metadata": {},
     "output_type": "display_data"
    }
   ],
   "source": [
    "PollyPlot(yhat, ytestp, poly,pr)"
   ]
  },
  {
   "cell_type": "code",
   "execution_count": 170,
   "id": "f9becb20-1a50-4428-bb44-cb1bf82c210b",
   "metadata": {},
   "outputs": [
    {
     "data": {
      "text/plain": [
       "(0.0, 200000.0)"
      ]
     },
     "execution_count": 170,
     "metadata": {},
     "output_type": "execute_result"
    },
    {
     "data": {
      "image/png": "[encoded data removed]",
      "text/plain": [
       "<Figure size 640x480 with 1 Axes>"
      ]
     },
     "metadata": {},
     "output_type": "display_data"
    }
   ],
   "source": [
    "sns.kdeplot(ytestp, color = 'r')\n",
    "sns.kdeplot(yhat, color = 'g')\n",
    "plt.xlim(0, 200000)"
   ]
  },
  {
   "cell_type": "code",
   "execution_count": 174,
   "id": "297d883a-009a-40e6-80e2-b7dffbe5ac67",
   "metadata": {},
   "outputs": [],
   "source": [
    "Rsqu_test = []\n",
    "\n",
    "order = [1, 2, 3, 4]\n",
    "for n in order:\n",
    "    pr = PolynomialFeatures(degree=n)\n",
    "    \n",
    "    x_train_pr = pr.fit_transform(xtrain[['horsepower']])\n",
    "    \n",
    "    x_test_pr = pr.fit_transform(xtest[['horsepower']])    \n",
    "    \n",
    "    lr.fit(x_train_pr, ytrain)\n",
    "    \n",
    "    Rsqu_test.append(lr.score(x_test_pr, ytest))\n",
    "\n"
   ]
  },
  {
   "cell_type": "code",
   "execution_count": 176,
   "id": "39709ad6-7850-4717-92dd-99b7a428783c",
   "metadata": {},
   "outputs": [
    {
     "data": {
      "text/plain": [
       "[0.3634554596325089,\n",
       " 0.3721807862386536,\n",
       " 0.3586755513345974,\n",
       " 0.3663790550361653]"
      ]
     },
     "execution_count": 176,
     "metadata": {},
     "output_type": "execute_result"
    }
   ],
   "source": [
    "Rsqu_test"
   ]
  },
  {
   "cell_type": "code",
   "execution_count": 185,
   "id": "b432ed5d-e522-47ca-a76b-ac763e16e3bf",
   "metadata": {},
   "outputs": [
    {
     "data": {
      "text/plain": [
       "Text(0.5, 1.0, 'R^2 Using Test Data')"
      ]
     },
     "execution_count": 185,
     "metadata": {},
     "output_type": "execute_result"
    },
    {
     "data": {
      "image/png": "[encoded data removed]",
      "text/plain": [
       "<Figure size 640x480 with 1 Axes>"
      ]
     },
     "metadata": {},
     "output_type": "display_data"
    }
   ],
   "source": [
    "plt.plot(order, Rsqu_test)\n",
    "plt.xlabel('order')\n",
    "plt.ylabel('R^2')\n",
    "plt.title('R^2 Using Test Data')\n",
    "#plt.text(3, 0.75, 'Maximum R^2 ')    "
   ]
  },
  {
   "cell_type": "code",
   "execution_count": 186,
   "id": "dfcdfa5e-1eb8-496b-b738-84ae3de85128",
   "metadata": {},
   "outputs": [],
   "source": [
    "# Interact function"
   ]
  },
  {
   "cell_type": "code",
   "execution_count": 199,
   "id": "d975a1f1-0890-4780-9b04-bc2e58d5aa28",
   "metadata": {},
   "outputs": [],
   "source": [
    "def f(order, test_data):\n",
    "    x_train, x_test, y_train, y_test = train_test_split(xdata[['horsepower']], ydata, test_size=test_data, random_state=0)\n",
    "    pr = PolynomialFeatures(degree=order)\n",
    "    x_train_pr = pr.fit_transform(x_train)\n",
    "    x_test_pr = pr.fit_transform(x_test)\n",
    "    poly = LinearRegression()\n",
    "    poly.fit(x_train_pr,y_train)\n",
    "    yhat = poly.predict(x_test)\n",
    "  #  PollyPlot(x_train[['horsepower']], x_test[['horsepower']], y_train,y_test, poly, pr)\n",
    "    PollyPlot(yhat,y_test, poly, pr)"
   ]
  },
  {
   "cell_type": "code",
   "execution_count": 200,
   "id": "2e621ba0-01c5-4a95-82ac-3f6cd0190480",
   "metadata": {},
   "outputs": [
    {
     "data": {
      "application/vnd.jupyter.widget-view+json": {
       "model_id": "1d198f4f6428407a86f061a403467be3",
       "version_major": 2,
       "version_minor": 0
      },
      "text/plain": [
       "interactive(children=(IntSlider(value=3, description='order', max=6), FloatSlider(value=0.45, description='tes…"
      ]
     },
     "metadata": {},
     "output_type": "display_data"
    },
    {
     "data": {
      "text/plain": [
       "<function __main__.f(order, test_data)>"
      ]
     },
     "execution_count": 200,
     "metadata": {},
     "output_type": "execute_result"
    }
   ],
   "source": [
    "interact(f, order=(0, 6, 1), test_data=(0.05, 0.95, 0.05))"
   ]
  },
  {
   "cell_type": "code",
   "execution_count": null,
   "id": "a114f0a8-7abd-4350-bafd-b7abb66c99b8",
   "metadata": {},
   "outputs": [],
   "source": [
    "pr1=PolynomialFeatures(degree=2)\n",
    "x_train_pr1=pr1.fit_transform(x_train[['horsepower', 'curb-weight', 'engine-size', 'highway-mpg']])\n",
    "x_test_pr1=pr1.fit_transform(x_test[['horsepower', 'curb-weight', 'engine-size', 'highway-mpg']])\n",
    "x_train_pr1.shape #there are now 15 features\n",
    "poly1=LinearRegression().fit(x_train_pr1,y_train)\n",
    "yhat_test1=poly1.predict(x_test_pr1)\n",
    "Title='Distribution  Plot of  Predicted Value Using Test Data vs Data Distribution of Test Data'\n",
    "DistributionPlot(y_test, yhat_test1, \"Actual Values (Test)\", \"Predicted Values (Test)\", Title)\n",
    "\n",
    "\n"
   ]
  },
  {
   "cell_type": "markdown",
   "id": "09984ae5-2c7d-4cb1-8f05-c7723d9026f3",
   "metadata": {},
   "source": [
    "### Ridge Regression"
   ]
  },
  {
   "cell_type": "code",
   "execution_count": 201,
   "id": "491b7152-f473-44ad-9235-64360a6aee63",
   "metadata": {},
   "outputs": [],
   "source": [
    "from sklearn.linear_model import Ridge"
   ]
  },
  {
   "cell_type": "code",
   "execution_count": 202,
   "id": "c51de120-84e5-4e6c-8876-6ee3b5bdeb28",
   "metadata": {},
   "outputs": [],
   "source": [
    "pr= PolynomialFeatures(degree=2)\n",
    "xtrainrr = pr.fit_transform(xtrain[['horsepower','curb-weight','engine-size','highway-L/100km','normalized-losses','symboling']])\n",
    "xtestrr =  pr.fit_transform(xtest[['horsepower','curb-weight','engine-size','highway-L/100km','normalized-losses','symboling']])\n"
   ]
  },
  {
   "cell_type": "code",
   "execution_count": 203,
   "id": "ea1829fa-bb5e-4256-b624-f86fd3380d0e",
   "metadata": {},
   "outputs": [],
   "source": [
    "rm = Ridge(alpha=1)  # alpha = Regularization parameter"
   ]
  },
  {
   "cell_type": "code",
   "execution_count": 204,
   "id": "0689eff0-f744-414a-88f5-7447a2699bbe",
   "metadata": {},
   "outputs": [
    {
     "data": {
      "text/plain": [
       "Ridge(alpha=1)"
      ]
     },
     "execution_count": 204,
     "metadata": {},
     "output_type": "execute_result"
    }
   ],
   "source": [
    "rm.fit(xtrainrr,ytrain)"
   ]
  },
  {
   "cell_type": "code",
   "execution_count": 205,
   "id": "13ccdc8c-8fce-496b-8ea8-9983cecd9428",
   "metadata": {},
   "outputs": [],
   "source": [
    "yhat_rr = rm.predict(xtestrr)"
   ]
  },
  {
   "cell_type": "code",
   "execution_count": 207,
   "id": "0d99e028-8fc5-49a3-b6dd-cd0ff092c73b",
   "metadata": {},
   "outputs": [
    {
     "data": {
      "text/plain": [
       "(array([10107.98809585,  7278.45898391, 10210.50854009,  5412.18759131]),\n",
       " array([ 9549.,  6229., 10245.,  7295.]))"
      ]
     },
     "execution_count": 207,
     "metadata": {},
     "output_type": "execute_result"
    }
   ],
   "source": [
    "yhat_rr[0:4], ytest[0:4].values"
   ]
  },
  {
   "cell_type": "code",
   "execution_count": null,
   "id": "e6443cd2-e563-490c-aece-47bbdc0aa82e",
   "metadata": {},
   "outputs": [],
   "source": []
  },
  {
   "cell_type": "code",
   "execution_count": null,
   "id": "47d35468-a78d-4e13-8726-560d1369f771",
   "metadata": {},
   "outputs": [],
   "source": []
  },
  {
   "cell_type": "code",
   "execution_count": null,
   "id": "0a1099e4-b40c-41ae-be93-3b88b80a544a",
   "metadata": {},
   "outputs": [],
   "source": []
  },
  {
   "cell_type": "code",
   "execution_count": null,
   "id": "cc33303f-a602-4db8-8594-bab423ab6b12",
   "metadata": {},
   "outputs": [],
   "source": []
  },
  {
   "cell_type": "markdown",
   "id": "4d523a13-09da-4aad-8e7d-77181c5219a6",
   "metadata": {},
   "source": [
    "### Grid Search"
   ]
  },
  {
   "cell_type": "code",
   "execution_count": 208,
   "id": "d2e21d31-c07d-4d2f-adf7-142e9e53f71e",
   "metadata": {},
   "outputs": [],
   "source": [
    "from sklearn.model_selection import GridSearchCV"
   ]
  },
  {
   "cell_type": "code",
   "execution_count": 209,
   "id": "19d6d958-5ba6-4003-baed-57fc4514e4b7",
   "metadata": {},
   "outputs": [],
   "source": [
    "parameters = [{'alpha':[0.001,0.1,1,10,100,1000,10000,100000,1000000]}]"
   ]
  },
  {
   "cell_type": "code",
   "execution_count": 210,
   "id": "c80bb72c-9c57-4e8a-8a19-6172241bcfa2",
   "metadata": {},
   "outputs": [],
   "source": [
    "RR = Ridge()"
   ]
  },
  {
   "cell_type": "code",
   "execution_count": 217,
   "id": "6b1273c5-2fda-4755-b9c7-485070921474",
   "metadata": {},
   "outputs": [],
   "source": [
    "Grid = GridSearchCV(RR,parameters,cv=4) #idd = None not recognized"
   ]
  },
  {
   "cell_type": "code",
   "execution_count": 218,
   "id": "32d8030a-fe15-46e0-b252-2fac558b6448",
   "metadata": {},
   "outputs": [
    {
     "data": {
      "text/plain": [
       "GridSearchCV(cv=4, estimator=Ridge(),\n",
       "             param_grid=[{'alpha': [0.001, 0.1, 1, 10, 100, 1000, 10000, 100000,\n",
       "                                    1000000]}])"
      ]
     },
     "execution_count": 218,
     "metadata": {},
     "output_type": "execute_result"
    }
   ],
   "source": [
    "Grid.fit(xdata[['horsepower', 'curb-weight', 'engine-size', 'highway-L/100km']], ydata)"
   ]
  },
  {
   "cell_type": "code",
   "execution_count": 219,
   "id": "183bb36f-cea5-4c97-b659-972f323bed54",
   "metadata": {},
   "outputs": [],
   "source": [
    "bestRR = Grid.best_estimator_"
   ]
  },
  {
   "cell_type": "code",
   "execution_count": 220,
   "id": "af993901-204c-4118-9ddc-9f6859f13ac8",
   "metadata": {},
   "outputs": [
    {
     "data": {
      "text/plain": [
       "Ridge(alpha=10000)"
      ]
     },
     "execution_count": 220,
     "metadata": {},
     "output_type": "execute_result"
    }
   ],
   "source": [
    "bestRR"
   ]
  },
  {
   "cell_type": "code",
   "execution_count": 221,
   "id": "43a9aa71-6588-4622-b54f-9412fd077a9e",
   "metadata": {},
   "outputs": [
    {
     "data": {
      "text/plain": [
       "0.8087836116843425"
      ]
     },
     "execution_count": 221,
     "metadata": {},
     "output_type": "execute_result"
    }
   ],
   "source": [
    "bestRR.score(xdata[['horsepower', 'curb-weight', 'engine-size', 'highway-L/100km']], ydata)"
   ]
  },
  {
   "cell_type": "code",
   "execution_count": 225,
   "id": "8894c7cd-f2aa-4613-af83-40524f527c9d",
   "metadata": {},
   "outputs": [],
   "source": [
    "parameters2 = [{'alpha':[0.001,0.1,1,10,100,1000,10000,100000,1000000],'normalize':[True,False]}]"
   ]
  },
  {
   "cell_type": "code",
   "execution_count": 226,
   "id": "0d994aeb-14d4-4f3d-9863-926c6762aefa",
   "metadata": {},
   "outputs": [],
   "source": [
    "Grid2 = GridSearchCV(Ridge(),parameters2,cv = 4)"
   ]
  },
  {
   "cell_type": "code",
   "execution_count": 227,
   "id": "45c922f1-b452-488f-aa42-c76ea7378384",
   "metadata": {
    "collapsed": true,
    "jupyter": {
     "outputs_hidden": true
    },
    "tags": []
   },
   "outputs": [
    {
     "name": "stderr",
     "output_type": "stream",
     "text": [
      "C:\\ProgramData\\Anaconda3\\lib\\site-packages\\sklearn\\linear_model\\_base.py:141: FutureWarning: 'normalize' was deprecated in version 1.0 and will be removed in 1.2.\n",
      "If you wish to scale the data, use Pipeline with a StandardScaler in a preprocessing stage. To reproduce the previous behavior:\n",
      "\n",
      "from sklearn.pipeline import make_pipeline\n",
      "\n",
      "model = make_pipeline(StandardScaler(with_mean=False), Ridge())\n",
      "\n",
      "If you wish to pass a sample_weight parameter, you need to pass it as a fit parameter to each step of the pipeline as follows:\n",
      "\n",
      "kwargs = {s[0] + '__sample_weight': sample_weight for s in model.steps}\n",
      "model.fit(X, y, **kwargs)\n",
      "\n",
      "Set parameter alpha to: original_alpha * n_samples. \n",
      "  warnings.warn(\n",
      "C:\\ProgramData\\Anaconda3\\lib\\site-packages\\sklearn\\linear_model\\_base.py:141: FutureWarning: 'normalize' was deprecated in version 1.0 and will be removed in 1.2.\n",
      "If you wish to scale the data, use Pipeline with a StandardScaler in a preprocessing stage. To reproduce the previous behavior:\n",
      "\n",
      "from sklearn.pipeline import make_pipeline\n",
      "\n",
      "model = make_pipeline(StandardScaler(with_mean=False), Ridge())\n",
      "\n",
      "If you wish to pass a sample_weight parameter, you need to pass it as a fit parameter to each step of the pipeline as follows:\n",
      "\n",
      "kwargs = {s[0] + '__sample_weight': sample_weight for s in model.steps}\n",
      "model.fit(X, y, **kwargs)\n",
      "\n",
      "Set parameter alpha to: original_alpha * n_samples. \n",
      "  warnings.warn(\n",
      "C:\\ProgramData\\Anaconda3\\lib\\site-packages\\sklearn\\linear_model\\_base.py:141: FutureWarning: 'normalize' was deprecated in version 1.0 and will be removed in 1.2.\n",
      "If you wish to scale the data, use Pipeline with a StandardScaler in a preprocessing stage. To reproduce the previous behavior:\n",
      "\n",
      "from sklearn.pipeline import make_pipeline\n",
      "\n",
      "model = make_pipeline(StandardScaler(with_mean=False), Ridge())\n",
      "\n",
      "If you wish to pass a sample_weight parameter, you need to pass it as a fit parameter to each step of the pipeline as follows:\n",
      "\n",
      "kwargs = {s[0] + '__sample_weight': sample_weight for s in model.steps}\n",
      "model.fit(X, y, **kwargs)\n",
      "\n",
      "Set parameter alpha to: original_alpha * n_samples. \n",
      "  warnings.warn(\n",
      "C:\\ProgramData\\Anaconda3\\lib\\site-packages\\sklearn\\linear_model\\_base.py:141: FutureWarning: 'normalize' was deprecated in version 1.0 and will be removed in 1.2.\n",
      "If you wish to scale the data, use Pipeline with a StandardScaler in a preprocessing stage. To reproduce the previous behavior:\n",
      "\n",
      "from sklearn.pipeline import make_pipeline\n",
      "\n",
      "model = make_pipeline(StandardScaler(with_mean=False), Ridge())\n",
      "\n",
      "If you wish to pass a sample_weight parameter, you need to pass it as a fit parameter to each step of the pipeline as follows:\n",
      "\n",
      "kwargs = {s[0] + '__sample_weight': sample_weight for s in model.steps}\n",
      "model.fit(X, y, **kwargs)\n",
      "\n",
      "Set parameter alpha to: original_alpha * n_samples. \n",
      "  warnings.warn(\n",
      "C:\\ProgramData\\Anaconda3\\lib\\site-packages\\sklearn\\linear_model\\_base.py:148: FutureWarning: 'normalize' was deprecated in version 1.0 and will be removed in 1.2. Please leave the normalize parameter to its default value to silence this warning. The default behavior of this estimator is to not do any normalization. If normalization is needed please use sklearn.preprocessing.StandardScaler instead.\n",
      "  warnings.warn(\n",
      "C:\\ProgramData\\Anaconda3\\lib\\site-packages\\sklearn\\linear_model\\_base.py:148: FutureWarning: 'normalize' was deprecated in version 1.0 and will be removed in 1.2. Please leave the normalize parameter to its default value to silence this warning. The default behavior of this estimator is to not do any normalization. If normalization is needed please use sklearn.preprocessing.StandardScaler instead.\n",
      "  warnings.warn(\n",
      "C:\\ProgramData\\Anaconda3\\lib\\site-packages\\sklearn\\linear_model\\_base.py:148: FutureWarning: 'normalize' was deprecated in version 1.0 and will be removed in 1.2. Please leave the normalize parameter to its default value to silence this warning. The default behavior of this estimator is to not do any normalization. If normalization is needed please use sklearn.preprocessing.StandardScaler instead.\n",
      "  warnings.warn(\n",
      "C:\\ProgramData\\Anaconda3\\lib\\site-packages\\sklearn\\linear_model\\_base.py:148: FutureWarning: 'normalize' was deprecated in version 1.0 and will be removed in 1.2. Please leave the normalize parameter to its default value to silence this warning. The default behavior of this estimator is to not do any normalization. If normalization is needed please use sklearn.preprocessing.StandardScaler instead.\n",
      "  warnings.warn(\n",
      "C:\\ProgramData\\Anaconda3\\lib\\site-packages\\sklearn\\linear_model\\_base.py:141: FutureWarning: 'normalize' was deprecated in version 1.0 and will be removed in 1.2.\n",
      "If you wish to scale the data, use Pipeline with a StandardScaler in a preprocessing stage. To reproduce the previous behavior:\n",
      "\n",
      "from sklearn.pipeline import make_pipeline\n",
      "\n",
      "model = make_pipeline(StandardScaler(with_mean=False), Ridge())\n",
      "\n",
      "If you wish to pass a sample_weight parameter, you need to pass it as a fit parameter to each step of the pipeline as follows:\n",
      "\n",
      "kwargs = {s[0] + '__sample_weight': sample_weight for s in model.steps}\n",
      "model.fit(X, y, **kwargs)\n",
      "\n",
      "Set parameter alpha to: original_alpha * n_samples. \n",
      "  warnings.warn(\n",
      "C:\\ProgramData\\Anaconda3\\lib\\site-packages\\sklearn\\linear_model\\_base.py:141: FutureWarning: 'normalize' was deprecated in version 1.0 and will be removed in 1.2.\n",
      "If you wish to scale the data, use Pipeline with a StandardScaler in a preprocessing stage. To reproduce the previous behavior:\n",
      "\n",
      "from sklearn.pipeline import make_pipeline\n",
      "\n",
      "model = make_pipeline(StandardScaler(with_mean=False), Ridge())\n",
      "\n",
      "If you wish to pass a sample_weight parameter, you need to pass it as a fit parameter to each step of the pipeline as follows:\n",
      "\n",
      "kwargs = {s[0] + '__sample_weight': sample_weight for s in model.steps}\n",
      "model.fit(X, y, **kwargs)\n",
      "\n",
      "Set parameter alpha to: original_alpha * n_samples. \n",
      "  warnings.warn(\n",
      "C:\\ProgramData\\Anaconda3\\lib\\site-packages\\sklearn\\linear_model\\_base.py:141: FutureWarning: 'normalize' was deprecated in version 1.0 and will be removed in 1.2.\n",
      "If you wish to scale the data, use Pipeline with a StandardScaler in a preprocessing stage. To reproduce the previous behavior:\n",
      "\n",
      "from sklearn.pipeline import make_pipeline\n",
      "\n",
      "model = make_pipeline(StandardScaler(with_mean=False), Ridge())\n",
      "\n",
      "If you wish to pass a sample_weight parameter, you need to pass it as a fit parameter to each step of the pipeline as follows:\n",
      "\n",
      "kwargs = {s[0] + '__sample_weight': sample_weight for s in model.steps}\n",
      "model.fit(X, y, **kwargs)\n",
      "\n",
      "Set parameter alpha to: original_alpha * n_samples. \n",
      "  warnings.warn(\n",
      "C:\\ProgramData\\Anaconda3\\lib\\site-packages\\sklearn\\linear_model\\_base.py:141: FutureWarning: 'normalize' was deprecated in version 1.0 and will be removed in 1.2.\n",
      "If you wish to scale the data, use Pipeline with a StandardScaler in a preprocessing stage. To reproduce the previous behavior:\n",
      "\n",
      "from sklearn.pipeline import make_pipeline\n",
      "\n",
      "model = make_pipeline(StandardScaler(with_mean=False), Ridge())\n",
      "\n",
      "If you wish to pass a sample_weight parameter, you need to pass it as a fit parameter to each step of the pipeline as follows:\n",
      "\n",
      "kwargs = {s[0] + '__sample_weight': sample_weight for s in model.steps}\n",
      "model.fit(X, y, **kwargs)\n",
      "\n",
      "Set parameter alpha to: original_alpha * n_samples. \n",
      "  warnings.warn(\n",
      "C:\\ProgramData\\Anaconda3\\lib\\site-packages\\sklearn\\linear_model\\_base.py:148: FutureWarning: 'normalize' was deprecated in version 1.0 and will be removed in 1.2. Please leave the normalize parameter to its default value to silence this warning. The default behavior of this estimator is to not do any normalization. If normalization is needed please use sklearn.preprocessing.StandardScaler instead.\n",
      "  warnings.warn(\n",
      "C:\\ProgramData\\Anaconda3\\lib\\site-packages\\sklearn\\linear_model\\_base.py:148: FutureWarning: 'normalize' was deprecated in version 1.0 and will be removed in 1.2. Please leave the normalize parameter to its default value to silence this warning. The default behavior of this estimator is to not do any normalization. If normalization is needed please use sklearn.preprocessing.StandardScaler instead.\n",
      "  warnings.warn(\n",
      "C:\\ProgramData\\Anaconda3\\lib\\site-packages\\sklearn\\linear_model\\_base.py:148: FutureWarning: 'normalize' was deprecated in version 1.0 and will be removed in 1.2. Please leave the normalize parameter to its default value to silence this warning. The default behavior of this estimator is to not do any normalization. If normalization is needed please use sklearn.preprocessing.StandardScaler instead.\n",
      "  warnings.warn(\n",
      "C:\\ProgramData\\Anaconda3\\lib\\site-packages\\sklearn\\linear_model\\_base.py:148: FutureWarning: 'normalize' was deprecated in version 1.0 and will be removed in 1.2. Please leave the normalize parameter to its default value to silence this warning. The default behavior of this estimator is to not do any normalization. If normalization is needed please use sklearn.preprocessing.StandardScaler instead.\n",
      "  warnings.warn(\n",
      "C:\\ProgramData\\Anaconda3\\lib\\site-packages\\sklearn\\linear_model\\_base.py:141: FutureWarning: 'normalize' was deprecated in version 1.0 and will be removed in 1.2.\n",
      "If you wish to scale the data, use Pipeline with a StandardScaler in a preprocessing stage. To reproduce the previous behavior:\n",
      "\n",
      "from sklearn.pipeline import make_pipeline\n",
      "\n",
      "model = make_pipeline(StandardScaler(with_mean=False), Ridge())\n",
      "\n",
      "If you wish to pass a sample_weight parameter, you need to pass it as a fit parameter to each step of the pipeline as follows:\n",
      "\n",
      "kwargs = {s[0] + '__sample_weight': sample_weight for s in model.steps}\n",
      "model.fit(X, y, **kwargs)\n",
      "\n",
      "Set parameter alpha to: original_alpha * n_samples. \n",
      "  warnings.warn(\n",
      "C:\\ProgramData\\Anaconda3\\lib\\site-packages\\sklearn\\linear_model\\_base.py:141: FutureWarning: 'normalize' was deprecated in version 1.0 and will be removed in 1.2.\n",
      "If you wish to scale the data, use Pipeline with a StandardScaler in a preprocessing stage. To reproduce the previous behavior:\n",
      "\n",
      "from sklearn.pipeline import make_pipeline\n",
      "\n",
      "model = make_pipeline(StandardScaler(with_mean=False), Ridge())\n",
      "\n",
      "If you wish to pass a sample_weight parameter, you need to pass it as a fit parameter to each step of the pipeline as follows:\n",
      "\n",
      "kwargs = {s[0] + '__sample_weight': sample_weight for s in model.steps}\n",
      "model.fit(X, y, **kwargs)\n",
      "\n",
      "Set parameter alpha to: original_alpha * n_samples. \n",
      "  warnings.warn(\n",
      "C:\\ProgramData\\Anaconda3\\lib\\site-packages\\sklearn\\linear_model\\_base.py:141: FutureWarning: 'normalize' was deprecated in version 1.0 and will be removed in 1.2.\n",
      "If you wish to scale the data, use Pipeline with a StandardScaler in a preprocessing stage. To reproduce the previous behavior:\n",
      "\n",
      "from sklearn.pipeline import make_pipeline\n",
      "\n",
      "model = make_pipeline(StandardScaler(with_mean=False), Ridge())\n",
      "\n",
      "If you wish to pass a sample_weight parameter, you need to pass it as a fit parameter to each step of the pipeline as follows:\n",
      "\n",
      "kwargs = {s[0] + '__sample_weight': sample_weight for s in model.steps}\n",
      "model.fit(X, y, **kwargs)\n",
      "\n",
      "Set parameter alpha to: original_alpha * n_samples. \n",
      "  warnings.warn(\n",
      "C:\\ProgramData\\Anaconda3\\lib\\site-packages\\sklearn\\linear_model\\_base.py:141: FutureWarning: 'normalize' was deprecated in version 1.0 and will be removed in 1.2.\n",
      "If you wish to scale the data, use Pipeline with a StandardScaler in a preprocessing stage. To reproduce the previous behavior:\n",
      "\n",
      "from sklearn.pipeline import make_pipeline\n",
      "\n",
      "model = make_pipeline(StandardScaler(with_mean=False), Ridge())\n",
      "\n",
      "If you wish to pass a sample_weight parameter, you need to pass it as a fit parameter to each step of the pipeline as follows:\n",
      "\n",
      "kwargs = {s[0] + '__sample_weight': sample_weight for s in model.steps}\n",
      "model.fit(X, y, **kwargs)\n",
      "\n",
      "Set parameter alpha to: original_alpha * n_samples. \n",
      "  warnings.warn(\n",
      "C:\\ProgramData\\Anaconda3\\lib\\site-packages\\sklearn\\linear_model\\_base.py:148: FutureWarning: 'normalize' was deprecated in version 1.0 and will be removed in 1.2. Please leave the normalize parameter to its default value to silence this warning. The default behavior of this estimator is to not do any normalization. If normalization is needed please use sklearn.preprocessing.StandardScaler instead.\n",
      "  warnings.warn(\n",
      "C:\\ProgramData\\Anaconda3\\lib\\site-packages\\sklearn\\linear_model\\_base.py:148: FutureWarning: 'normalize' was deprecated in version 1.0 and will be removed in 1.2. Please leave the normalize parameter to its default value to silence this warning. The default behavior of this estimator is to not do any normalization. If normalization is needed please use sklearn.preprocessing.StandardScaler instead.\n",
      "  warnings.warn(\n",
      "C:\\ProgramData\\Anaconda3\\lib\\site-packages\\sklearn\\linear_model\\_base.py:148: FutureWarning: 'normalize' was deprecated in version 1.0 and will be removed in 1.2. Please leave the normalize parameter to its default value to silence this warning. The default behavior of this estimator is to not do any normalization. If normalization is needed please use sklearn.preprocessing.StandardScaler instead.\n",
      "  warnings.warn(\n",
      "C:\\ProgramData\\Anaconda3\\lib\\site-packages\\sklearn\\linear_model\\_base.py:148: FutureWarning: 'normalize' was deprecated in version 1.0 and will be removed in 1.2. Please leave the normalize parameter to its default value to silence this warning. The default behavior of this estimator is to not do any normalization. If normalization is needed please use sklearn.preprocessing.StandardScaler instead.\n",
      "  warnings.warn(\n",
      "C:\\ProgramData\\Anaconda3\\lib\\site-packages\\sklearn\\linear_model\\_base.py:141: FutureWarning: 'normalize' was deprecated in version 1.0 and will be removed in 1.2.\n",
      "If you wish to scale the data, use Pipeline with a StandardScaler in a preprocessing stage. To reproduce the previous behavior:\n",
      "\n",
      "from sklearn.pipeline import make_pipeline\n",
      "\n",
      "model = make_pipeline(StandardScaler(with_mean=False), Ridge())\n",
      "\n",
      "If you wish to pass a sample_weight parameter, you need to pass it as a fit parameter to each step of the pipeline as follows:\n",
      "\n",
      "kwargs = {s[0] + '__sample_weight': sample_weight for s in model.steps}\n",
      "model.fit(X, y, **kwargs)\n",
      "\n",
      "Set parameter alpha to: original_alpha * n_samples. \n",
      "  warnings.warn(\n",
      "C:\\ProgramData\\Anaconda3\\lib\\site-packages\\sklearn\\linear_model\\_base.py:141: FutureWarning: 'normalize' was deprecated in version 1.0 and will be removed in 1.2.\n",
      "If you wish to scale the data, use Pipeline with a StandardScaler in a preprocessing stage. To reproduce the previous behavior:\n",
      "\n",
      "from sklearn.pipeline import make_pipeline\n",
      "\n",
      "model = make_pipeline(StandardScaler(with_mean=False), Ridge())\n",
      "\n",
      "If you wish to pass a sample_weight parameter, you need to pass it as a fit parameter to each step of the pipeline as follows:\n",
      "\n",
      "kwargs = {s[0] + '__sample_weight': sample_weight for s in model.steps}\n",
      "model.fit(X, y, **kwargs)\n",
      "\n",
      "Set parameter alpha to: original_alpha * n_samples. \n",
      "  warnings.warn(\n",
      "C:\\ProgramData\\Anaconda3\\lib\\site-packages\\sklearn\\linear_model\\_base.py:141: FutureWarning: 'normalize' was deprecated in version 1.0 and will be removed in 1.2.\n",
      "If you wish to scale the data, use Pipeline with a StandardScaler in a preprocessing stage. To reproduce the previous behavior:\n",
      "\n",
      "from sklearn.pipeline import make_pipeline\n",
      "\n",
      "model = make_pipeline(StandardScaler(with_mean=False), Ridge())\n",
      "\n",
      "If you wish to pass a sample_weight parameter, you need to pass it as a fit parameter to each step of the pipeline as follows:\n",
      "\n",
      "kwargs = {s[0] + '__sample_weight': sample_weight for s in model.steps}\n",
      "model.fit(X, y, **kwargs)\n",
      "\n",
      "Set parameter alpha to: original_alpha * n_samples. \n",
      "  warnings.warn(\n",
      "C:\\ProgramData\\Anaconda3\\lib\\site-packages\\sklearn\\linear_model\\_base.py:141: FutureWarning: 'normalize' was deprecated in version 1.0 and will be removed in 1.2.\n",
      "If you wish to scale the data, use Pipeline with a StandardScaler in a preprocessing stage. To reproduce the previous behavior:\n",
      "\n",
      "from sklearn.pipeline import make_pipeline\n",
      "\n",
      "model = make_pipeline(StandardScaler(with_mean=False), Ridge())\n",
      "\n",
      "If you wish to pass a sample_weight parameter, you need to pass it as a fit parameter to each step of the pipeline as follows:\n",
      "\n",
      "kwargs = {s[0] + '__sample_weight': sample_weight for s in model.steps}\n",
      "model.fit(X, y, **kwargs)\n",
      "\n",
      "Set parameter alpha to: original_alpha * n_samples. \n",
      "  warnings.warn(\n",
      "C:\\ProgramData\\Anaconda3\\lib\\site-packages\\sklearn\\linear_model\\_base.py:148: FutureWarning: 'normalize' was deprecated in version 1.0 and will be removed in 1.2. Please leave the normalize parameter to its default value to silence this warning. The default behavior of this estimator is to not do any normalization. If normalization is needed please use sklearn.preprocessing.StandardScaler instead.\n",
      "  warnings.warn(\n",
      "C:\\ProgramData\\Anaconda3\\lib\\site-packages\\sklearn\\linear_model\\_base.py:148: FutureWarning: 'normalize' was deprecated in version 1.0 and will be removed in 1.2. Please leave the normalize parameter to its default value to silence this warning. The default behavior of this estimator is to not do any normalization. If normalization is needed please use sklearn.preprocessing.StandardScaler instead.\n",
      "  warnings.warn(\n",
      "C:\\ProgramData\\Anaconda3\\lib\\site-packages\\sklearn\\linear_model\\_base.py:148: FutureWarning: 'normalize' was deprecated in version 1.0 and will be removed in 1.2. Please leave the normalize parameter to its default value to silence this warning. The default behavior of this estimator is to not do any normalization. If normalization is needed please use sklearn.preprocessing.StandardScaler instead.\n",
      "  warnings.warn(\n",
      "C:\\ProgramData\\Anaconda3\\lib\\site-packages\\sklearn\\linear_model\\_base.py:148: FutureWarning: 'normalize' was deprecated in version 1.0 and will be removed in 1.2. Please leave the normalize parameter to its default value to silence this warning. The default behavior of this estimator is to not do any normalization. If normalization is needed please use sklearn.preprocessing.StandardScaler instead.\n",
      "  warnings.warn(\n",
      "C:\\ProgramData\\Anaconda3\\lib\\site-packages\\sklearn\\linear_model\\_base.py:141: FutureWarning: 'normalize' was deprecated in version 1.0 and will be removed in 1.2.\n",
      "If you wish to scale the data, use Pipeline with a StandardScaler in a preprocessing stage. To reproduce the previous behavior:\n",
      "\n",
      "from sklearn.pipeline import make_pipeline\n",
      "\n",
      "model = make_pipeline(StandardScaler(with_mean=False), Ridge())\n",
      "\n",
      "If you wish to pass a sample_weight parameter, you need to pass it as a fit parameter to each step of the pipeline as follows:\n",
      "\n",
      "kwargs = {s[0] + '__sample_weight': sample_weight for s in model.steps}\n",
      "model.fit(X, y, **kwargs)\n",
      "\n",
      "Set parameter alpha to: original_alpha * n_samples. \n",
      "  warnings.warn(\n",
      "C:\\ProgramData\\Anaconda3\\lib\\site-packages\\sklearn\\linear_model\\_base.py:141: FutureWarning: 'normalize' was deprecated in version 1.0 and will be removed in 1.2.\n",
      "If you wish to scale the data, use Pipeline with a StandardScaler in a preprocessing stage. To reproduce the previous behavior:\n",
      "\n",
      "from sklearn.pipeline import make_pipeline\n",
      "\n",
      "model = make_pipeline(StandardScaler(with_mean=False), Ridge())\n",
      "\n",
      "If you wish to pass a sample_weight parameter, you need to pass it as a fit parameter to each step of the pipeline as follows:\n",
      "\n",
      "kwargs = {s[0] + '__sample_weight': sample_weight for s in model.steps}\n",
      "model.fit(X, y, **kwargs)\n",
      "\n",
      "Set parameter alpha to: original_alpha * n_samples. \n",
      "  warnings.warn(\n",
      "C:\\ProgramData\\Anaconda3\\lib\\site-packages\\sklearn\\linear_model\\_base.py:141: FutureWarning: 'normalize' was deprecated in version 1.0 and will be removed in 1.2.\n",
      "If you wish to scale the data, use Pipeline with a StandardScaler in a preprocessing stage. To reproduce the previous behavior:\n",
      "\n",
      "from sklearn.pipeline import make_pipeline\n",
      "\n",
      "model = make_pipeline(StandardScaler(with_mean=False), Ridge())\n",
      "\n",
      "If you wish to pass a sample_weight parameter, you need to pass it as a fit parameter to each step of the pipeline as follows:\n",
      "\n",
      "kwargs = {s[0] + '__sample_weight': sample_weight for s in model.steps}\n",
      "model.fit(X, y, **kwargs)\n",
      "\n",
      "Set parameter alpha to: original_alpha * n_samples. \n",
      "  warnings.warn(\n",
      "C:\\ProgramData\\Anaconda3\\lib\\site-packages\\sklearn\\linear_model\\_base.py:141: FutureWarning: 'normalize' was deprecated in version 1.0 and will be removed in 1.2.\n",
      "If you wish to scale the data, use Pipeline with a StandardScaler in a preprocessing stage. To reproduce the previous behavior:\n",
      "\n",
      "from sklearn.pipeline import make_pipeline\n",
      "\n",
      "model = make_pipeline(StandardScaler(with_mean=False), Ridge())\n",
      "\n",
      "If you wish to pass a sample_weight parameter, you need to pass it as a fit parameter to each step of the pipeline as follows:\n",
      "\n",
      "kwargs = {s[0] + '__sample_weight': sample_weight for s in model.steps}\n",
      "model.fit(X, y, **kwargs)\n",
      "\n",
      "Set parameter alpha to: original_alpha * n_samples. \n",
      "  warnings.warn(\n",
      "C:\\ProgramData\\Anaconda3\\lib\\site-packages\\sklearn\\linear_model\\_base.py:148: FutureWarning: 'normalize' was deprecated in version 1.0 and will be removed in 1.2. Please leave the normalize parameter to its default value to silence this warning. The default behavior of this estimator is to not do any normalization. If normalization is needed please use sklearn.preprocessing.StandardScaler instead.\n",
      "  warnings.warn(\n",
      "C:\\ProgramData\\Anaconda3\\lib\\site-packages\\sklearn\\linear_model\\_base.py:148: FutureWarning: 'normalize' was deprecated in version 1.0 and will be removed in 1.2. Please leave the normalize parameter to its default value to silence this warning. The default behavior of this estimator is to not do any normalization. If normalization is needed please use sklearn.preprocessing.StandardScaler instead.\n",
      "  warnings.warn(\n",
      "C:\\ProgramData\\Anaconda3\\lib\\site-packages\\sklearn\\linear_model\\_base.py:148: FutureWarning: 'normalize' was deprecated in version 1.0 and will be removed in 1.2. Please leave the normalize parameter to its default value to silence this warning. The default behavior of this estimator is to not do any normalization. If normalization is needed please use sklearn.preprocessing.StandardScaler instead.\n",
      "  warnings.warn(\n",
      "C:\\ProgramData\\Anaconda3\\lib\\site-packages\\sklearn\\linear_model\\_base.py:148: FutureWarning: 'normalize' was deprecated in version 1.0 and will be removed in 1.2. Please leave the normalize parameter to its default value to silence this warning. The default behavior of this estimator is to not do any normalization. If normalization is needed please use sklearn.preprocessing.StandardScaler instead.\n",
      "  warnings.warn(\n",
      "C:\\ProgramData\\Anaconda3\\lib\\site-packages\\sklearn\\linear_model\\_base.py:141: FutureWarning: 'normalize' was deprecated in version 1.0 and will be removed in 1.2.\n",
      "If you wish to scale the data, use Pipeline with a StandardScaler in a preprocessing stage. To reproduce the previous behavior:\n",
      "\n",
      "from sklearn.pipeline import make_pipeline\n",
      "\n",
      "model = make_pipeline(StandardScaler(with_mean=False), Ridge())\n",
      "\n",
      "If you wish to pass a sample_weight parameter, you need to pass it as a fit parameter to each step of the pipeline as follows:\n",
      "\n",
      "kwargs = {s[0] + '__sample_weight': sample_weight for s in model.steps}\n",
      "model.fit(X, y, **kwargs)\n",
      "\n",
      "Set parameter alpha to: original_alpha * n_samples. \n",
      "  warnings.warn(\n",
      "C:\\ProgramData\\Anaconda3\\lib\\site-packages\\sklearn\\linear_model\\_base.py:141: FutureWarning: 'normalize' was deprecated in version 1.0 and will be removed in 1.2.\n",
      "If you wish to scale the data, use Pipeline with a StandardScaler in a preprocessing stage. To reproduce the previous behavior:\n",
      "\n",
      "from sklearn.pipeline import make_pipeline\n",
      "\n",
      "model = make_pipeline(StandardScaler(with_mean=False), Ridge())\n",
      "\n",
      "If you wish to pass a sample_weight parameter, you need to pass it as a fit parameter to each step of the pipeline as follows:\n",
      "\n",
      "kwargs = {s[0] + '__sample_weight': sample_weight for s in model.steps}\n",
      "model.fit(X, y, **kwargs)\n",
      "\n",
      "Set parameter alpha to: original_alpha * n_samples. \n",
      "  warnings.warn(\n",
      "C:\\ProgramData\\Anaconda3\\lib\\site-packages\\sklearn\\linear_model\\_base.py:141: FutureWarning: 'normalize' was deprecated in version 1.0 and will be removed in 1.2.\n",
      "If you wish to scale the data, use Pipeline with a StandardScaler in a preprocessing stage. To reproduce the previous behavior:\n",
      "\n",
      "from sklearn.pipeline import make_pipeline\n",
      "\n",
      "model = make_pipeline(StandardScaler(with_mean=False), Ridge())\n",
      "\n",
      "If you wish to pass a sample_weight parameter, you need to pass it as a fit parameter to each step of the pipeline as follows:\n",
      "\n",
      "kwargs = {s[0] + '__sample_weight': sample_weight for s in model.steps}\n",
      "model.fit(X, y, **kwargs)\n",
      "\n",
      "Set parameter alpha to: original_alpha * n_samples. \n",
      "  warnings.warn(\n",
      "C:\\ProgramData\\Anaconda3\\lib\\site-packages\\sklearn\\linear_model\\_base.py:141: FutureWarning: 'normalize' was deprecated in version 1.0 and will be removed in 1.2.\n",
      "If you wish to scale the data, use Pipeline with a StandardScaler in a preprocessing stage. To reproduce the previous behavior:\n",
      "\n",
      "from sklearn.pipeline import make_pipeline\n",
      "\n",
      "model = make_pipeline(StandardScaler(with_mean=False), Ridge())\n",
      "\n",
      "If you wish to pass a sample_weight parameter, you need to pass it as a fit parameter to each step of the pipeline as follows:\n",
      "\n",
      "kwargs = {s[0] + '__sample_weight': sample_weight for s in model.steps}\n",
      "model.fit(X, y, **kwargs)\n",
      "\n",
      "Set parameter alpha to: original_alpha * n_samples. \n",
      "  warnings.warn(\n",
      "C:\\ProgramData\\Anaconda3\\lib\\site-packages\\sklearn\\linear_model\\_base.py:148: FutureWarning: 'normalize' was deprecated in version 1.0 and will be removed in 1.2. Please leave the normalize parameter to its default value to silence this warning. The default behavior of this estimator is to not do any normalization. If normalization is needed please use sklearn.preprocessing.StandardScaler instead.\n",
      "  warnings.warn(\n",
      "C:\\ProgramData\\Anaconda3\\lib\\site-packages\\sklearn\\linear_model\\_base.py:148: FutureWarning: 'normalize' was deprecated in version 1.0 and will be removed in 1.2. Please leave the normalize parameter to its default value to silence this warning. The default behavior of this estimator is to not do any normalization. If normalization is needed please use sklearn.preprocessing.StandardScaler instead.\n",
      "  warnings.warn(\n",
      "C:\\ProgramData\\Anaconda3\\lib\\site-packages\\sklearn\\linear_model\\_base.py:148: FutureWarning: 'normalize' was deprecated in version 1.0 and will be removed in 1.2. Please leave the normalize parameter to its default value to silence this warning. The default behavior of this estimator is to not do any normalization. If normalization is needed please use sklearn.preprocessing.StandardScaler instead.\n",
      "  warnings.warn(\n",
      "C:\\ProgramData\\Anaconda3\\lib\\site-packages\\sklearn\\linear_model\\_base.py:148: FutureWarning: 'normalize' was deprecated in version 1.0 and will be removed in 1.2. Please leave the normalize parameter to its default value to silence this warning. The default behavior of this estimator is to not do any normalization. If normalization is needed please use sklearn.preprocessing.StandardScaler instead.\n",
      "  warnings.warn(\n",
      "C:\\ProgramData\\Anaconda3\\lib\\site-packages\\sklearn\\linear_model\\_base.py:141: FutureWarning: 'normalize' was deprecated in version 1.0 and will be removed in 1.2.\n",
      "If you wish to scale the data, use Pipeline with a StandardScaler in a preprocessing stage. To reproduce the previous behavior:\n",
      "\n",
      "from sklearn.pipeline import make_pipeline\n",
      "\n",
      "model = make_pipeline(StandardScaler(with_mean=False), Ridge())\n",
      "\n",
      "If you wish to pass a sample_weight parameter, you need to pass it as a fit parameter to each step of the pipeline as follows:\n",
      "\n",
      "kwargs = {s[0] + '__sample_weight': sample_weight for s in model.steps}\n",
      "model.fit(X, y, **kwargs)\n",
      "\n",
      "Set parameter alpha to: original_alpha * n_samples. \n",
      "  warnings.warn(\n",
      "C:\\ProgramData\\Anaconda3\\lib\\site-packages\\sklearn\\linear_model\\_base.py:141: FutureWarning: 'normalize' was deprecated in version 1.0 and will be removed in 1.2.\n",
      "If you wish to scale the data, use Pipeline with a StandardScaler in a preprocessing stage. To reproduce the previous behavior:\n",
      "\n",
      "from sklearn.pipeline import make_pipeline\n",
      "\n",
      "model = make_pipeline(StandardScaler(with_mean=False), Ridge())\n",
      "\n",
      "If you wish to pass a sample_weight parameter, you need to pass it as a fit parameter to each step of the pipeline as follows:\n",
      "\n",
      "kwargs = {s[0] + '__sample_weight': sample_weight for s in model.steps}\n",
      "model.fit(X, y, **kwargs)\n",
      "\n",
      "Set parameter alpha to: original_alpha * n_samples. \n",
      "  warnings.warn(\n",
      "C:\\ProgramData\\Anaconda3\\lib\\site-packages\\sklearn\\linear_model\\_base.py:141: FutureWarning: 'normalize' was deprecated in version 1.0 and will be removed in 1.2.\n",
      "If you wish to scale the data, use Pipeline with a StandardScaler in a preprocessing stage. To reproduce the previous behavior:\n",
      "\n",
      "from sklearn.pipeline import make_pipeline\n",
      "\n",
      "model = make_pipeline(StandardScaler(with_mean=False), Ridge())\n",
      "\n",
      "If you wish to pass a sample_weight parameter, you need to pass it as a fit parameter to each step of the pipeline as follows:\n",
      "\n",
      "kwargs = {s[0] + '__sample_weight': sample_weight for s in model.steps}\n",
      "model.fit(X, y, **kwargs)\n",
      "\n",
      "Set parameter alpha to: original_alpha * n_samples. \n",
      "  warnings.warn(\n",
      "C:\\ProgramData\\Anaconda3\\lib\\site-packages\\sklearn\\linear_model\\_base.py:141: FutureWarning: 'normalize' was deprecated in version 1.0 and will be removed in 1.2.\n",
      "If you wish to scale the data, use Pipeline with a StandardScaler in a preprocessing stage. To reproduce the previous behavior:\n",
      "\n",
      "from sklearn.pipeline import make_pipeline\n",
      "\n",
      "model = make_pipeline(StandardScaler(with_mean=False), Ridge())\n",
      "\n",
      "If you wish to pass a sample_weight parameter, you need to pass it as a fit parameter to each step of the pipeline as follows:\n",
      "\n",
      "kwargs = {s[0] + '__sample_weight': sample_weight for s in model.steps}\n",
      "model.fit(X, y, **kwargs)\n",
      "\n",
      "Set parameter alpha to: original_alpha * n_samples. \n",
      "  warnings.warn(\n",
      "C:\\ProgramData\\Anaconda3\\lib\\site-packages\\sklearn\\linear_model\\_base.py:148: FutureWarning: 'normalize' was deprecated in version 1.0 and will be removed in 1.2. Please leave the normalize parameter to its default value to silence this warning. The default behavior of this estimator is to not do any normalization. If normalization is needed please use sklearn.preprocessing.StandardScaler instead.\n",
      "  warnings.warn(\n",
      "C:\\ProgramData\\Anaconda3\\lib\\site-packages\\sklearn\\linear_model\\_base.py:148: FutureWarning: 'normalize' was deprecated in version 1.0 and will be removed in 1.2. Please leave the normalize parameter to its default value to silence this warning. The default behavior of this estimator is to not do any normalization. If normalization is needed please use sklearn.preprocessing.StandardScaler instead.\n",
      "  warnings.warn(\n",
      "C:\\ProgramData\\Anaconda3\\lib\\site-packages\\sklearn\\linear_model\\_base.py:148: FutureWarning: 'normalize' was deprecated in version 1.0 and will be removed in 1.2. Please leave the normalize parameter to its default value to silence this warning. The default behavior of this estimator is to not do any normalization. If normalization is needed please use sklearn.preprocessing.StandardScaler instead.\n",
      "  warnings.warn(\n",
      "C:\\ProgramData\\Anaconda3\\lib\\site-packages\\sklearn\\linear_model\\_base.py:148: FutureWarning: 'normalize' was deprecated in version 1.0 and will be removed in 1.2. Please leave the normalize parameter to its default value to silence this warning. The default behavior of this estimator is to not do any normalization. If normalization is needed please use sklearn.preprocessing.StandardScaler instead.\n",
      "  warnings.warn(\n",
      "C:\\ProgramData\\Anaconda3\\lib\\site-packages\\sklearn\\linear_model\\_base.py:141: FutureWarning: 'normalize' was deprecated in version 1.0 and will be removed in 1.2.\n",
      "If you wish to scale the data, use Pipeline with a StandardScaler in a preprocessing stage. To reproduce the previous behavior:\n",
      "\n",
      "from sklearn.pipeline import make_pipeline\n",
      "\n",
      "model = make_pipeline(StandardScaler(with_mean=False), Ridge())\n",
      "\n",
      "If you wish to pass a sample_weight parameter, you need to pass it as a fit parameter to each step of the pipeline as follows:\n",
      "\n",
      "kwargs = {s[0] + '__sample_weight': sample_weight for s in model.steps}\n",
      "model.fit(X, y, **kwargs)\n",
      "\n",
      "Set parameter alpha to: original_alpha * n_samples. \n",
      "  warnings.warn(\n",
      "C:\\ProgramData\\Anaconda3\\lib\\site-packages\\sklearn\\linear_model\\_base.py:141: FutureWarning: 'normalize' was deprecated in version 1.0 and will be removed in 1.2.\n",
      "If you wish to scale the data, use Pipeline with a StandardScaler in a preprocessing stage. To reproduce the previous behavior:\n",
      "\n",
      "from sklearn.pipeline import make_pipeline\n",
      "\n",
      "model = make_pipeline(StandardScaler(with_mean=False), Ridge())\n",
      "\n",
      "If you wish to pass a sample_weight parameter, you need to pass it as a fit parameter to each step of the pipeline as follows:\n",
      "\n",
      "kwargs = {s[0] + '__sample_weight': sample_weight for s in model.steps}\n",
      "model.fit(X, y, **kwargs)\n",
      "\n",
      "Set parameter alpha to: original_alpha * n_samples. \n",
      "  warnings.warn(\n",
      "C:\\ProgramData\\Anaconda3\\lib\\site-packages\\sklearn\\linear_model\\_base.py:141: FutureWarning: 'normalize' was deprecated in version 1.0 and will be removed in 1.2.\n",
      "If you wish to scale the data, use Pipeline with a StandardScaler in a preprocessing stage. To reproduce the previous behavior:\n",
      "\n",
      "from sklearn.pipeline import make_pipeline\n",
      "\n",
      "model = make_pipeline(StandardScaler(with_mean=False), Ridge())\n",
      "\n",
      "If you wish to pass a sample_weight parameter, you need to pass it as a fit parameter to each step of the pipeline as follows:\n",
      "\n",
      "kwargs = {s[0] + '__sample_weight': sample_weight for s in model.steps}\n",
      "model.fit(X, y, **kwargs)\n",
      "\n",
      "Set parameter alpha to: original_alpha * n_samples. \n",
      "  warnings.warn(\n",
      "C:\\ProgramData\\Anaconda3\\lib\\site-packages\\sklearn\\linear_model\\_base.py:141: FutureWarning: 'normalize' was deprecated in version 1.0 and will be removed in 1.2.\n",
      "If you wish to scale the data, use Pipeline with a StandardScaler in a preprocessing stage. To reproduce the previous behavior:\n",
      "\n",
      "from sklearn.pipeline import make_pipeline\n",
      "\n",
      "model = make_pipeline(StandardScaler(with_mean=False), Ridge())\n",
      "\n",
      "If you wish to pass a sample_weight parameter, you need to pass it as a fit parameter to each step of the pipeline as follows:\n",
      "\n",
      "kwargs = {s[0] + '__sample_weight': sample_weight for s in model.steps}\n",
      "model.fit(X, y, **kwargs)\n",
      "\n",
      "Set parameter alpha to: original_alpha * n_samples. \n",
      "  warnings.warn(\n",
      "C:\\ProgramData\\Anaconda3\\lib\\site-packages\\sklearn\\linear_model\\_base.py:148: FutureWarning: 'normalize' was deprecated in version 1.0 and will be removed in 1.2. Please leave the normalize parameter to its default value to silence this warning. The default behavior of this estimator is to not do any normalization. If normalization is needed please use sklearn.preprocessing.StandardScaler instead.\n",
      "  warnings.warn(\n",
      "C:\\ProgramData\\Anaconda3\\lib\\site-packages\\sklearn\\linear_model\\_base.py:148: FutureWarning: 'normalize' was deprecated in version 1.0 and will be removed in 1.2. Please leave the normalize parameter to its default value to silence this warning. The default behavior of this estimator is to not do any normalization. If normalization is needed please use sklearn.preprocessing.StandardScaler instead.\n",
      "  warnings.warn(\n",
      "C:\\ProgramData\\Anaconda3\\lib\\site-packages\\sklearn\\linear_model\\_base.py:148: FutureWarning: 'normalize' was deprecated in version 1.0 and will be removed in 1.2. Please leave the normalize parameter to its default value to silence this warning. The default behavior of this estimator is to not do any normalization. If normalization is needed please use sklearn.preprocessing.StandardScaler instead.\n",
      "  warnings.warn(\n",
      "C:\\ProgramData\\Anaconda3\\lib\\site-packages\\sklearn\\linear_model\\_base.py:148: FutureWarning: 'normalize' was deprecated in version 1.0 and will be removed in 1.2. Please leave the normalize parameter to its default value to silence this warning. The default behavior of this estimator is to not do any normalization. If normalization is needed please use sklearn.preprocessing.StandardScaler instead.\n",
      "  warnings.warn(\n",
      "C:\\ProgramData\\Anaconda3\\lib\\site-packages\\sklearn\\linear_model\\_base.py:141: FutureWarning: 'normalize' was deprecated in version 1.0 and will be removed in 1.2.\n",
      "If you wish to scale the data, use Pipeline with a StandardScaler in a preprocessing stage. To reproduce the previous behavior:\n",
      "\n",
      "from sklearn.pipeline import make_pipeline\n",
      "\n",
      "model = make_pipeline(StandardScaler(with_mean=False), Ridge())\n",
      "\n",
      "If you wish to pass a sample_weight parameter, you need to pass it as a fit parameter to each step of the pipeline as follows:\n",
      "\n",
      "kwargs = {s[0] + '__sample_weight': sample_weight for s in model.steps}\n",
      "model.fit(X, y, **kwargs)\n",
      "\n",
      "Set parameter alpha to: original_alpha * n_samples. \n",
      "  warnings.warn(\n",
      "C:\\ProgramData\\Anaconda3\\lib\\site-packages\\sklearn\\linear_model\\_base.py:141: FutureWarning: 'normalize' was deprecated in version 1.0 and will be removed in 1.2.\n",
      "If you wish to scale the data, use Pipeline with a StandardScaler in a preprocessing stage. To reproduce the previous behavior:\n",
      "\n",
      "from sklearn.pipeline import make_pipeline\n",
      "\n",
      "model = make_pipeline(StandardScaler(with_mean=False), Ridge())\n",
      "\n",
      "If you wish to pass a sample_weight parameter, you need to pass it as a fit parameter to each step of the pipeline as follows:\n",
      "\n",
      "kwargs = {s[0] + '__sample_weight': sample_weight for s in model.steps}\n",
      "model.fit(X, y, **kwargs)\n",
      "\n",
      "Set parameter alpha to: original_alpha * n_samples. \n",
      "  warnings.warn(\n",
      "C:\\ProgramData\\Anaconda3\\lib\\site-packages\\sklearn\\linear_model\\_base.py:141: FutureWarning: 'normalize' was deprecated in version 1.0 and will be removed in 1.2.\n",
      "If you wish to scale the data, use Pipeline with a StandardScaler in a preprocessing stage. To reproduce the previous behavior:\n",
      "\n",
      "from sklearn.pipeline import make_pipeline\n",
      "\n",
      "model = make_pipeline(StandardScaler(with_mean=False), Ridge())\n",
      "\n",
      "If you wish to pass a sample_weight parameter, you need to pass it as a fit parameter to each step of the pipeline as follows:\n",
      "\n",
      "kwargs = {s[0] + '__sample_weight': sample_weight for s in model.steps}\n",
      "model.fit(X, y, **kwargs)\n",
      "\n",
      "Set parameter alpha to: original_alpha * n_samples. \n",
      "  warnings.warn(\n",
      "C:\\ProgramData\\Anaconda3\\lib\\site-packages\\sklearn\\linear_model\\_base.py:141: FutureWarning: 'normalize' was deprecated in version 1.0 and will be removed in 1.2.\n",
      "If you wish to scale the data, use Pipeline with a StandardScaler in a preprocessing stage. To reproduce the previous behavior:\n",
      "\n",
      "from sklearn.pipeline import make_pipeline\n",
      "\n",
      "model = make_pipeline(StandardScaler(with_mean=False), Ridge())\n",
      "\n",
      "If you wish to pass a sample_weight parameter, you need to pass it as a fit parameter to each step of the pipeline as follows:\n",
      "\n",
      "kwargs = {s[0] + '__sample_weight': sample_weight for s in model.steps}\n",
      "model.fit(X, y, **kwargs)\n",
      "\n",
      "Set parameter alpha to: original_alpha * n_samples. \n",
      "  warnings.warn(\n",
      "C:\\ProgramData\\Anaconda3\\lib\\site-packages\\sklearn\\linear_model\\_base.py:148: FutureWarning: 'normalize' was deprecated in version 1.0 and will be removed in 1.2. Please leave the normalize parameter to its default value to silence this warning. The default behavior of this estimator is to not do any normalization. If normalization is needed please use sklearn.preprocessing.StandardScaler instead.\n",
      "  warnings.warn(\n",
      "C:\\ProgramData\\Anaconda3\\lib\\site-packages\\sklearn\\linear_model\\_base.py:148: FutureWarning: 'normalize' was deprecated in version 1.0 and will be removed in 1.2. Please leave the normalize parameter to its default value to silence this warning. The default behavior of this estimator is to not do any normalization. If normalization is needed please use sklearn.preprocessing.StandardScaler instead.\n",
      "  warnings.warn(\n",
      "C:\\ProgramData\\Anaconda3\\lib\\site-packages\\sklearn\\linear_model\\_base.py:148: FutureWarning: 'normalize' was deprecated in version 1.0 and will be removed in 1.2. Please leave the normalize parameter to its default value to silence this warning. The default behavior of this estimator is to not do any normalization. If normalization is needed please use sklearn.preprocessing.StandardScaler instead.\n",
      "  warnings.warn(\n",
      "C:\\ProgramData\\Anaconda3\\lib\\site-packages\\sklearn\\linear_model\\_base.py:148: FutureWarning: 'normalize' was deprecated in version 1.0 and will be removed in 1.2. Please leave the normalize parameter to its default value to silence this warning. The default behavior of this estimator is to not do any normalization. If normalization is needed please use sklearn.preprocessing.StandardScaler instead.\n",
      "  warnings.warn(\n",
      "C:\\ProgramData\\Anaconda3\\lib\\site-packages\\sklearn\\linear_model\\_base.py:141: FutureWarning: 'normalize' was deprecated in version 1.0 and will be removed in 1.2.\n",
      "If you wish to scale the data, use Pipeline with a StandardScaler in a preprocessing stage. To reproduce the previous behavior:\n",
      "\n",
      "from sklearn.pipeline import make_pipeline\n",
      "\n",
      "model = make_pipeline(StandardScaler(with_mean=False), Ridge())\n",
      "\n",
      "If you wish to pass a sample_weight parameter, you need to pass it as a fit parameter to each step of the pipeline as follows:\n",
      "\n",
      "kwargs = {s[0] + '__sample_weight': sample_weight for s in model.steps}\n",
      "model.fit(X, y, **kwargs)\n",
      "\n",
      "Set parameter alpha to: original_alpha * n_samples. \n",
      "  warnings.warn(\n"
     ]
    },
    {
     "data": {
      "text/plain": [
       "GridSearchCV(cv=4, estimator=Ridge(),\n",
       "             param_grid=[{'alpha': [0.001, 0.1, 1, 10, 100, 1000, 10000, 100000,\n",
       "                                    1000000],\n",
       "                          'normalize': [True, False]}])"
      ]
     },
     "execution_count": 227,
     "metadata": {},
     "output_type": "execute_result"
    }
   ],
   "source": [
    "Grid2.fit(xdata[['horsepower','curb-weight','engine-size','highway-L/100km']],ydata)"
   ]
  },
  {
   "cell_type": "code",
   "execution_count": 228,
   "id": "8a48aab4-d979-4530-9a91-88839bf0bd0e",
   "metadata": {},
   "outputs": [
    {
     "data": {
      "text/plain": [
       "Ridge(alpha=1, normalize=True)"
      ]
     },
     "execution_count": 228,
     "metadata": {},
     "output_type": "execute_result"
    }
   ],
   "source": [
    "Grid2.best_estimator_"
   ]
  },
  {
   "cell_type": "code",
   "execution_count": 229,
   "id": "a21c4749-e730-45b0-a7f7-7fe80c232eb4",
   "metadata": {},
   "outputs": [],
   "source": [
    "bestRR2 = Grid2.best_estimator_"
   ]
  },
  {
   "cell_type": "code",
   "execution_count": 232,
   "id": "67d7a3af-1bc4-47f8-87d3-09419d2ca6a4",
   "metadata": {},
   "outputs": [
    {
     "data": {
      "text/plain": [
       "0.6210586721872956"
      ]
     },
     "execution_count": 232,
     "metadata": {},
     "output_type": "execute_result"
    }
   ],
   "source": [
    "bestRR2.score(xtest[['horsepower', 'curb-weight', 'engine-size', 'highway-L/100km']], ytest)"
   ]
  },
  {
   "cell_type": "markdown",
   "id": "cb9936bd-6f43-42fd-8cfa-52b910044400",
   "metadata": {},
   "source": [
    "#### Thank You"
   ]
  }
 ],
 "metadata": {
  "kernelspec": {
   "display_name": "Python 3 (ipykernel)",
   "language": "python",
   "name": "python3"
  },
  "language_info": {
   "codemirror_mode": {
    "name": "ipython",
    "version": 3
   },
   "file_extension": ".py",
   "mimetype": "text/x-python",
   "name": "python",
   "nbconvert_exporter": "python",
   "pygments_lexer": "ipython3",
   "version": "3.9.13"
  }
 },
 "nbformat": 4,
 "nbformat_minor": 5
}
